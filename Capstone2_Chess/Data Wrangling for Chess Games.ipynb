{
 "cells": [
  {
   "cell_type": "code",
   "execution_count": 178,
   "metadata": {},
   "outputs": [],
   "source": [
    "import pandas as pd\n",
    "import numpy as np\n",
    "import matplotlib.pyplot as plt"
   ]
  },
  {
   "cell_type": "code",
   "execution_count": 179,
   "metadata": {},
   "outputs": [],
   "source": [
    "df = pd.read_csv('lichess_games_1.csv')"
   ]
  },
  {
   "cell_type": "code",
   "execution_count": null,
   "metadata": {},
   "outputs": [],
   "source": []
  },
  {
   "cell_type": "markdown",
   "metadata": {},
   "source": [
    "Getting rid of id, last_move_at, rated, created_at, white_id, black_id, moves as these do not help the search for finding trends in opening choices in regards to rating"
   ]
  },
  {
   "cell_type": "code",
   "execution_count": 180,
   "metadata": {},
   "outputs": [],
   "source": [
    "df.drop(columns = ['id', 'last_move_at', 'rated', 'created_at', 'white_id', 'black_id', 'moves'], inplace = True)"
   ]
  },
  {
   "cell_type": "code",
   "execution_count": 181,
   "metadata": {},
   "outputs": [],
   "source": [
    "#renaming opening_ply to opening_move_count\n",
    "df.rename(columns = {'opening_ply' :'opening_move_count'}, inplace = True)"
   ]
  },
  {
   "cell_type": "code",
   "execution_count": 182,
   "metadata": {},
   "outputs": [
    {
     "name": "stdout",
     "output_type": "stream",
     "text": [
      "<class 'pandas.core.frame.DataFrame'>\n",
      "RangeIndex: 20058 entries, 0 to 20057\n",
      "Data columns (total 9 columns):\n",
      " #   Column              Non-Null Count  Dtype \n",
      "---  ------              --------------  ----- \n",
      " 0   turns               20058 non-null  int64 \n",
      " 1   victory_status      20058 non-null  object\n",
      " 2   winner              20058 non-null  object\n",
      " 3   increment_code      20058 non-null  object\n",
      " 4   white_rating        20058 non-null  int64 \n",
      " 5   black_rating        20058 non-null  int64 \n",
      " 6   opening_eco         20058 non-null  object\n",
      " 7   opening_name        20058 non-null  object\n",
      " 8   opening_move_count  20058 non-null  int64 \n",
      "dtypes: int64(4), object(5)\n",
      "memory usage: 1.4+ MB\n"
     ]
    }
   ],
   "source": [
    "df.info()"
   ]
  },
  {
   "cell_type": "code",
   "execution_count": 183,
   "metadata": {},
   "outputs": [
    {
     "data": {
      "text/plain": [
       "10+0     7721\n",
       "15+0     1311\n",
       "15+15     850\n",
       "5+5       738\n",
       "5+8       697\n",
       "         ... \n",
       "0+30        1\n",
       "14+5        1\n",
       "12+11       1\n",
       "20+12       1\n",
       "4+12        1\n",
       "Name: increment_code, Length: 400, dtype: int64"
      ]
     },
     "execution_count": 183,
     "metadata": {},
     "output_type": "execute_result"
    }
   ],
   "source": [
    "df['increment_code'].value_counts()"
   ]
  },
  {
   "cell_type": "code",
   "execution_count": 184,
   "metadata": {},
   "outputs": [],
   "source": [
    "#there are 400 different increment codes. This is not ideal, I would like to change the different increment codes to the\n",
    "#standard language of Bullet(2min or less), Blitz(<8min) Rapid (20min or less), Classical(Longer than 20min)\n",
    "single_increment = df['increment_code'].str.split('\\+').str[0]\n",
    "df['increment_code'] = single_increment\n",
    "df['increment_code'] = df['increment_code'].astype('int')\n"
   ]
  },
  {
   "cell_type": "code",
   "execution_count": 197,
   "metadata": {},
   "outputs": [],
   "source": [
    "df['increment_code'].replace([0,1,2], 'Bullet', inplace = True)\n",
    "df['increment_code'].replace([3,4,5,6,7,8], 'Blitz', inplace = True)\n",
    "df['increment_code'].replace([9,10,11,12,13,14,15,16,17,18,19,20], 'Rapid', inplace = True)\n",
    "df['increment_code'].replace([30,40,45,25,180,60,90,150,120,35,29,21], 'Classical', inplace = True)"
   ]
  },
  {
   "cell_type": "code",
   "execution_count": 198,
   "metadata": {},
   "outputs": [
    {
     "data": {
      "text/plain": [
       "array(['Rapid', 'Blitz', 'Classical', 'Bullet'], dtype=object)"
      ]
     },
     "execution_count": 198,
     "metadata": {},
     "output_type": "execute_result"
    }
   ],
   "source": []
  },
  {
   "cell_type": "markdown",
   "metadata": {},
   "source": [
    "Turns = number of turns before a victory status was claimed\n",
    "Victory_status = outoftime, resign, mate, draw. We are mainly looking for resign, mates, and draws, however, it would also be good to know if there are particular openings that have a high outoftime percentage for a side. This may correlate to the difficulty in understanding a particular opening. However, I expect this to be stastistically insignificant.\n",
    "Winner = White, black, draw. Later on, I want to sum up the points for each opening, draws will be considered a victory at 0.5 points if the player is black only. This is because black is at a disadvantage for going second. \n",
    "Increment_code = Type of game played. According to lichess the standard language of Bullet(2min or less), Blitz(<8min) Rapid (20min or less), Classical(Longer than 20min) has been updated. This will contribute to understanding where the popular openings lie in each increment.\n",
    "White_rating, Black_rating = to determine the skill rating of the player. One of the main features we will be looking at.\n",
    "opening_eco = Each opening has a varient that has a particular code, this will require more direct research as this cannot be simplified reliably without losing some of the understanding of which openings are played. However, we can create seperate plots with and without the opening_eco for simplification.\n",
    "opening_name = This is the main feature we will be looking at comparing to the rating of the player and the winner.\n",
    "opening_move_count = this is helpful in determining the theory of the position, however, this feature may be ignored later on depending on its usefulness. \n"
   ]
  },
  {
   "cell_type": "code",
   "execution_count": 200,
   "metadata": {},
   "outputs": [],
   "source": [
    "df.to_csv('lichess_games_1_cleaned.csv')"
   ]
  },
  {
   "cell_type": "code",
   "execution_count": null,
   "metadata": {},
   "outputs": [],
   "source": []
  }
 ],
 "metadata": {
  "kernelspec": {
   "display_name": "Python 3",
   "language": "python",
   "name": "python3"
  },
  "language_info": {
   "codemirror_mode": {
    "name": "ipython",
    "version": 3
   },
   "file_extension": ".py",
   "mimetype": "text/x-python",
   "name": "python",
   "nbconvert_exporter": "python",
   "pygments_lexer": "ipython3",
   "version": "3.7.6"
  }
 },
 "nbformat": 4,
 "nbformat_minor": 4
}
