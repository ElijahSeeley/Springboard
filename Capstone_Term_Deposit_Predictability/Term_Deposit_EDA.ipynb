{
 "cells": [
  {
   "cell_type": "markdown",
   "metadata": {},
   "source": [
    "Goal of this notebook is to generate visualizations that will help portray our statistical findings while also being easy to read and ascetic.\n",
    "\n",
    "Step 1. Dig through the data and find statistically significant and interesting correlations - the messier of the EDA steps."
   ]
  },
  {
   "cell_type": "code",
   "execution_count": 1,
   "metadata": {},
   "outputs": [],
   "source": [
    "#Importing EDA type modules\n",
    "import numpy as pd\n",
    "import pandas as pd\n",
    "import matplotlib.pyplot as plt\n",
    "import seaborn as sns"
   ]
  },
  {
   "cell_type": "code",
   "execution_count": 2,
   "metadata": {},
   "outputs": [
    {
     "data": {
      "text/html": [
       "<div>\n",
       "<style scoped>\n",
       "    .dataframe tbody tr th:only-of-type {\n",
       "        vertical-align: middle;\n",
       "    }\n",
       "\n",
       "    .dataframe tbody tr th {\n",
       "        vertical-align: top;\n",
       "    }\n",
       "\n",
       "    .dataframe thead th {\n",
       "        text-align: right;\n",
       "    }\n",
       "</style>\n",
       "<table border=\"1\" class=\"dataframe\">\n",
       "  <thead>\n",
       "    <tr style=\"text-align: right;\">\n",
       "      <th></th>\n",
       "      <th>age</th>\n",
       "      <th>job</th>\n",
       "      <th>marital</th>\n",
       "      <th>education</th>\n",
       "      <th>in_default</th>\n",
       "      <th>avg_yearly_balance</th>\n",
       "      <th>housing_loan</th>\n",
       "      <th>personal_loan</th>\n",
       "      <th>contact_method</th>\n",
       "      <th>day</th>\n",
       "      <th>month</th>\n",
       "      <th>duration</th>\n",
       "      <th>campaign_contacts</th>\n",
       "      <th>prev_days</th>\n",
       "      <th>previous_contacts</th>\n",
       "      <th>prev_outcome</th>\n",
       "      <th>term_deposit</th>\n",
       "    </tr>\n",
       "  </thead>\n",
       "  <tbody>\n",
       "    <tr>\n",
       "      <th>0</th>\n",
       "      <td>58</td>\n",
       "      <td>management</td>\n",
       "      <td>married</td>\n",
       "      <td>tertiary</td>\n",
       "      <td>no</td>\n",
       "      <td>2143</td>\n",
       "      <td>yes</td>\n",
       "      <td>no</td>\n",
       "      <td>unknown</td>\n",
       "      <td>5</td>\n",
       "      <td>5</td>\n",
       "      <td>261</td>\n",
       "      <td>1</td>\n",
       "      <td>-1</td>\n",
       "      <td>0</td>\n",
       "      <td>unknown</td>\n",
       "      <td>no</td>\n",
       "    </tr>\n",
       "    <tr>\n",
       "      <th>1</th>\n",
       "      <td>44</td>\n",
       "      <td>technician</td>\n",
       "      <td>single</td>\n",
       "      <td>secondary</td>\n",
       "      <td>no</td>\n",
       "      <td>29</td>\n",
       "      <td>yes</td>\n",
       "      <td>no</td>\n",
       "      <td>unknown</td>\n",
       "      <td>5</td>\n",
       "      <td>5</td>\n",
       "      <td>151</td>\n",
       "      <td>1</td>\n",
       "      <td>-1</td>\n",
       "      <td>0</td>\n",
       "      <td>unknown</td>\n",
       "      <td>no</td>\n",
       "    </tr>\n",
       "    <tr>\n",
       "      <th>2</th>\n",
       "      <td>33</td>\n",
       "      <td>entrepreneur</td>\n",
       "      <td>married</td>\n",
       "      <td>secondary</td>\n",
       "      <td>no</td>\n",
       "      <td>2</td>\n",
       "      <td>yes</td>\n",
       "      <td>yes</td>\n",
       "      <td>unknown</td>\n",
       "      <td>5</td>\n",
       "      <td>5</td>\n",
       "      <td>76</td>\n",
       "      <td>1</td>\n",
       "      <td>-1</td>\n",
       "      <td>0</td>\n",
       "      <td>unknown</td>\n",
       "      <td>no</td>\n",
       "    </tr>\n",
       "    <tr>\n",
       "      <th>3</th>\n",
       "      <td>47</td>\n",
       "      <td>blue-collar</td>\n",
       "      <td>married</td>\n",
       "      <td>unknown</td>\n",
       "      <td>no</td>\n",
       "      <td>1506</td>\n",
       "      <td>yes</td>\n",
       "      <td>no</td>\n",
       "      <td>unknown</td>\n",
       "      <td>5</td>\n",
       "      <td>5</td>\n",
       "      <td>92</td>\n",
       "      <td>1</td>\n",
       "      <td>-1</td>\n",
       "      <td>0</td>\n",
       "      <td>unknown</td>\n",
       "      <td>no</td>\n",
       "    </tr>\n",
       "    <tr>\n",
       "      <th>4</th>\n",
       "      <td>33</td>\n",
       "      <td>unknown</td>\n",
       "      <td>single</td>\n",
       "      <td>unknown</td>\n",
       "      <td>no</td>\n",
       "      <td>1</td>\n",
       "      <td>no</td>\n",
       "      <td>no</td>\n",
       "      <td>unknown</td>\n",
       "      <td>5</td>\n",
       "      <td>5</td>\n",
       "      <td>198</td>\n",
       "      <td>1</td>\n",
       "      <td>-1</td>\n",
       "      <td>0</td>\n",
       "      <td>unknown</td>\n",
       "      <td>no</td>\n",
       "    </tr>\n",
       "  </tbody>\n",
       "</table>\n",
       "</div>"
      ],
      "text/plain": [
       "   age           job  marital  education in_default  avg_yearly_balance  \\\n",
       "0   58    management  married   tertiary         no                2143   \n",
       "1   44    technician   single  secondary         no                  29   \n",
       "2   33  entrepreneur  married  secondary         no                   2   \n",
       "3   47   blue-collar  married    unknown         no                1506   \n",
       "4   33       unknown   single    unknown         no                   1   \n",
       "\n",
       "  housing_loan personal_loan contact_method  day  month  duration  \\\n",
       "0          yes            no        unknown    5      5       261   \n",
       "1          yes            no        unknown    5      5       151   \n",
       "2          yes           yes        unknown    5      5        76   \n",
       "3          yes            no        unknown    5      5        92   \n",
       "4           no            no        unknown    5      5       198   \n",
       "\n",
       "   campaign_contacts  prev_days  previous_contacts prev_outcome term_deposit  \n",
       "0                  1         -1                  0      unknown           no  \n",
       "1                  1         -1                  0      unknown           no  \n",
       "2                  1         -1                  0      unknown           no  \n",
       "3                  1         -1                  0      unknown           no  \n",
       "4                  1         -1                  0      unknown           no  "
      ]
     },
     "execution_count": 2,
     "metadata": {},
     "output_type": "execute_result"
    }
   ],
   "source": [
    "#importing clean_df\n",
    "df = pd.read_csv('Peruvian_Bank_Data/clean_df.csv', header = 0)\n",
    "df.head()"
   ]
  },
  {
   "cell_type": "code",
   "execution_count": 3,
   "metadata": {},
   "outputs": [
    {
     "name": "stdout",
     "output_type": "stream",
     "text": [
      "Avg age of no : 40.85346751058695 \n",
      "Avg age of yes: 41.743717728055074\n"
     ]
    }
   ],
   "source": [
    "#let's start with age\n",
    "print('Avg age of no : {} \\nAvg age of yes: {}'.format(df.age.loc[df.term_deposit == 'no'].mean(), df.age.loc[df.term_deposit == 'yes'].mean()))"
   ]
  },
  {
   "cell_type": "code",
   "execution_count": 42,
   "metadata": {},
   "outputs": [
    {
     "data": {
      "text/plain": [
       "job\n",
       "management       1432\n",
       "technician        923\n",
       "blue-collar       777\n",
       "admin.            689\n",
       "retired           570\n",
       "services          407\n",
       "student           288\n",
       "unemployed        215\n",
       "self-employed     207\n",
       "entrepreneur      138\n",
       "housemaid         123\n",
       "unknown            41\n",
       "Name: term_deposit, dtype: int64"
      ]
     },
     "execution_count": 42,
     "metadata": {},
     "output_type": "execute_result"
    }
   ],
   "source": [
    "#order of jobs for both\n",
    "#yes split\n",
    "df.loc[df.term_deposit == 'yes'].set_index('job').groupby('job').count()['term_deposit'].sort_values(ascending = False)"
   ]
  },
  {
   "cell_type": "code",
   "execution_count": 43,
   "metadata": {},
   "outputs": [
    {
     "data": {
      "text/plain": [
       "job\n",
       "blue-collar      9901\n",
       "management       8995\n",
       "technician       7442\n",
       "admin.           4960\n",
       "services         4164\n",
       "retired          1924\n",
       "self-employed    1555\n",
       "entrepreneur     1517\n",
       "housemaid        1229\n",
       "unemployed       1216\n",
       "student           734\n",
       "unknown           285\n",
       "Name: term_deposit, dtype: int64"
      ]
     },
     "execution_count": 43,
     "metadata": {},
     "output_type": "execute_result"
    }
   ],
   "source": [
    "df.loc[df.term_deposit == 'no'].set_index('job').groupby('job').count()['term_deposit'].sort_values(ascending = False)"
   ]
  },
  {
   "cell_type": "code",
   "execution_count": 106,
   "metadata": {},
   "outputs": [
    {
     "name": "stdout",
     "output_type": "stream",
     "text": [
      "{'blue-collar': 0.9272, 'management': 0.8627, 'technician': 0.8897, 'admin.': 0.878, 'services': 0.911, 'retired': 0.7715, 'self-employed': 0.8825, 'entrepreneur': 0.9166, 'unemployed': 0.8498, 'housemaid': 0.909, 'student': 0.7182, 'unknown': 0.8742}\n",
      "{'blue-collar': 0.0728, 'management': 0.1373, 'technician': 0.1103, 'admin.': 0.122, 'services': 0.089, 'retired': 0.2285, 'self-employed': 0.1175, 'entrepreneur': 0.0834, 'unemployed': 0.1502, 'housemaid': 0.091, 'student': 0.2818, 'unknown': 0.1258}\n"
     ]
    }
   ],
   "source": [
    "#This gives me an idea of creating a dictionary of some percentages represented as float\n",
    "jobs_total = {}\n",
    "for idx, val in df.job.value_counts().items():\n",
    "    jobs_total[idx] = val\n",
    "jobs_yes = {}\n",
    "for idx, val in df.job.loc[df.term_deposit == 'yes'].value_counts().items():\n",
    "    jobs_yes[idx] = val\n",
    "jobs_no = {}\n",
    "for idx, val in df.job.loc[df.term_deposit == 'no'].value_counts().items():\n",
    "    jobs_no[idx] = val\n",
    "\n",
    "jobs_no_perc = {}\n",
    "jobs_yes_perc = {}\n",
    "for key in jobs_total:\n",
    "    jobs_no_perc[key] = round(jobs_no[key]/jobs_total[key], 4)\n",
    "    jobs_yes_perc[key] = round(jobs_yes[key]/jobs_total[key], 4)\n",
    "\n",
    "print(jobs_no_perc)\n",
    "\n",
    "print(jobs_yes_perc)"
   ]
  },
  {
   "cell_type": "markdown",
   "metadata": {},
   "source": [
    "Too early to make any real conclusions here, although we do see that a surprisingly high amount of students signed up for term deposits."
   ]
  },
  {
   "cell_type": "code",
   "execution_count": 102,
   "metadata": {},
   "outputs": [
    {
     "name": "stdout",
     "output_type": "stream",
     "text": [
      "Total marital data:\n",
      "married     30011\n",
      "single      13986\n",
      "divorced     5735\n",
      "Name: marital, dtype: int64\n",
      "\n",
      "Yes marital data: \n",
      "married     3032\n",
      "single      2079\n",
      "divorced     699\n",
      "Name: marital, dtype: int64\n",
      "\n",
      "No marital data: \n",
      "married     26979\n",
      "single      11907\n",
      "divorced     5036\n",
      "Name: marital, dtype: int64\n",
      "\n"
     ]
    }
   ],
   "source": [
    "#let's take a look at marital data\n",
    "\n",
    "print('Total marital data:\\n{}\\n'.format(df.marital.value_counts()))\n",
    "print('Yes marital data: \\n{}\\n'.format(df.marital.loc[df.term_deposit =='yes'].value_counts()))\n",
    "print('No marital data: \\n{}\\n'.format(df.marital.loc[df.term_deposit =='no'].value_counts()))"
   ]
  },
  {
   "cell_type": "markdown",
   "metadata": {},
   "source": [
    "Just from eyeballing the data here, we see that a higher ratio of single people have subscribed to a term_deposit versus married partners. However, this may also be because only one partner decides to do the term deposit using a combination of their money. So I can't write this off as leaning any which way because I don't have individual data. We can go ahead and create ratios again however for exploration."
   ]
  },
  {
   "cell_type": "code",
   "execution_count": 108,
   "metadata": {},
   "outputs": [
    {
     "name": "stdout",
     "output_type": "stream",
     "text": [
      "Marital status, No: {'married': 0.899, 'single': 0.8514, 'divorced': 0.8781}\n",
      "\n",
      "Marital status, Yes: {'married': 0.101, 'single': 0.1486, 'divorced': 0.1219}\n",
      "\n"
     ]
    }
   ],
   "source": [
    "mar_total = {}\n",
    "for idx, val in df.marital.value_counts().items():\n",
    "    mar_total[idx] = val\n",
    "mar_yes = {}\n",
    "for idx, val in df.marital.loc[df.term_deposit == 'yes'].value_counts().items():\n",
    "    mar_yes[idx] = val\n",
    "mar_no = {}\n",
    "for idx, val in df.marital.loc[df.term_deposit == 'no'].value_counts().items():\n",
    "    mar_no[idx] = val\n",
    "\n",
    "mar_no_perc = {}\n",
    "mar_yes_perc = {}\n",
    "for key in mar_total:\n",
    "    mar_no_perc[key] = round(mar_no[key]/mar_total[key], 4)\n",
    "    mar_yes_perc[key] = round(mar_yes[key]/mar_total[key], 4)\n",
    "\n",
    "print(\"Marital status, No: {}\\n\".format(mar_no_perc))\n",
    "\n",
    "print(\"Marital status, Yes: {}\\n\".format(mar_yes_perc))"
   ]
  },
  {
   "cell_type": "code",
   "execution_count": 114,
   "metadata": {},
   "outputs": [
    {
     "name": "stdout",
     "output_type": "stream",
     "text": [
      "Total educational data:\n",
      "secondary    25508\n",
      "tertiary     14651\n",
      "primary       7529\n",
      "unknown       2044\n",
      "Name: education, dtype: int64\n",
      "\n",
      "Yes educational data: \n",
      "secondary    2695\n",
      "tertiary     2189\n",
      "primary       655\n",
      "unknown       271\n",
      "Name: education, dtype: int64\n",
      "\n",
      "No educational data: \n",
      "secondary    22813\n",
      "tertiary     12462\n",
      "primary       6874\n",
      "unknown       1773\n",
      "Name: education, dtype: int64\n",
      "\n",
      "Educational status, No: {'secondary': 0.8943, 'tertiary': 0.8506, 'primary': 0.913, 'unknown': 0.8674}\n",
      "\n",
      "Educational status, Yes: {'secondary': 0.1057, 'tertiary': 0.1494, 'primary': 0.087, 'unknown': 0.1326}\n",
      "\n"
     ]
    }
   ],
   "source": [
    "#same exact thing, but education now. We've seem to found a groove.\n",
    "\n",
    "print('Total educational data:\\n{}\\n'.format(df.education.value_counts()))\n",
    "print('Yes educational data: \\n{}\\n'.format(df.education.loc[df.term_deposit =='yes'].value_counts()))\n",
    "print('No educational data: \\n{}\\n'.format(df.education.loc[df.term_deposit =='no'].value_counts()))\n",
    "\n",
    "edu_total = {}\n",
    "for idx, val in df.education.value_counts().items():\n",
    "    edu_total[idx] = val\n",
    "edu_yes = {}\n",
    "for idx, val in df.education.loc[df.term_deposit == 'yes'].value_counts().items():\n",
    "    edu_yes[idx] = val\n",
    "edu_no = {}\n",
    "for idx, val in df.education.loc[df.term_deposit == 'no'].value_counts().items():\n",
    "    edu_no[idx] = val\n",
    "\n",
    "edu_no_perc = {}\n",
    "edu_yes_perc = {}\n",
    "for key in edu_total:\n",
    "    edu_no_perc[key] = round(edu_no[key]/edu_total[key], 4)\n",
    "    edu_yes_perc[key] = round(edu_yes[key]/edu_total[key], 4)\n",
    "\n",
    "print(\"Educational status, No: {}\\n\".format(edu_no_perc))\n",
    "\n",
    "print(\"Educational status, Yes: {}\\n\".format(edu_yes_perc))"
   ]
  },
  {
   "cell_type": "code",
   "execution_count": 115,
   "metadata": {},
   "outputs": [
    {
     "name": "stdout",
     "output_type": "stream",
     "text": [
      "Total default data:\n",
      "no     48841\n",
      "yes      891\n",
      "Name: in_default, dtype: int64\n",
      "\n",
      "Yes default data: \n",
      "no     5749\n",
      "yes      61\n",
      "Name: in_default, dtype: int64\n",
      "\n",
      "No default data: \n",
      "no     43092\n",
      "yes      830\n",
      "Name: in_default, dtype: int64\n",
      "\n",
      "In Default status, No: {'no': 0.8823, 'yes': 0.9315}\n",
      "\n",
      "In Default status, Yes: {'no': 0.1177, 'yes': 0.0685}\n",
      "\n"
     ]
    }
   ],
   "source": [
    "#I have a hunch about defaulting, but let's see what the data holds. \n",
    "\n",
    "print('Total default data:\\n{}\\n'.format(df.in_default.value_counts()))\n",
    "print('Yes default data: \\n{}\\n'.format(df.in_default.loc[df.term_deposit =='yes'].value_counts()))\n",
    "print('No default data: \\n{}\\n'.format(df.in_default.loc[df.term_deposit =='no'].value_counts()))\n",
    "\n",
    "dft_total = {}\n",
    "for idx, val in df.in_default.value_counts().items():\n",
    "    dft_total[idx] = val\n",
    "dft_yes = {}\n",
    "for idx, val in df.in_default.loc[df.term_deposit == 'yes'].value_counts().items():\n",
    "    dft_yes[idx] = val\n",
    "dft_no = {}\n",
    "for idx, val in df.in_default.loc[df.term_deposit == 'no'].value_counts().items():\n",
    "    dft_no[idx] = val\n",
    "\n",
    "dft_no_perc = {}\n",
    "dft_yes_perc = {}\n",
    "for key in dft_total:\n",
    "    dft_no_perc[key] = round(dft_no[key]/dft_total[key], 4)\n",
    "    dft_yes_perc[key] = round(dft_yes[key]/dft_total[key], 4)\n",
    "\n",
    "print(\"In Default status, No: {}\\n\".format(dft_no_perc))\n",
    "\n",
    "print(\"In Default status, Yes: {}\\n\".format(dft_yes_perc))"
   ]
  },
  {
   "cell_type": "markdown",
   "metadata": {},
   "source": [
    "Pretty substantial difference. I forsee it being a strong feature for the model."
   ]
  },
  {
   "cell_type": "code",
   "execution_count": 122,
   "metadata": {},
   "outputs": [
    {
     "name": "stdout",
     "output_type": "stream",
     "text": [
      "Avg_yearly_balance of no : 1312.7761941623787 \n",
      "Avg_yearly_balance of yes: 1783.4358003442342\n",
      "Min/Max no: -8019/102127\n",
      "Min/Max yes:-3058/81204\n",
      "Total STD; 3041.6087657666208\n",
      "No STD: 2983.651008144628\n",
      "Yes STD:3420.1800572166817\n"
     ]
    }
   ],
   "source": [
    "#avg_yearly_balance is next. This numerical data will be easier read by visuals, but let's get some basic info off it.\n",
    "print('Avg_yearly_balance of no : {} \\nAvg_yearly_balance of yes: {}'.format(df.avg_yearly_balance.loc[df.term_deposit == 'no'].mean(), \\\n",
    "                                                                             df.avg_yearly_balance.loc[df.term_deposit == 'yes'].mean()))\n",
    "print('Min/Max no: {}/{}\\nMin/Max yes:{}/{}'.format(df.avg_yearly_balance.loc[df.term_deposit == 'no'].min(), \\\n",
    "                                                    df.avg_yearly_balance.loc[df.term_deposit == 'no'].max(), \\\n",
    "                                                    df.avg_yearly_balance.loc[df.term_deposit == 'yes'].min(), \\\n",
    "                                                    df.avg_yearly_balance.loc[df.term_deposit == 'yes'].max()))\n",
    "print('Total STD; {}\\nNo STD: {}\\nYes STD:{}'.format(df.avg_yearly_balance.std(), \\\n",
    "                                                     df.avg_yearly_balance.loc[df.term_deposit == 'no'].std(), \\\n",
    "                                                    df.avg_yearly_balance.loc[df.term_deposit == 'yes'].std()))"
   ]
  },
  {
   "cell_type": "markdown",
   "metadata": {},
   "source": [
    "Hard to tell what's meaningful here. Clearly being a little negative hasn't stopped someone from signing up for a term deposit. Or at least being an average of negatives. The population of customers that have subscribed for a term_deposit also have the widest standard deviation. This must mean that avg balance has less to do with subscription than one would think. However, this could just be because less customers are in this group. "
   ]
  },
  {
   "cell_type": "code",
   "execution_count": null,
   "metadata": {},
   "outputs": [],
   "source": []
  }
 ],
 "metadata": {
  "kernelspec": {
   "display_name": "Python 3",
   "language": "python",
   "name": "python3"
  },
  "language_info": {
   "codemirror_mode": {
    "name": "ipython",
    "version": 3
   },
   "file_extension": ".py",
   "mimetype": "text/x-python",
   "name": "python",
   "nbconvert_exporter": "python",
   "pygments_lexer": "ipython3",
   "version": "3.7.6"
  }
 },
 "nbformat": 4,
 "nbformat_minor": 4
}
