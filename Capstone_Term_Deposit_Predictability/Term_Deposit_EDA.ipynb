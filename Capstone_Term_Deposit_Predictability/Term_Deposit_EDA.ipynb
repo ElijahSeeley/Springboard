{
 "cells": [
  {
   "cell_type": "markdown",
   "metadata": {},
   "source": [
    "Goal of this notebook is to generate visualizations that will help portray our statistical findings while also being easy to read and ascetic.\n",
    "\n",
    "Step 1. Dig through the data and find statistically significant and interesting correlations - the messier of the EDA steps."
   ]
  },
  {
   "cell_type": "code",
   "execution_count": 1,
   "metadata": {},
   "outputs": [],
   "source": [
    "#Importing EDA type modules\n",
    "import numpy as pd\n",
    "import pandas as pd\n",
    "import matplotlib.pyplot as plt\n",
    "import seaborn as sns"
   ]
  },
  {
   "cell_type": "code",
   "execution_count": 2,
   "metadata": {},
   "outputs": [
    {
     "data": {
      "text/html": [
       "<div>\n",
       "<style scoped>\n",
       "    .dataframe tbody tr th:only-of-type {\n",
       "        vertical-align: middle;\n",
       "    }\n",
       "\n",
       "    .dataframe tbody tr th {\n",
       "        vertical-align: top;\n",
       "    }\n",
       "\n",
       "    .dataframe thead th {\n",
       "        text-align: right;\n",
       "    }\n",
       "</style>\n",
       "<table border=\"1\" class=\"dataframe\">\n",
       "  <thead>\n",
       "    <tr style=\"text-align: right;\">\n",
       "      <th></th>\n",
       "      <th>age</th>\n",
       "      <th>job</th>\n",
       "      <th>marital</th>\n",
       "      <th>education</th>\n",
       "      <th>in_default</th>\n",
       "      <th>avg_yearly_balance</th>\n",
       "      <th>housing_loan</th>\n",
       "      <th>personal_loan</th>\n",
       "      <th>contact_method</th>\n",
       "      <th>day</th>\n",
       "      <th>month</th>\n",
       "      <th>duration</th>\n",
       "      <th>campaign_contacts</th>\n",
       "      <th>prev_days</th>\n",
       "      <th>previous_contacts</th>\n",
       "      <th>prev_outcome</th>\n",
       "      <th>term_deposit</th>\n",
       "    </tr>\n",
       "  </thead>\n",
       "  <tbody>\n",
       "    <tr>\n",
       "      <th>0</th>\n",
       "      <td>58</td>\n",
       "      <td>management</td>\n",
       "      <td>married</td>\n",
       "      <td>tertiary</td>\n",
       "      <td>no</td>\n",
       "      <td>2143</td>\n",
       "      <td>yes</td>\n",
       "      <td>no</td>\n",
       "      <td>unknown</td>\n",
       "      <td>5</td>\n",
       "      <td>5</td>\n",
       "      <td>261</td>\n",
       "      <td>1</td>\n",
       "      <td>-1</td>\n",
       "      <td>0</td>\n",
       "      <td>unknown</td>\n",
       "      <td>no</td>\n",
       "    </tr>\n",
       "    <tr>\n",
       "      <th>1</th>\n",
       "      <td>44</td>\n",
       "      <td>technician</td>\n",
       "      <td>single</td>\n",
       "      <td>secondary</td>\n",
       "      <td>no</td>\n",
       "      <td>29</td>\n",
       "      <td>yes</td>\n",
       "      <td>no</td>\n",
       "      <td>unknown</td>\n",
       "      <td>5</td>\n",
       "      <td>5</td>\n",
       "      <td>151</td>\n",
       "      <td>1</td>\n",
       "      <td>-1</td>\n",
       "      <td>0</td>\n",
       "      <td>unknown</td>\n",
       "      <td>no</td>\n",
       "    </tr>\n",
       "    <tr>\n",
       "      <th>2</th>\n",
       "      <td>33</td>\n",
       "      <td>entrepreneur</td>\n",
       "      <td>married</td>\n",
       "      <td>secondary</td>\n",
       "      <td>no</td>\n",
       "      <td>2</td>\n",
       "      <td>yes</td>\n",
       "      <td>yes</td>\n",
       "      <td>unknown</td>\n",
       "      <td>5</td>\n",
       "      <td>5</td>\n",
       "      <td>76</td>\n",
       "      <td>1</td>\n",
       "      <td>-1</td>\n",
       "      <td>0</td>\n",
       "      <td>unknown</td>\n",
       "      <td>no</td>\n",
       "    </tr>\n",
       "    <tr>\n",
       "      <th>3</th>\n",
       "      <td>47</td>\n",
       "      <td>blue-collar</td>\n",
       "      <td>married</td>\n",
       "      <td>unknown</td>\n",
       "      <td>no</td>\n",
       "      <td>1506</td>\n",
       "      <td>yes</td>\n",
       "      <td>no</td>\n",
       "      <td>unknown</td>\n",
       "      <td>5</td>\n",
       "      <td>5</td>\n",
       "      <td>92</td>\n",
       "      <td>1</td>\n",
       "      <td>-1</td>\n",
       "      <td>0</td>\n",
       "      <td>unknown</td>\n",
       "      <td>no</td>\n",
       "    </tr>\n",
       "    <tr>\n",
       "      <th>4</th>\n",
       "      <td>33</td>\n",
       "      <td>unknown</td>\n",
       "      <td>single</td>\n",
       "      <td>unknown</td>\n",
       "      <td>no</td>\n",
       "      <td>1</td>\n",
       "      <td>no</td>\n",
       "      <td>no</td>\n",
       "      <td>unknown</td>\n",
       "      <td>5</td>\n",
       "      <td>5</td>\n",
       "      <td>198</td>\n",
       "      <td>1</td>\n",
       "      <td>-1</td>\n",
       "      <td>0</td>\n",
       "      <td>unknown</td>\n",
       "      <td>no</td>\n",
       "    </tr>\n",
       "  </tbody>\n",
       "</table>\n",
       "</div>"
      ],
      "text/plain": [
       "   age           job  marital  education in_default  avg_yearly_balance  \\\n",
       "0   58    management  married   tertiary         no                2143   \n",
       "1   44    technician   single  secondary         no                  29   \n",
       "2   33  entrepreneur  married  secondary         no                   2   \n",
       "3   47   blue-collar  married    unknown         no                1506   \n",
       "4   33       unknown   single    unknown         no                   1   \n",
       "\n",
       "  housing_loan personal_loan contact_method  day  month  duration  \\\n",
       "0          yes            no        unknown    5      5       261   \n",
       "1          yes            no        unknown    5      5       151   \n",
       "2          yes           yes        unknown    5      5        76   \n",
       "3          yes            no        unknown    5      5        92   \n",
       "4           no            no        unknown    5      5       198   \n",
       "\n",
       "   campaign_contacts  prev_days  previous_contacts prev_outcome term_deposit  \n",
       "0                  1         -1                  0      unknown           no  \n",
       "1                  1         -1                  0      unknown           no  \n",
       "2                  1         -1                  0      unknown           no  \n",
       "3                  1         -1                  0      unknown           no  \n",
       "4                  1         -1                  0      unknown           no  "
      ]
     },
     "execution_count": 2,
     "metadata": {},
     "output_type": "execute_result"
    }
   ],
   "source": [
    "#importing clean_df\n",
    "df = pd.read_csv('Peruvian_Bank_Data/clean_df.csv', header = 0)\n",
    "df.head()"
   ]
  },
  {
   "cell_type": "code",
   "execution_count": 3,
   "metadata": {},
   "outputs": [
    {
     "name": "stdout",
     "output_type": "stream",
     "text": [
      "Avg age of no : 40.85346751058695 \n",
      "Avg age of yes: 41.743717728055074\n"
     ]
    }
   ],
   "source": [
    "#let's start with age\n",
    "print('Avg age of no : {} \\nAvg age of yes: {}'.format(df.age.loc[df.term_deposit == 'no'].mean(), df.age.loc[df.term_deposit == 'yes'].mean()))"
   ]
  },
  {
   "cell_type": "code",
   "execution_count": 42,
   "metadata": {},
   "outputs": [
    {
     "data": {
      "text/plain": [
       "job\n",
       "management       1432\n",
       "technician        923\n",
       "blue-collar       777\n",
       "admin.            689\n",
       "retired           570\n",
       "services          407\n",
       "student           288\n",
       "unemployed        215\n",
       "self-employed     207\n",
       "entrepreneur      138\n",
       "housemaid         123\n",
       "unknown            41\n",
       "Name: term_deposit, dtype: int64"
      ]
     },
     "execution_count": 42,
     "metadata": {},
     "output_type": "execute_result"
    }
   ],
   "source": [
    "#order of jobs for both\n",
    "#yes split\n",
    "df.loc[df.term_deposit == 'yes'].set_index('job').groupby('job').count()['term_deposit'].sort_values(ascending = False)"
   ]
  },
  {
   "cell_type": "code",
   "execution_count": 43,
   "metadata": {},
   "outputs": [
    {
     "data": {
      "text/plain": [
       "job\n",
       "blue-collar      9901\n",
       "management       8995\n",
       "technician       7442\n",
       "admin.           4960\n",
       "services         4164\n",
       "retired          1924\n",
       "self-employed    1555\n",
       "entrepreneur     1517\n",
       "housemaid        1229\n",
       "unemployed       1216\n",
       "student           734\n",
       "unknown           285\n",
       "Name: term_deposit, dtype: int64"
      ]
     },
     "execution_count": 43,
     "metadata": {},
     "output_type": "execute_result"
    }
   ],
   "source": [
    "df.loc[df.term_deposit == 'no'].set_index('job').groupby('job').count()['term_deposit'].sort_values(ascending = False)"
   ]
  },
  {
   "cell_type": "code",
   "execution_count": 93,
   "metadata": {},
   "outputs": [
    {
     "name": "stdout",
     "output_type": "stream",
     "text": [
      "{'blue-collar': 0.93, 'management': 0.86, 'technician': 0.89, 'admin.': 0.88, 'services': 0.91, 'retired': 0.77, 'self-employed': 0.88, 'entrepreneur': 0.92, 'unemployed': 0.85, 'housemaid': 0.91, 'student': 0.72, 'unknown': 0.87}\n",
      "{'blue-collar': 0.07, 'management': 0.14, 'technician': 0.11, 'admin.': 0.12, 'services': 0.09, 'retired': 0.23, 'self-employed': 0.12, 'entrepreneur': 0.08, 'unemployed': 0.15, 'housemaid': 0.09, 'student': 0.28, 'unknown': 0.13}\n"
     ]
    }
   ],
   "source": [
    "#This gives me an idea of creating a dictionary of some percentages represented as float\n",
    "jobs_total = {}\n",
    "for idx, val in df.job.value_counts().items():\n",
    "    jobs_total[idx] = val\n",
    "jobs_yes = {}\n",
    "for idx, val in df.job.loc[df.term_deposit == 'yes'].value_counts().items():\n",
    "    jobs_yes[idx] = val\n",
    "jobs_no = {}\n",
    "for idx, val in df.job.loc[df.term_deposit == 'no'].value_counts().items():\n",
    "    jobs_no[idx] = val\n",
    "\n",
    "jobs_no_perc = {}\n",
    "jobs_yes_perc = {}\n",
    "for key in jobs_total:\n",
    "    jobs_no_perc[key] = round(jobs_no[key]/jobs_total[key], 2)\n",
    "    jobs_yes_perc[key] = round(jobs_yes[key]/jobs_total[key], 2)\n",
    "\n",
    "print(jobs_no_perc)\n",
    "\n",
    "print(jobs_yes_perc)"
   ]
  },
  {
   "cell_type": "markdown",
   "metadata": {},
   "source": [
    "Too early to make any real conclusions here, although we do see that a surprisingly high amount of students signed up for term deposits."
   ]
  },
  {
   "cell_type": "code",
   "execution_count": null,
   "metadata": {},
   "outputs": [],
   "source": []
  },
  {
   "cell_type": "code",
   "execution_count": null,
   "metadata": {},
   "outputs": [],
   "source": []
  }
 ],
 "metadata": {
  "kernelspec": {
   "display_name": "Python 3",
   "language": "python",
   "name": "python3"
  },
  "language_info": {
   "codemirror_mode": {
    "name": "ipython",
    "version": 3
   },
   "file_extension": ".py",
   "mimetype": "text/x-python",
   "name": "python",
   "nbconvert_exporter": "python",
   "pygments_lexer": "ipython3",
   "version": "3.7.6"
  }
 },
 "nbformat": 4,
 "nbformat_minor": 4
}
