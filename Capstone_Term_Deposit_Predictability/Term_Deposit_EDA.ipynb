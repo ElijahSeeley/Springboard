{
 "cells": [
  {
   "cell_type": "markdown",
   "metadata": {},
   "source": [
    "Goal of this notebook is to generate visualizations that will help portray our statistical findings while also being easy to read and ascetic.\n",
    "\n",
    "Step 1. Dig through the data and find statistically significant and interesting correlations - the messier of the EDA steps."
   ]
  },
  {
   "cell_type": "code",
   "execution_count": 1,
   "metadata": {},
   "outputs": [],
   "source": [
    "#Importing EDA type modules\n",
    "import numpy as pd\n",
    "import pandas as pd\n",
    "import matplotlib.pyplot as plt\n",
    "import seaborn as sns"
   ]
  },
  {
   "cell_type": "code",
   "execution_count": 2,
   "metadata": {},
   "outputs": [
    {
     "data": {
      "text/html": [
       "<div>\n",
       "<style scoped>\n",
       "    .dataframe tbody tr th:only-of-type {\n",
       "        vertical-align: middle;\n",
       "    }\n",
       "\n",
       "    .dataframe tbody tr th {\n",
       "        vertical-align: top;\n",
       "    }\n",
       "\n",
       "    .dataframe thead th {\n",
       "        text-align: right;\n",
       "    }\n",
       "</style>\n",
       "<table border=\"1\" class=\"dataframe\">\n",
       "  <thead>\n",
       "    <tr style=\"text-align: right;\">\n",
       "      <th></th>\n",
       "      <th>age</th>\n",
       "      <th>job</th>\n",
       "      <th>marital</th>\n",
       "      <th>education</th>\n",
       "      <th>in_default</th>\n",
       "      <th>avg_yearly_balance</th>\n",
       "      <th>housing_loan</th>\n",
       "      <th>personal_loan</th>\n",
       "      <th>contact_method</th>\n",
       "      <th>day</th>\n",
       "      <th>month</th>\n",
       "      <th>duration</th>\n",
       "      <th>campaign_contacts</th>\n",
       "      <th>prev_days</th>\n",
       "      <th>previous_contacts</th>\n",
       "      <th>prev_outcome</th>\n",
       "      <th>term_deposit</th>\n",
       "    </tr>\n",
       "  </thead>\n",
       "  <tbody>\n",
       "    <tr>\n",
       "      <th>0</th>\n",
       "      <td>58</td>\n",
       "      <td>management</td>\n",
       "      <td>married</td>\n",
       "      <td>tertiary</td>\n",
       "      <td>no</td>\n",
       "      <td>2143</td>\n",
       "      <td>yes</td>\n",
       "      <td>no</td>\n",
       "      <td>unknown</td>\n",
       "      <td>5</td>\n",
       "      <td>5</td>\n",
       "      <td>261</td>\n",
       "      <td>1</td>\n",
       "      <td>-1</td>\n",
       "      <td>0</td>\n",
       "      <td>unknown</td>\n",
       "      <td>no</td>\n",
       "    </tr>\n",
       "    <tr>\n",
       "      <th>1</th>\n",
       "      <td>44</td>\n",
       "      <td>technician</td>\n",
       "      <td>single</td>\n",
       "      <td>secondary</td>\n",
       "      <td>no</td>\n",
       "      <td>29</td>\n",
       "      <td>yes</td>\n",
       "      <td>no</td>\n",
       "      <td>unknown</td>\n",
       "      <td>5</td>\n",
       "      <td>5</td>\n",
       "      <td>151</td>\n",
       "      <td>1</td>\n",
       "      <td>-1</td>\n",
       "      <td>0</td>\n",
       "      <td>unknown</td>\n",
       "      <td>no</td>\n",
       "    </tr>\n",
       "    <tr>\n",
       "      <th>2</th>\n",
       "      <td>33</td>\n",
       "      <td>entrepreneur</td>\n",
       "      <td>married</td>\n",
       "      <td>secondary</td>\n",
       "      <td>no</td>\n",
       "      <td>2</td>\n",
       "      <td>yes</td>\n",
       "      <td>yes</td>\n",
       "      <td>unknown</td>\n",
       "      <td>5</td>\n",
       "      <td>5</td>\n",
       "      <td>76</td>\n",
       "      <td>1</td>\n",
       "      <td>-1</td>\n",
       "      <td>0</td>\n",
       "      <td>unknown</td>\n",
       "      <td>no</td>\n",
       "    </tr>\n",
       "    <tr>\n",
       "      <th>3</th>\n",
       "      <td>47</td>\n",
       "      <td>blue-collar</td>\n",
       "      <td>married</td>\n",
       "      <td>unknown</td>\n",
       "      <td>no</td>\n",
       "      <td>1506</td>\n",
       "      <td>yes</td>\n",
       "      <td>no</td>\n",
       "      <td>unknown</td>\n",
       "      <td>5</td>\n",
       "      <td>5</td>\n",
       "      <td>92</td>\n",
       "      <td>1</td>\n",
       "      <td>-1</td>\n",
       "      <td>0</td>\n",
       "      <td>unknown</td>\n",
       "      <td>no</td>\n",
       "    </tr>\n",
       "    <tr>\n",
       "      <th>4</th>\n",
       "      <td>33</td>\n",
       "      <td>unknown</td>\n",
       "      <td>single</td>\n",
       "      <td>unknown</td>\n",
       "      <td>no</td>\n",
       "      <td>1</td>\n",
       "      <td>no</td>\n",
       "      <td>no</td>\n",
       "      <td>unknown</td>\n",
       "      <td>5</td>\n",
       "      <td>5</td>\n",
       "      <td>198</td>\n",
       "      <td>1</td>\n",
       "      <td>-1</td>\n",
       "      <td>0</td>\n",
       "      <td>unknown</td>\n",
       "      <td>no</td>\n",
       "    </tr>\n",
       "  </tbody>\n",
       "</table>\n",
       "</div>"
      ],
      "text/plain": [
       "   age           job  marital  education in_default  avg_yearly_balance  \\\n",
       "0   58    management  married   tertiary         no                2143   \n",
       "1   44    technician   single  secondary         no                  29   \n",
       "2   33  entrepreneur  married  secondary         no                   2   \n",
       "3   47   blue-collar  married    unknown         no                1506   \n",
       "4   33       unknown   single    unknown         no                   1   \n",
       "\n",
       "  housing_loan personal_loan contact_method  day  month  duration  \\\n",
       "0          yes            no        unknown    5      5       261   \n",
       "1          yes            no        unknown    5      5       151   \n",
       "2          yes           yes        unknown    5      5        76   \n",
       "3          yes            no        unknown    5      5        92   \n",
       "4           no            no        unknown    5      5       198   \n",
       "\n",
       "   campaign_contacts  prev_days  previous_contacts prev_outcome term_deposit  \n",
       "0                  1         -1                  0      unknown           no  \n",
       "1                  1         -1                  0      unknown           no  \n",
       "2                  1         -1                  0      unknown           no  \n",
       "3                  1         -1                  0      unknown           no  \n",
       "4                  1         -1                  0      unknown           no  "
      ]
     },
     "execution_count": 2,
     "metadata": {},
     "output_type": "execute_result"
    }
   ],
   "source": [
    "#importing clean_df\n",
    "df = pd.read_csv('Peruvian_Bank_Data/clean_df.csv', header = 0)\n",
    "df.head()"
   ]
  },
  {
   "cell_type": "code",
   "execution_count": 3,
   "metadata": {},
   "outputs": [
    {
     "name": "stdout",
     "output_type": "stream",
     "text": [
      "Avg age of no : 40.85346751058695 \n",
      "Avg age of yes: 41.743717728055074\n"
     ]
    }
   ],
   "source": [
    "#let's start with age\n",
    "print('Avg age of no : {} \\nAvg age of yes: {}'.format(df.age.loc[df.term_deposit == 'no'].mean(), df.age.loc[df.term_deposit == 'yes'].mean()))"
   ]
  },
  {
   "cell_type": "code",
   "execution_count": 42,
   "metadata": {},
   "outputs": [
    {
     "data": {
      "text/plain": [
       "job\n",
       "management       1432\n",
       "technician        923\n",
       "blue-collar       777\n",
       "admin.            689\n",
       "retired           570\n",
       "services          407\n",
       "student           288\n",
       "unemployed        215\n",
       "self-employed     207\n",
       "entrepreneur      138\n",
       "housemaid         123\n",
       "unknown            41\n",
       "Name: term_deposit, dtype: int64"
      ]
     },
     "execution_count": 42,
     "metadata": {},
     "output_type": "execute_result"
    }
   ],
   "source": [
    "#order of jobs for both\n",
    "#yes split\n",
    "df.loc[df.term_deposit == 'yes'].set_index('job').groupby('job').count()['term_deposit'].sort_values(ascending = False)"
   ]
  },
  {
   "cell_type": "code",
   "execution_count": 43,
   "metadata": {},
   "outputs": [
    {
     "data": {
      "text/plain": [
       "job\n",
       "blue-collar      9901\n",
       "management       8995\n",
       "technician       7442\n",
       "admin.           4960\n",
       "services         4164\n",
       "retired          1924\n",
       "self-employed    1555\n",
       "entrepreneur     1517\n",
       "housemaid        1229\n",
       "unemployed       1216\n",
       "student           734\n",
       "unknown           285\n",
       "Name: term_deposit, dtype: int64"
      ]
     },
     "execution_count": 43,
     "metadata": {},
     "output_type": "execute_result"
    }
   ],
   "source": [
    "df.loc[df.term_deposit == 'no'].set_index('job').groupby('job').count()['term_deposit'].sort_values(ascending = False)"
   ]
  },
  {
   "cell_type": "code",
   "execution_count": 106,
   "metadata": {},
   "outputs": [
    {
     "name": "stdout",
     "output_type": "stream",
     "text": [
      "{'blue-collar': 0.9272, 'management': 0.8627, 'technician': 0.8897, 'admin.': 0.878, 'services': 0.911, 'retired': 0.7715, 'self-employed': 0.8825, 'entrepreneur': 0.9166, 'unemployed': 0.8498, 'housemaid': 0.909, 'student': 0.7182, 'unknown': 0.8742}\n",
      "{'blue-collar': 0.0728, 'management': 0.1373, 'technician': 0.1103, 'admin.': 0.122, 'services': 0.089, 'retired': 0.2285, 'self-employed': 0.1175, 'entrepreneur': 0.0834, 'unemployed': 0.1502, 'housemaid': 0.091, 'student': 0.2818, 'unknown': 0.1258}\n"
     ]
    }
   ],
   "source": [
    "#This gives me an idea of creating a dictionary of some percentages represented as float\n",
    "jobs_total = {}\n",
    "for idx, val in df.job.value_counts().items():\n",
    "    jobs_total[idx] = val\n",
    "jobs_yes = {}\n",
    "for idx, val in df.job.loc[df.term_deposit == 'yes'].value_counts().items():\n",
    "    jobs_yes[idx] = val\n",
    "jobs_no = {}\n",
    "for idx, val in df.job.loc[df.term_deposit == 'no'].value_counts().items():\n",
    "    jobs_no[idx] = val\n",
    "\n",
    "jobs_no_perc = {}\n",
    "jobs_yes_perc = {}\n",
    "for key in jobs_total:\n",
    "    jobs_no_perc[key] = round(jobs_no[key]/jobs_total[key], 4)\n",
    "    jobs_yes_perc[key] = round(jobs_yes[key]/jobs_total[key], 4)\n",
    "\n",
    "print(jobs_no_perc)\n",
    "\n",
    "print(jobs_yes_perc)"
   ]
  },
  {
   "cell_type": "markdown",
   "metadata": {},
   "source": [
    "Too early to make any real conclusions here, although we do see that a surprisingly high amount of students signed up for term deposits."
   ]
  },
  {
   "cell_type": "code",
   "execution_count": 102,
   "metadata": {},
   "outputs": [
    {
     "name": "stdout",
     "output_type": "stream",
     "text": [
      "Total marital data:\n",
      "married     30011\n",
      "single      13986\n",
      "divorced     5735\n",
      "Name: marital, dtype: int64\n",
      "\n",
      "Yes marital data: \n",
      "married     3032\n",
      "single      2079\n",
      "divorced     699\n",
      "Name: marital, dtype: int64\n",
      "\n",
      "No marital data: \n",
      "married     26979\n",
      "single      11907\n",
      "divorced     5036\n",
      "Name: marital, dtype: int64\n",
      "\n"
     ]
    }
   ],
   "source": [
    "#let's take a look at marital data\n",
    "\n",
    "print('Total marital data:\\n{}\\n'.format(df.marital.value_counts()))\n",
    "print('Yes marital data: \\n{}\\n'.format(df.marital.loc[df.term_deposit =='yes'].value_counts()))\n",
    "print('No marital data: \\n{}\\n'.format(df.marital.loc[df.term_deposit =='no'].value_counts()))"
   ]
  },
  {
   "cell_type": "markdown",
   "metadata": {},
   "source": [
    "Just from eyeballing the data here, we see that a higher ratio of single people have subscribed to a term_deposit versus married partners. However, this may also be because only one partner decides to do the term deposit using a combination of their money. So I can't write this off as leaning any which way because I don't have individual data. We can go ahead and create ratios again however for exploration."
   ]
  },
  {
   "cell_type": "code",
   "execution_count": 108,
   "metadata": {},
   "outputs": [
    {
     "name": "stdout",
     "output_type": "stream",
     "text": [
      "Marital status, No: {'married': 0.899, 'single': 0.8514, 'divorced': 0.8781}\n",
      "\n",
      "Marital status, Yes: {'married': 0.101, 'single': 0.1486, 'divorced': 0.1219}\n",
      "\n"
     ]
    }
   ],
   "source": [
    "mar_total = {}\n",
    "for idx, val in df.marital.value_counts().items():\n",
    "    mar_total[idx] = val\n",
    "mar_yes = {}\n",
    "for idx, val in df.marital.loc[df.term_deposit == 'yes'].value_counts().items():\n",
    "    mar_yes[idx] = val\n",
    "mar_no = {}\n",
    "for idx, val in df.marital.loc[df.term_deposit == 'no'].value_counts().items():\n",
    "    mar_no[idx] = val\n",
    "\n",
    "mar_no_perc = {}\n",
    "mar_yes_perc = {}\n",
    "for key in mar_total:\n",
    "    mar_no_perc[key] = round(mar_no[key]/mar_total[key], 4)\n",
    "    mar_yes_perc[key] = round(mar_yes[key]/mar_total[key], 4)\n",
    "\n",
    "print(\"Marital status, No: {}\\n\".format(mar_no_perc))\n",
    "\n",
    "print(\"Marital status, Yes: {}\\n\".format(mar_yes_perc))"
   ]
  },
  {
   "cell_type": "code",
   "execution_count": 114,
   "metadata": {},
   "outputs": [
    {
     "name": "stdout",
     "output_type": "stream",
     "text": [
      "Total educational data:\n",
      "secondary    25508\n",
      "tertiary     14651\n",
      "primary       7529\n",
      "unknown       2044\n",
      "Name: education, dtype: int64\n",
      "\n",
      "Yes educational data: \n",
      "secondary    2695\n",
      "tertiary     2189\n",
      "primary       655\n",
      "unknown       271\n",
      "Name: education, dtype: int64\n",
      "\n",
      "No educational data: \n",
      "secondary    22813\n",
      "tertiary     12462\n",
      "primary       6874\n",
      "unknown       1773\n",
      "Name: education, dtype: int64\n",
      "\n",
      "Educational status, No: {'secondary': 0.8943, 'tertiary': 0.8506, 'primary': 0.913, 'unknown': 0.8674}\n",
      "\n",
      "Educational status, Yes: {'secondary': 0.1057, 'tertiary': 0.1494, 'primary': 0.087, 'unknown': 0.1326}\n",
      "\n"
     ]
    }
   ],
   "source": [
    "#same exact thing, but education now. We've seem to found a groove.\n",
    "\n",
    "print('Total educational data:\\n{}\\n'.format(df.education.value_counts()))\n",
    "print('Yes educational data: \\n{}\\n'.format(df.education.loc[df.term_deposit =='yes'].value_counts()))\n",
    "print('No educational data: \\n{}\\n'.format(df.education.loc[df.term_deposit =='no'].value_counts()))\n",
    "\n",
    "edu_total = {}\n",
    "for idx, val in df.education.value_counts().items():\n",
    "    edu_total[idx] = val\n",
    "edu_yes = {}\n",
    "for idx, val in df.education.loc[df.term_deposit == 'yes'].value_counts().items():\n",
    "    edu_yes[idx] = val\n",
    "edu_no = {}\n",
    "for idx, val in df.education.loc[df.term_deposit == 'no'].value_counts().items():\n",
    "    edu_no[idx] = val\n",
    "\n",
    "edu_no_perc = {}\n",
    "edu_yes_perc = {}\n",
    "for key in edu_total:\n",
    "    edu_no_perc[key] = round(edu_no[key]/edu_total[key], 4)\n",
    "    edu_yes_perc[key] = round(edu_yes[key]/edu_total[key], 4)\n",
    "\n",
    "print(\"Educational status, No: {}\\n\".format(edu_no_perc))\n",
    "\n",
    "print(\"Educational status, Yes: {}\\n\".format(edu_yes_perc))"
   ]
  },
  {
   "cell_type": "code",
   "execution_count": 115,
   "metadata": {},
   "outputs": [
    {
     "name": "stdout",
     "output_type": "stream",
     "text": [
      "Total default data:\n",
      "no     48841\n",
      "yes      891\n",
      "Name: in_default, dtype: int64\n",
      "\n",
      "Yes default data: \n",
      "no     5749\n",
      "yes      61\n",
      "Name: in_default, dtype: int64\n",
      "\n",
      "No default data: \n",
      "no     43092\n",
      "yes      830\n",
      "Name: in_default, dtype: int64\n",
      "\n",
      "In Default status, No: {'no': 0.8823, 'yes': 0.9315}\n",
      "\n",
      "In Default status, Yes: {'no': 0.1177, 'yes': 0.0685}\n",
      "\n"
     ]
    }
   ],
   "source": [
    "#I have a hunch about defaulting, but let's see what the data holds. \n",
    "\n",
    "print('Total default data:\\n{}\\n'.format(df.in_default.value_counts()))\n",
    "print('Yes default data: \\n{}\\n'.format(df.in_default.loc[df.term_deposit =='yes'].value_counts()))\n",
    "print('No default data: \\n{}\\n'.format(df.in_default.loc[df.term_deposit =='no'].value_counts()))\n",
    "\n",
    "dft_total = {}\n",
    "for idx, val in df.in_default.value_counts().items():\n",
    "    dft_total[idx] = val\n",
    "dft_yes = {}\n",
    "for idx, val in df.in_default.loc[df.term_deposit == 'yes'].value_counts().items():\n",
    "    dft_yes[idx] = val\n",
    "dft_no = {}\n",
    "for idx, val in df.in_default.loc[df.term_deposit == 'no'].value_counts().items():\n",
    "    dft_no[idx] = val\n",
    "\n",
    "dft_no_perc = {}\n",
    "dft_yes_perc = {}\n",
    "for key in dft_total:\n",
    "    dft_no_perc[key] = round(dft_no[key]/dft_total[key], 4)\n",
    "    dft_yes_perc[key] = round(dft_yes[key]/dft_total[key], 4)\n",
    "\n",
    "print(\"In Default status, No: {}\\n\".format(dft_no_perc))\n",
    "\n",
    "print(\"In Default status, Yes: {}\\n\".format(dft_yes_perc))"
   ]
  },
  {
   "cell_type": "markdown",
   "metadata": {},
   "source": [
    "Pretty substantial difference. I forsee it being a strong feature for the model."
   ]
  },
  {
   "cell_type": "code",
   "execution_count": 122,
   "metadata": {},
   "outputs": [
    {
     "name": "stdout",
     "output_type": "stream",
     "text": [
      "Avg_yearly_balance of no : 1312.7761941623787 \n",
      "Avg_yearly_balance of yes: 1783.4358003442342\n",
      "Min/Max no: -8019/102127\n",
      "Min/Max yes:-3058/81204\n",
      "Total STD; 3041.6087657666208\n",
      "No STD: 2983.651008144628\n",
      "Yes STD:3420.1800572166817\n"
     ]
    }
   ],
   "source": [
    "#avg_yearly_balance is next. This numerical data will be easier read by visuals, but let's get some basic info off it.\n",
    "print('Avg_yearly_balance of no : {} \\nAvg_yearly_balance of yes: {}'.format(df.avg_yearly_balance.loc[df.term_deposit == 'no'].mean(), \\\n",
    "                                                                             df.avg_yearly_balance.loc[df.term_deposit == 'yes'].mean()))\n",
    "print('Min/Max no: {}/{}\\nMin/Max yes:{}/{}'.format(df.avg_yearly_balance.loc[df.term_deposit == 'no'].min(), \\\n",
    "                                                    df.avg_yearly_balance.loc[df.term_deposit == 'no'].max(), \\\n",
    "                                                    df.avg_yearly_balance.loc[df.term_deposit == 'yes'].min(), \\\n",
    "                                                    df.avg_yearly_balance.loc[df.term_deposit == 'yes'].max()))\n",
    "print('Total STD; {}\\nNo STD: {}\\nYes STD:{}'.format(df.avg_yearly_balance.std(), \\\n",
    "                                                     df.avg_yearly_balance.loc[df.term_deposit == 'no'].std(), \\\n",
    "                                                    df.avg_yearly_balance.loc[df.term_deposit == 'yes'].std()))"
   ]
  },
  {
   "cell_type": "markdown",
   "metadata": {},
   "source": [
    "Hard to tell what's meaningful here. Clearly being a little negative hasn't stopped someone from signing up for a term deposit. Or at least being an average of negatives. The population of customers that have subscribed for a term_deposit also have the widest standard deviation. This must mean that avg balance has less to do with subscription than one would think. However, this could just be because less customers are in this group. "
   ]
  },
  {
   "cell_type": "code",
   "execution_count": 128,
   "metadata": {},
   "outputs": [
    {
     "name": "stdout",
     "output_type": "stream",
     "text": [
      "Total housing_loan data:\n",
      "yes    27689\n",
      "no     22043\n",
      "Name: housing_loan, dtype: int64\n",
      "\n",
      "housing_loan with term_deposit: \n",
      "no     3655\n",
      "yes    2155\n",
      "Name: housing_loan, dtype: int64\n",
      "\n",
      "housing_loan without term_deposit: \n",
      "yes    25534\n",
      "no     18388\n",
      "Name: housing_loan, dtype: int64\n",
      "\n",
      "With housing_loan but did not subscribe to term_deposit: {'yes': 0.9222, 'no': 0.8342}\n",
      "\n",
      "With housing_loan and subscribed to term_deposit: {'yes': 0.0778, 'no': 0.1658}\n",
      "\n"
     ]
    }
   ],
   "source": [
    "#housing loan \n",
    "\n",
    "print('Total housing_loan data:\\n{}\\n'.format(df.housing_loan.value_counts()))\n",
    "print('housing_loan with term_deposit: \\n{}\\n'.format(df.housing_loan.loc[df.term_deposit =='yes'].value_counts()))\n",
    "print('housing_loan without term_deposit: \\n{}\\n'.format(df.housing_loan.loc[df.term_deposit =='no'].value_counts()))\n",
    "\n",
    "hl_total = {}\n",
    "for idx, val in df.housing_loan.value_counts().items():\n",
    "    hl_total[idx] = val\n",
    "hl_yes = {}\n",
    "for idx, val in df.housing_loan.loc[df.term_deposit == 'yes'].value_counts().items():\n",
    "    hl_yes[idx] = val\n",
    "hl_no = {}\n",
    "for idx, val in df.housing_loan.loc[df.term_deposit == 'no'].value_counts().items():\n",
    "    hl_no[idx] = val\n",
    "\n",
    "hl_no_perc = {}\n",
    "hl_yes_perc = {}\n",
    "for key in hl_total:\n",
    "    hl_no_perc[key] = round(hl_no[key]/hl_total[key], 4)\n",
    "    hl_yes_perc[key] = round(hl_yes[key]/hl_total[key], 4)\n",
    "\n",
    "print(\"With housing_loan but did not subscribe to term_deposit: {}\\n\".format(hl_no_perc))\n",
    "\n",
    "print(\"With housing_loan and subscribed to term_deposit: {}\\n\".format(hl_yes_perc))"
   ]
  },
  {
   "cell_type": "markdown",
   "metadata": {},
   "source": [
    "Great deal of people with housing loans did not go for the term_deposit. Let's see if this is similar with the personal_loan has well. Then we may be able to infer something about having loans, perhaps couple it with negative balances if there is a correlation."
   ]
  },
  {
   "cell_type": "code",
   "execution_count": 130,
   "metadata": {},
   "outputs": [
    {
     "name": "stdout",
     "output_type": "stream",
     "text": [
      "Total personal_loan data:\n",
      "no     41797\n",
      "yes     7935\n",
      "Name: personal_loan, dtype: int64\n",
      "\n",
      "personal_loan with term_deposit: \n",
      "no     5283\n",
      "yes     527\n",
      "Name: personal_loan, dtype: int64\n",
      "\n",
      "personal_loan without term_deposit: \n",
      "no     36514\n",
      "yes     7408\n",
      "Name: personal_loan, dtype: int64\n",
      "\n",
      "With personal_loan but did not subscribe to term_deposit: {'no': 0.8736, 'yes': 0.9336}\n",
      "\n",
      "With personal_loan and subscribed to term_deposit: {'no': 0.1264, 'yes': 0.0664}\n",
      "\n"
     ]
    }
   ],
   "source": [
    "#personal_loan\n",
    "\n",
    "\n",
    "print('Total personal_loan data:\\n{}\\n'.format(df.personal_loan.value_counts()))\n",
    "print('personal_loan with term_deposit: \\n{}\\n'.format(df.personal_loan.loc[df.term_deposit =='yes'].value_counts()))\n",
    "print('personal_loan without term_deposit: \\n{}\\n'.format(df.personal_loan.loc[df.term_deposit =='no'].value_counts()))\n",
    "\n",
    "pl_total = {}\n",
    "for idx, val in df.personal_loan.value_counts().items():\n",
    "    pl_total[idx] = val\n",
    "pl_yes = {}\n",
    "for idx, val in df.personal_loan.loc[df.term_deposit == 'yes'].value_counts().items():\n",
    "    pl_yes[idx] = val\n",
    "pl_no = {}\n",
    "for idx, val in df.personal_loan.loc[df.term_deposit == 'no'].value_counts().items():\n",
    "    pl_no[idx] = val\n",
    "\n",
    "pl_no_perc = {}\n",
    "pl_yes_perc = {}\n",
    "for key in pl_total:\n",
    "    pl_no_perc[key] = round(pl_no[key]/pl_total[key], 4)\n",
    "    pl_yes_perc[key] = round(pl_yes[key]/pl_total[key], 4)\n",
    "\n",
    "print(\"With personal_loan but did not subscribe to term_deposit: {}\\n\".format(pl_no_perc))\n",
    "\n",
    "print(\"With personal_loan and subscribed to term_deposit: {}\\n\".format(pl_yes_perc))"
   ]
  },
  {
   "cell_type": "markdown",
   "metadata": {},
   "source": [
    "Looks like customers with loans are much less likely to subscribe to a term deposit. The percentages are ~ 1% between housing and personal that have and also subscribe."
   ]
  },
  {
   "cell_type": "code",
   "execution_count": 131,
   "metadata": {},
   "outputs": [
    {
     "name": "stdout",
     "output_type": "stream",
     "text": [
      "Total contact_method data:\n",
      "cellular     32181\n",
      "unknown      14344\n",
      "telephone     3207\n",
      "Name: contact_method, dtype: int64\n",
      "\n",
      "contact_method with term_deposit: \n",
      "cellular     4785\n",
      "unknown       591\n",
      "telephone     434\n",
      "Name: contact_method, dtype: int64\n",
      "\n",
      "contact_method without term_deposit: \n",
      "cellular     27396\n",
      "unknown      13753\n",
      "telephone     2773\n",
      "Name: contact_method, dtype: int64\n",
      "\n",
      "By: contact_method, and did not subscribe to term_deposit: {'cellular': 0.8513, 'unknown': 0.9588, 'telephone': 0.8647}\n",
      "\n",
      "By: contact_method,  and subscribed to term_deposit: {'cellular': 0.1487, 'unknown': 0.0412, 'telephone': 0.1353}\n",
      "\n"
     ]
    }
   ],
   "source": [
    "#contact_method - next time I do EDA I will define a function to make it easier and more efficient. For now this will do.\n",
    "\n",
    "print('Total contact_method data:\\n{}\\n'.format(df.contact_method.value_counts()))\n",
    "print('contact_method with term_deposit: \\n{}\\n'.format(df.contact_method.loc[df.term_deposit =='yes'].value_counts()))\n",
    "print('contact_method without term_deposit: \\n{}\\n'.format(df.contact_method.loc[df.term_deposit =='no'].value_counts()))\n",
    "\n",
    "cm_total = {}\n",
    "for idx, val in df.contact_method.value_counts().items():\n",
    "    cm_total[idx] = val\n",
    "cm_yes = {}\n",
    "for idx, val in df.contact_method.loc[df.term_deposit == 'yes'].value_counts().items():\n",
    "    cm_yes[idx] = val\n",
    "cm_no = {}\n",
    "for idx, val in df.contact_method.loc[df.term_deposit == 'no'].value_counts().items():\n",
    "    cm_no[idx] = val\n",
    "\n",
    "cm_no_perc = {}\n",
    "cm_yes_perc = {}\n",
    "for key in cm_total:\n",
    "    cm_no_perc[key] = round(cm_no[key]/cm_total[key], 4)\n",
    "    cm_yes_perc[key] = round(cm_yes[key]/cm_total[key], 4)\n",
    "\n",
    "print(\"By: contact_method, and did not subscribe to term_deposit: {}\\n\".format(cm_no_perc))\n",
    "\n",
    "print(\"By: contact_method,  and subscribed to term_deposit: {}\\n\".format(cm_yes_perc))\n"
   ]
  },
  {
   "cell_type": "markdown",
   "metadata": {},
   "source": [
    "Looks like telephone or cellular are very close in effectiveness. With unknown making up a small, but important portion of the remaining successes."
   ]
  },
  {
   "cell_type": "code",
   "execution_count": 135,
   "metadata": {},
   "outputs": [
    {
     "name": "stdout",
     "output_type": "stream",
     "text": [
      "Total month data:\n",
      "5     15164\n",
      "7      7601\n",
      "8      6880\n",
      "6      5872\n",
      "11     4359\n",
      "4      3225\n",
      "2      2871\n",
      "1      1551\n",
      "10      818\n",
      "9       631\n",
      "3       526\n",
      "12      234\n",
      "Name: month, dtype: int64\n",
      "\n",
      "month where = term_deposit: \n",
      "5     1018\n",
      "8      767\n",
      "7      688\n",
      "4      633\n",
      "6      601\n",
      "2      479\n",
      "11     442\n",
      "10     360\n",
      "9      286\n",
      "3      269\n",
      "1      158\n",
      "12     109\n",
      "Name: month, dtype: int64\n",
      "\n",
      "month where = without term_deposit: \n",
      "5     14146\n",
      "7      6913\n",
      "8      6113\n",
      "6      5271\n",
      "11     3917\n",
      "4      2592\n",
      "2      2392\n",
      "1      1393\n",
      "10      458\n",
      "9       345\n",
      "3       257\n",
      "12      125\n",
      "Name: month, dtype: int64\n",
      "\n",
      "By: month, and did not subscribe to term_deposit: {5: 0.9329, 7: 0.9095, 8: 0.8885, 6: 0.8976, 11: 0.8986, 4: 0.8037, 2: 0.8332, 1: 0.8981, 10: 0.5599, 9: 0.5468, 3: 0.4886, 12: 0.5342}\n",
      "\n",
      "By: month,  and subscribed to term_deposit: {5: 0.0671, 7: 0.0905, 8: 0.1115, 6: 0.1024, 11: 0.1014, 4: 0.1963, 2: 0.1668, 1: 0.1019, 10: 0.4401, 9: 0.4532, 3: 0.5114, 12: 0.4658}\n",
      "\n"
     ]
    }
   ],
   "source": [
    "#thinking about how to tackle day and month. Let's do month first. I feel like if there is a strong impression in time of year\n",
    "#then we have something to go off of.\n",
    "\n",
    "print('Total month data:\\n{}\\n'.format(df.month.value_counts()))\n",
    "print('month where = term_deposit: \\n{}\\n'.format(df.month.loc[df.term_deposit =='yes'].value_counts()))\n",
    "print('month where = without term_deposit: \\n{}\\n'.format(df.month.loc[df.term_deposit =='no'].value_counts()))\n",
    "\n",
    "month_total = {}\n",
    "for idx, val in df.month.value_counts().items():\n",
    "    month_total[idx] = val\n",
    "month_yes = {}\n",
    "for idx, val in df.month.loc[df.term_deposit == 'yes'].value_counts().items():\n",
    "    month_yes[idx] = val\n",
    "month_no = {}\n",
    "for idx, val in df.month.loc[df.term_deposit == 'no'].value_counts().items():\n",
    "    month_no[idx] = val\n",
    "\n",
    "month_no_perc = {}\n",
    "month_yes_perc = {}\n",
    "for key in month_total:\n",
    "    month_no_perc[key] = round(month_no[key]/month_total[key], 4)\n",
    "    month_yes_perc[key] = round(month_yes[key]/month_total[key], 4)\n",
    "\n",
    "print(\"By: month, and did not subscribe to term_deposit: {}\\n\".format(month_no_perc))\n",
    "\n",
    "print(\"By: month,  and subscribed to term_deposit: {}\\n\".format(month_yes_perc))\n"
   ]
  },
  {
   "cell_type": "markdown",
   "metadata": {},
   "source": [
    "Theres definitely some observations to unpack here. September, October, December, and March have insanely ratios. Although May had the most conversions, they also missed the most. I may have to unpack the prev_contact data to make this data clearer. I have no absolutely direction, so let's go ahead and unpack days. \n",
    "\n",
    "Days are days of the month, but not by the weekday. Although if we can figure out which 7 interval is being skipped the most we can determine which day is Sunday(I'm making an assumption that the bank is not making calls on Sunday). If this is true we can use that data to line this up with which year(s) this data is from and figure out which weekdays are best in addition to portion of the month(if that is even a variable). I thoroughly expect this data to be most effective on something like mondays when people have just had the weekend to relax and are open to making decisions. From my experience making phone calls, mondays are the days that you are most likely to catch someone and fridays the worst."
   ]
  },
  {
   "cell_type": "code",
   "execution_count": 136,
   "metadata": {},
   "outputs": [
    {
     "name": "stdout",
     "output_type": "stream",
     "text": [
      "Total day data:\n",
      "20    3009\n",
      "18    2534\n",
      "21    2224\n",
      "17    2130\n",
      "6     2119\n",
      "5     2091\n",
      "14    2043\n",
      "8     2022\n",
      "28    2011\n",
      "7     2007\n",
      "19    1958\n",
      "29    1920\n",
      "15    1877\n",
      "12    1754\n",
      "13    1751\n",
      "30    1734\n",
      "9     1724\n",
      "11    1631\n",
      "4     1584\n",
      "16    1579\n",
      "2     1407\n",
      "27    1234\n",
      "3     1184\n",
      "26    1145\n",
      "23    1041\n",
      "22     991\n",
      "25     920\n",
      "31     702\n",
      "10     574\n",
      "24     483\n",
      "1      349\n",
      "Name: day, dtype: int64\n",
      "\n",
      "day where = term_deposit: \n",
      "30    298\n",
      "12    272\n",
      "13    263\n",
      "18    263\n",
      "15    261\n",
      "4     244\n",
      "5     243\n",
      "14    229\n",
      "21    224\n",
      "16    216\n",
      "8     215\n",
      "20    207\n",
      "11    201\n",
      "2     196\n",
      "6     195\n",
      "9     195\n",
      "17    192\n",
      "3     190\n",
      "7     170\n",
      "22    170\n",
      "27    166\n",
      "28    160\n",
      "25    143\n",
      "29    139\n",
      "19    138\n",
      "23    137\n",
      "10    135\n",
      "26    128\n",
      "1     100\n",
      "24     70\n",
      "31     50\n",
      "Name: day, dtype: int64\n",
      "\n",
      "day where = without term_deposit: \n",
      "20    2802\n",
      "18    2271\n",
      "21    2000\n",
      "17    1938\n",
      "6     1924\n",
      "28    1851\n",
      "5     1848\n",
      "7     1837\n",
      "19    1820\n",
      "14    1814\n",
      "8     1807\n",
      "29    1781\n",
      "15    1616\n",
      "9     1529\n",
      "13    1488\n",
      "12    1482\n",
      "30    1436\n",
      "11    1430\n",
      "16    1363\n",
      "4     1340\n",
      "2     1211\n",
      "27    1068\n",
      "26    1017\n",
      "3      994\n",
      "23     904\n",
      "22     821\n",
      "25     777\n",
      "31     652\n",
      "10     439\n",
      "24     413\n",
      "1      249\n",
      "Name: day, dtype: int64\n",
      "\n",
      "By: day, and did not subscribe to term_deposit: {20: 0.9312, 18: 0.8962, 21: 0.8993, 17: 0.9099, 6: 0.908, 5: 0.8838, 14: 0.8879, 8: 0.8937, 28: 0.9204, 7: 0.9153, 19: 0.9295, 29: 0.9276, 15: 0.8609, 12: 0.8449, 13: 0.8498, 30: 0.8281, 9: 0.8869, 11: 0.8768, 4: 0.846, 16: 0.8632, 2: 0.8607, 27: 0.8655, 3: 0.8395, 26: 0.8882, 23: 0.8684, 22: 0.8285, 25: 0.8446, 31: 0.9288, 10: 0.7648, 24: 0.8551, 1: 0.7135}\n",
      "\n",
      "By: day,  and subscribed to term_deposit: {20: 0.0688, 18: 0.1038, 21: 0.1007, 17: 0.0901, 6: 0.092, 5: 0.1162, 14: 0.1121, 8: 0.1063, 28: 0.0796, 7: 0.0847, 19: 0.0705, 29: 0.0724, 15: 0.1391, 12: 0.1551, 13: 0.1502, 30: 0.1719, 9: 0.1131, 11: 0.1232, 4: 0.154, 16: 0.1368, 2: 0.1393, 27: 0.1345, 3: 0.1605, 26: 0.1118, 23: 0.1316, 22: 0.1715, 25: 0.1554, 31: 0.0712, 10: 0.2352, 24: 0.1449, 1: 0.2865}\n",
      "\n"
     ]
    }
   ],
   "source": [
    "#Day\n",
    "\n",
    "print('Total day data:\\n{}\\n'.format(df.day.value_counts()))\n",
    "print('day where = term_deposit: \\n{}\\n'.format(df.day.loc[df.term_deposit =='yes'].value_counts()))\n",
    "print('day where = without term_deposit: \\n{}\\n'.format(df.day.loc[df.term_deposit =='no'].value_counts()))\n",
    "\n",
    "day_total = {}\n",
    "for idx, val in df.day.value_counts().items():\n",
    "    day_total[idx] = val\n",
    "day_yes = {}\n",
    "for idx, val in df.day.loc[df.term_deposit == 'yes'].value_counts().items():\n",
    "    day_yes[idx] = val\n",
    "day_no = {}\n",
    "for idx, val in df.day.loc[df.term_deposit == 'no'].value_counts().items():\n",
    "    day_no[idx] = val\n",
    "\n",
    "day_no_perc = {}\n",
    "day_yes_perc = {}\n",
    "for key in day_total:\n",
    "    day_no_perc[key] = round(day_no[key]/day_total[key], 4)\n",
    "    day_yes_perc[key] = round(day_yes[key]/day_total[key], 4)\n",
    "\n",
    "print(\"By: day, and did not subscribe to term_deposit: {}\\n\".format(day_no_perc))\n",
    "\n",
    "print(\"By: day,  and subscribed to term_deposit: {}\\n\".format(day_yes_perc))"
   ]
  },
  {
   "cell_type": "markdown",
   "metadata": {},
   "source": []
  }
 ],
 "metadata": {
  "kernelspec": {
   "display_name": "Python 3",
   "language": "python",
   "name": "python3"
  },
  "language_info": {
   "codemirror_mode": {
    "name": "ipython",
    "version": 3
   },
   "file_extension": ".py",
   "mimetype": "text/x-python",
   "name": "python",
   "nbconvert_exporter": "python",
   "pygments_lexer": "ipython3",
   "version": "3.7.6"
  }
 },
 "nbformat": 4,
 "nbformat_minor": 4
}
