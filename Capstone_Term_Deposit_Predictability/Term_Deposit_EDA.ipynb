{
 "cells": [
  {
   "cell_type": "markdown",
   "metadata": {},
   "source": [
    "Goal of this notebook is to generate visualizations that will help portray our statistical findings while also being easy to read and ascetic.\n",
    "\n",
    "Step 1. Dig through the data and find statistically significant and interesting correlations - the messier of the EDA steps."
   ]
  },
  {
   "cell_type": "code",
   "execution_count": 1,
   "metadata": {},
   "outputs": [],
   "source": [
    "#Importing EDA type modules\n",
    "import numpy as pd\n",
    "import pandas as pd\n",
    "import matplotlib.pyplot as plt"
   ]
  },
  {
   "cell_type": "code",
   "execution_count": 2,
   "metadata": {},
   "outputs": [
    {
     "data": {
      "text/html": [
       "<div>\n",
       "<style scoped>\n",
       "    .dataframe tbody tr th:only-of-type {\n",
       "        vertical-align: middle;\n",
       "    }\n",
       "\n",
       "    .dataframe tbody tr th {\n",
       "        vertical-align: top;\n",
       "    }\n",
       "\n",
       "    .dataframe thead th {\n",
       "        text-align: right;\n",
       "    }\n",
       "</style>\n",
       "<table border=\"1\" class=\"dataframe\">\n",
       "  <thead>\n",
       "    <tr style=\"text-align: right;\">\n",
       "      <th></th>\n",
       "      <th>age</th>\n",
       "      <th>job</th>\n",
       "      <th>marital</th>\n",
       "      <th>education</th>\n",
       "      <th>in_default</th>\n",
       "      <th>avg_yearly_balance</th>\n",
       "      <th>housing_loan</th>\n",
       "      <th>personal_loan</th>\n",
       "      <th>contact_method</th>\n",
       "      <th>day</th>\n",
       "      <th>month</th>\n",
       "      <th>duration</th>\n",
       "      <th>campaign_contacts</th>\n",
       "      <th>prev_days</th>\n",
       "      <th>previous_contacts</th>\n",
       "      <th>prev_outcome</th>\n",
       "      <th>term_deposit</th>\n",
       "    </tr>\n",
       "  </thead>\n",
       "  <tbody>\n",
       "    <tr>\n",
       "      <th>0</th>\n",
       "      <td>58</td>\n",
       "      <td>management</td>\n",
       "      <td>married</td>\n",
       "      <td>tertiary</td>\n",
       "      <td>no</td>\n",
       "      <td>2143</td>\n",
       "      <td>yes</td>\n",
       "      <td>no</td>\n",
       "      <td>unknown</td>\n",
       "      <td>5</td>\n",
       "      <td>5</td>\n",
       "      <td>261</td>\n",
       "      <td>1</td>\n",
       "      <td>-1</td>\n",
       "      <td>0</td>\n",
       "      <td>unknown</td>\n",
       "      <td>no</td>\n",
       "    </tr>\n",
       "    <tr>\n",
       "      <th>1</th>\n",
       "      <td>44</td>\n",
       "      <td>technician</td>\n",
       "      <td>single</td>\n",
       "      <td>secondary</td>\n",
       "      <td>no</td>\n",
       "      <td>29</td>\n",
       "      <td>yes</td>\n",
       "      <td>no</td>\n",
       "      <td>unknown</td>\n",
       "      <td>5</td>\n",
       "      <td>5</td>\n",
       "      <td>151</td>\n",
       "      <td>1</td>\n",
       "      <td>-1</td>\n",
       "      <td>0</td>\n",
       "      <td>unknown</td>\n",
       "      <td>no</td>\n",
       "    </tr>\n",
       "    <tr>\n",
       "      <th>2</th>\n",
       "      <td>33</td>\n",
       "      <td>entrepreneur</td>\n",
       "      <td>married</td>\n",
       "      <td>secondary</td>\n",
       "      <td>no</td>\n",
       "      <td>2</td>\n",
       "      <td>yes</td>\n",
       "      <td>yes</td>\n",
       "      <td>unknown</td>\n",
       "      <td>5</td>\n",
       "      <td>5</td>\n",
       "      <td>76</td>\n",
       "      <td>1</td>\n",
       "      <td>-1</td>\n",
       "      <td>0</td>\n",
       "      <td>unknown</td>\n",
       "      <td>no</td>\n",
       "    </tr>\n",
       "    <tr>\n",
       "      <th>3</th>\n",
       "      <td>47</td>\n",
       "      <td>blue-collar</td>\n",
       "      <td>married</td>\n",
       "      <td>unknown</td>\n",
       "      <td>no</td>\n",
       "      <td>1506</td>\n",
       "      <td>yes</td>\n",
       "      <td>no</td>\n",
       "      <td>unknown</td>\n",
       "      <td>5</td>\n",
       "      <td>5</td>\n",
       "      <td>92</td>\n",
       "      <td>1</td>\n",
       "      <td>-1</td>\n",
       "      <td>0</td>\n",
       "      <td>unknown</td>\n",
       "      <td>no</td>\n",
       "    </tr>\n",
       "    <tr>\n",
       "      <th>4</th>\n",
       "      <td>33</td>\n",
       "      <td>unknown</td>\n",
       "      <td>single</td>\n",
       "      <td>unknown</td>\n",
       "      <td>no</td>\n",
       "      <td>1</td>\n",
       "      <td>no</td>\n",
       "      <td>no</td>\n",
       "      <td>unknown</td>\n",
       "      <td>5</td>\n",
       "      <td>5</td>\n",
       "      <td>198</td>\n",
       "      <td>1</td>\n",
       "      <td>-1</td>\n",
       "      <td>0</td>\n",
       "      <td>unknown</td>\n",
       "      <td>no</td>\n",
       "    </tr>\n",
       "  </tbody>\n",
       "</table>\n",
       "</div>"
      ],
      "text/plain": [
       "   age           job  marital  education in_default  avg_yearly_balance  \\\n",
       "0   58    management  married   tertiary         no                2143   \n",
       "1   44    technician   single  secondary         no                  29   \n",
       "2   33  entrepreneur  married  secondary         no                   2   \n",
       "3   47   blue-collar  married    unknown         no                1506   \n",
       "4   33       unknown   single    unknown         no                   1   \n",
       "\n",
       "  housing_loan personal_loan contact_method  day  month  duration  \\\n",
       "0          yes            no        unknown    5      5       261   \n",
       "1          yes            no        unknown    5      5       151   \n",
       "2          yes           yes        unknown    5      5        76   \n",
       "3          yes            no        unknown    5      5        92   \n",
       "4           no            no        unknown    5      5       198   \n",
       "\n",
       "   campaign_contacts  prev_days  previous_contacts prev_outcome term_deposit  \n",
       "0                  1         -1                  0      unknown           no  \n",
       "1                  1         -1                  0      unknown           no  \n",
       "2                  1         -1                  0      unknown           no  \n",
       "3                  1         -1                  0      unknown           no  \n",
       "4                  1         -1                  0      unknown           no  "
      ]
     },
     "execution_count": 2,
     "metadata": {},
     "output_type": "execute_result"
    }
   ],
   "source": [
    "#importing clean_df\n",
    "df = pd.read_csv('Peruvian_Bank_Data/clean_df.csv', header = 0)\n",
    "df.head()"
   ]
  },
  {
   "cell_type": "code",
   "execution_count": 3,
   "metadata": {},
   "outputs": [
    {
     "name": "stdout",
     "output_type": "stream",
     "text": [
      "Avg age of no : 40.85346751058695 \n",
      "Avg age of yes: 41.743717728055074\n"
     ]
    }
   ],
   "source": [
    "#let's start with age\n",
    "print('Avg age of no : {} \\nAvg age of yes: {}'.format(df.age.loc[df.term_deposit == 'no'].mean(), df.age.loc[df.term_deposit == 'yes'].mean()))"
   ]
  },
  {
   "cell_type": "code",
   "execution_count": 4,
   "metadata": {},
   "outputs": [
    {
     "data": {
      "text/plain": [
       "job\n",
       "management       1432\n",
       "technician        923\n",
       "blue-collar       777\n",
       "admin.            689\n",
       "retired           570\n",
       "services          407\n",
       "student           288\n",
       "unemployed        215\n",
       "self-employed     207\n",
       "entrepreneur      138\n",
       "housemaid         123\n",
       "unknown            41\n",
       "Name: term_deposit, dtype: int64"
      ]
     },
     "execution_count": 4,
     "metadata": {},
     "output_type": "execute_result"
    }
   ],
   "source": [
    "#order of jobs for both\n",
    "#yes split\n",
    "df.loc[df.term_deposit == 'yes'].set_index('job').groupby('job').count()['term_deposit'].sort_values(ascending = False)"
   ]
  },
  {
   "cell_type": "code",
   "execution_count": 5,
   "metadata": {},
   "outputs": [
    {
     "data": {
      "text/plain": [
       "job\n",
       "blue-collar      9901\n",
       "management       8995\n",
       "technician       7442\n",
       "admin.           4960\n",
       "services         4164\n",
       "retired          1924\n",
       "self-employed    1555\n",
       "entrepreneur     1517\n",
       "housemaid        1229\n",
       "unemployed       1216\n",
       "student           734\n",
       "unknown           285\n",
       "Name: term_deposit, dtype: int64"
      ]
     },
     "execution_count": 5,
     "metadata": {},
     "output_type": "execute_result"
    }
   ],
   "source": [
    "df.loc[df.term_deposit == 'no'].set_index('job').groupby('job').count()['term_deposit'].sort_values(ascending = False)"
   ]
  },
  {
   "cell_type": "code",
   "execution_count": 6,
   "metadata": {},
   "outputs": [
    {
     "name": "stdout",
     "output_type": "stream",
     "text": [
      "{'blue-collar': 0.9272, 'management': 0.8627, 'technician': 0.8897, 'admin.': 0.878, 'services': 0.911, 'retired': 0.7715, 'self-employed': 0.8825, 'entrepreneur': 0.9166, 'unemployed': 0.8498, 'housemaid': 0.909, 'student': 0.7182, 'unknown': 0.8742}\n",
      "{'blue-collar': 0.0728, 'management': 0.1373, 'technician': 0.1103, 'admin.': 0.122, 'services': 0.089, 'retired': 0.2285, 'self-employed': 0.1175, 'entrepreneur': 0.0834, 'unemployed': 0.1502, 'housemaid': 0.091, 'student': 0.2818, 'unknown': 0.1258}\n"
     ]
    }
   ],
   "source": [
    "#This gives me an idea of creating a dictionary of some percentages represented as float\n",
    "jobs_total = {}\n",
    "for idx, val in df.job.value_counts().items():\n",
    "    jobs_total[idx] = val\n",
    "jobs_yes = {}\n",
    "for idx, val in df.job.loc[df.term_deposit == 'yes'].value_counts().items():\n",
    "    jobs_yes[idx] = val\n",
    "jobs_no = {}\n",
    "for idx, val in df.job.loc[df.term_deposit == 'no'].value_counts().items():\n",
    "    jobs_no[idx] = val\n",
    "\n",
    "jobs_no_perc = {}\n",
    "jobs_yes_perc = {}\n",
    "for key in jobs_total:\n",
    "    jobs_no_perc[key] = round(jobs_no[key]/jobs_total[key], 4)\n",
    "    jobs_yes_perc[key] = round(jobs_yes[key]/jobs_total[key], 4)\n",
    "\n",
    "print(jobs_no_perc)\n",
    "\n",
    "print(jobs_yes_perc)"
   ]
  },
  {
   "cell_type": "markdown",
   "metadata": {},
   "source": [
    "Too early to make any real conclusions here, although we do see that a surprisingly high amount of students signed up for term deposits."
   ]
  },
  {
   "cell_type": "code",
   "execution_count": 7,
   "metadata": {},
   "outputs": [
    {
     "name": "stdout",
     "output_type": "stream",
     "text": [
      "Total marital data:\n",
      "married     30011\n",
      "single      13986\n",
      "divorced     5735\n",
      "Name: marital, dtype: int64\n",
      "\n",
      "Yes marital data: \n",
      "married     3032\n",
      "single      2079\n",
      "divorced     699\n",
      "Name: marital, dtype: int64\n",
      "\n",
      "No marital data: \n",
      "married     26979\n",
      "single      11907\n",
      "divorced     5036\n",
      "Name: marital, dtype: int64\n",
      "\n"
     ]
    }
   ],
   "source": [
    "#let's take a look at marital data\n",
    "\n",
    "print('Total marital data:\\n{}\\n'.format(df.marital.value_counts()))\n",
    "print('Yes marital data: \\n{}\\n'.format(df.marital.loc[df.term_deposit =='yes'].value_counts()))\n",
    "print('No marital data: \\n{}\\n'.format(df.marital.loc[df.term_deposit =='no'].value_counts()))"
   ]
  },
  {
   "cell_type": "markdown",
   "metadata": {},
   "source": [
    "Just from eyeballing the data here, we see that a higher ratio of single people have subscribed to a term_deposit versus married partners. However, this may also be because only one partner decides to do the term deposit using a combination of their money. So I can't write this off as leaning any which way because I don't have individual data. We can go ahead and create ratios again however for exploration."
   ]
  },
  {
   "cell_type": "code",
   "execution_count": 8,
   "metadata": {},
   "outputs": [
    {
     "name": "stdout",
     "output_type": "stream",
     "text": [
      "Marital status, No: {'married': 0.899, 'single': 0.8514, 'divorced': 0.8781}\n",
      "\n",
      "Marital status, Yes: {'married': 0.101, 'single': 0.1486, 'divorced': 0.1219}\n",
      "\n"
     ]
    }
   ],
   "source": [
    "mar_total = {}\n",
    "for idx, val in df.marital.value_counts().items():\n",
    "    mar_total[idx] = val\n",
    "mar_yes = {}\n",
    "for idx, val in df.marital.loc[df.term_deposit == 'yes'].value_counts().items():\n",
    "    mar_yes[idx] = val\n",
    "mar_no = {}\n",
    "for idx, val in df.marital.loc[df.term_deposit == 'no'].value_counts().items():\n",
    "    mar_no[idx] = val\n",
    "\n",
    "mar_no_perc = {}\n",
    "mar_yes_perc = {}\n",
    "for key in mar_total:\n",
    "    mar_no_perc[key] = round(mar_no[key]/mar_total[key], 4)\n",
    "    mar_yes_perc[key] = round(mar_yes[key]/mar_total[key], 4)\n",
    "\n",
    "print(\"Marital status, No: {}\\n\".format(mar_no_perc))\n",
    "\n",
    "print(\"Marital status, Yes: {}\\n\".format(mar_yes_perc))"
   ]
  },
  {
   "cell_type": "code",
   "execution_count": 9,
   "metadata": {},
   "outputs": [
    {
     "name": "stdout",
     "output_type": "stream",
     "text": [
      "Total educational data:\n",
      "secondary    25508\n",
      "tertiary     14651\n",
      "primary       7529\n",
      "unknown       2044\n",
      "Name: education, dtype: int64\n",
      "\n",
      "Yes educational data: \n",
      "secondary    2695\n",
      "tertiary     2189\n",
      "primary       655\n",
      "unknown       271\n",
      "Name: education, dtype: int64\n",
      "\n",
      "No educational data: \n",
      "secondary    22813\n",
      "tertiary     12462\n",
      "primary       6874\n",
      "unknown       1773\n",
      "Name: education, dtype: int64\n",
      "\n",
      "Educational status, No: {'secondary': 0.8943, 'tertiary': 0.8506, 'primary': 0.913, 'unknown': 0.8674}\n",
      "\n",
      "Educational status, Yes: {'secondary': 0.1057, 'tertiary': 0.1494, 'primary': 0.087, 'unknown': 0.1326}\n",
      "\n"
     ]
    }
   ],
   "source": [
    "#same exact thing, but education now. We've seem to found a groove.\n",
    "\n",
    "print('Total educational data:\\n{}\\n'.format(df.education.value_counts()))\n",
    "print('Yes educational data: \\n{}\\n'.format(df.education.loc[df.term_deposit =='yes'].value_counts()))\n",
    "print('No educational data: \\n{}\\n'.format(df.education.loc[df.term_deposit =='no'].value_counts()))\n",
    "\n",
    "edu_total = {}\n",
    "for idx, val in df.education.value_counts().items():\n",
    "    edu_total[idx] = val\n",
    "edu_yes = {}\n",
    "for idx, val in df.education.loc[df.term_deposit == 'yes'].value_counts().items():\n",
    "    edu_yes[idx] = val\n",
    "edu_no = {}\n",
    "for idx, val in df.education.loc[df.term_deposit == 'no'].value_counts().items():\n",
    "    edu_no[idx] = val\n",
    "\n",
    "edu_no_perc = {}\n",
    "edu_yes_perc = {}\n",
    "for key in edu_total:\n",
    "    edu_no_perc[key] = round(edu_no[key]/edu_total[key], 4)\n",
    "    edu_yes_perc[key] = round(edu_yes[key]/edu_total[key], 4)\n",
    "\n",
    "print(\"Educational status, No: {}\\n\".format(edu_no_perc))\n",
    "\n",
    "print(\"Educational status, Yes: {}\\n\".format(edu_yes_perc))"
   ]
  },
  {
   "cell_type": "code",
   "execution_count": 10,
   "metadata": {},
   "outputs": [
    {
     "name": "stdout",
     "output_type": "stream",
     "text": [
      "Total default data:\n",
      "no     48841\n",
      "yes      891\n",
      "Name: in_default, dtype: int64\n",
      "\n",
      "Yes default data: \n",
      "no     5749\n",
      "yes      61\n",
      "Name: in_default, dtype: int64\n",
      "\n",
      "No default data: \n",
      "no     43092\n",
      "yes      830\n",
      "Name: in_default, dtype: int64\n",
      "\n",
      "In Default status, No: {'no': 0.8823, 'yes': 0.9315}\n",
      "\n",
      "In Default status, Yes: {'no': 0.1177, 'yes': 0.0685}\n",
      "\n"
     ]
    }
   ],
   "source": [
    "#I have a hunch about defaulting, but let's see what the data holds. \n",
    "\n",
    "print('Total default data:\\n{}\\n'.format(df.in_default.value_counts()))\n",
    "print('Yes default data: \\n{}\\n'.format(df.in_default.loc[df.term_deposit =='yes'].value_counts()))\n",
    "print('No default data: \\n{}\\n'.format(df.in_default.loc[df.term_deposit =='no'].value_counts()))\n",
    "\n",
    "dft_total = {}\n",
    "for idx, val in df.in_default.value_counts().items():\n",
    "    dft_total[idx] = val\n",
    "dft_yes = {}\n",
    "for idx, val in df.in_default.loc[df.term_deposit == 'yes'].value_counts().items():\n",
    "    dft_yes[idx] = val\n",
    "dft_no = {}\n",
    "for idx, val in df.in_default.loc[df.term_deposit == 'no'].value_counts().items():\n",
    "    dft_no[idx] = val\n",
    "\n",
    "dft_no_perc = {}\n",
    "dft_yes_perc = {}\n",
    "for key in dft_total:\n",
    "    dft_no_perc[key] = round(dft_no[key]/dft_total[key], 4)\n",
    "    dft_yes_perc[key] = round(dft_yes[key]/dft_total[key], 4)\n",
    "\n",
    "print(\"In Default status, No: {}\\n\".format(dft_no_perc))\n",
    "\n",
    "print(\"In Default status, Yes: {}\\n\".format(dft_yes_perc))"
   ]
  },
  {
   "cell_type": "markdown",
   "metadata": {},
   "source": [
    "Pretty substantial difference. I forsee it being a strong feature for the model."
   ]
  },
  {
   "cell_type": "code",
   "execution_count": 11,
   "metadata": {},
   "outputs": [
    {
     "name": "stdout",
     "output_type": "stream",
     "text": [
      "Avg_yearly_balance of no : 1312.7761941623787 \n",
      "Avg_yearly_balance of yes: 1783.4358003442342\n",
      "Min/Max no: -8019/102127\n",
      "Min/Max yes:-3058/81204\n",
      "Total STD; 3041.6087657666208\n",
      "No STD: 2983.651008144628\n",
      "Yes STD:3420.1800572166817\n"
     ]
    }
   ],
   "source": [
    "#avg_yearly_balance is next. This numerical data will be easier read by visuals, but let's get some basic info off it.\n",
    "print('Avg_yearly_balance of no : {} \\nAvg_yearly_balance of yes: {}'.format(df.avg_yearly_balance.loc[df.term_deposit == 'no'].mean(), \\\n",
    "                                                                             df.avg_yearly_balance.loc[df.term_deposit == 'yes'].mean()))\n",
    "print('Min/Max no: {}/{}\\nMin/Max yes:{}/{}'.format(df.avg_yearly_balance.loc[df.term_deposit == 'no'].min(), \\\n",
    "                                                    df.avg_yearly_balance.loc[df.term_deposit == 'no'].max(), \\\n",
    "                                                    df.avg_yearly_balance.loc[df.term_deposit == 'yes'].min(), \\\n",
    "                                                    df.avg_yearly_balance.loc[df.term_deposit == 'yes'].max()))\n",
    "print('Total STD; {}\\nNo STD: {}\\nYes STD:{}'.format(df.avg_yearly_balance.std(), \\\n",
    "                                                     df.avg_yearly_balance.loc[df.term_deposit == 'no'].std(), \\\n",
    "                                                    df.avg_yearly_balance.loc[df.term_deposit == 'yes'].std()))"
   ]
  },
  {
   "cell_type": "markdown",
   "metadata": {},
   "source": [
    "Hard to tell what's meaningful here. Clearly being a little negative hasn't stopped someone from signing up for a term deposit. Or at least being an average of negatives. The population of customers that have subscribed for a term_deposit also have the widest standard deviation. This must mean that avg balance has less to do with subscription than one would think. However, this could just be because less customers are in this group. "
   ]
  },
  {
   "cell_type": "code",
   "execution_count": 12,
   "metadata": {},
   "outputs": [
    {
     "name": "stdout",
     "output_type": "stream",
     "text": [
      "Total housing_loan data:\n",
      "yes    27689\n",
      "no     22043\n",
      "Name: housing_loan, dtype: int64\n",
      "\n",
      "housing_loan with term_deposit: \n",
      "no     3655\n",
      "yes    2155\n",
      "Name: housing_loan, dtype: int64\n",
      "\n",
      "housing_loan without term_deposit: \n",
      "yes    25534\n",
      "no     18388\n",
      "Name: housing_loan, dtype: int64\n",
      "\n",
      "With housing_loan but did not subscribe to term_deposit: {'yes': 0.9222, 'no': 0.8342}\n",
      "\n",
      "With housing_loan and subscribed to term_deposit: {'yes': 0.0778, 'no': 0.1658}\n",
      "\n"
     ]
    }
   ],
   "source": [
    "#housing loan \n",
    "\n",
    "print('Total housing_loan data:\\n{}\\n'.format(df.housing_loan.value_counts()))\n",
    "print('housing_loan with term_deposit: \\n{}\\n'.format(df.housing_loan.loc[df.term_deposit =='yes'].value_counts()))\n",
    "print('housing_loan without term_deposit: \\n{}\\n'.format(df.housing_loan.loc[df.term_deposit =='no'].value_counts()))\n",
    "\n",
    "hl_total = {}\n",
    "for idx, val in df.housing_loan.value_counts().items():\n",
    "    hl_total[idx] = val\n",
    "hl_yes = {}\n",
    "for idx, val in df.housing_loan.loc[df.term_deposit == 'yes'].value_counts().items():\n",
    "    hl_yes[idx] = val\n",
    "hl_no = {}\n",
    "for idx, val in df.housing_loan.loc[df.term_deposit == 'no'].value_counts().items():\n",
    "    hl_no[idx] = val\n",
    "\n",
    "hl_no_perc = {}\n",
    "hl_yes_perc = {}\n",
    "for key in hl_total:\n",
    "    hl_no_perc[key] = round(hl_no[key]/hl_total[key], 4)\n",
    "    hl_yes_perc[key] = round(hl_yes[key]/hl_total[key], 4)\n",
    "\n",
    "print(\"With housing_loan but did not subscribe to term_deposit: {}\\n\".format(hl_no_perc))\n",
    "\n",
    "print(\"With housing_loan and subscribed to term_deposit: {}\\n\".format(hl_yes_perc))"
   ]
  },
  {
   "cell_type": "markdown",
   "metadata": {},
   "source": [
    "Great deal of people with housing loans did not go for the term_deposit. Let's see if this is similar with the personal_loan has well. Then we may be able to infer something about having loans, perhaps couple it with negative balances if there is a correlation."
   ]
  },
  {
   "cell_type": "code",
   "execution_count": 13,
   "metadata": {},
   "outputs": [
    {
     "name": "stdout",
     "output_type": "stream",
     "text": [
      "Total personal_loan data:\n",
      "no     41797\n",
      "yes     7935\n",
      "Name: personal_loan, dtype: int64\n",
      "\n",
      "personal_loan with term_deposit: \n",
      "no     5283\n",
      "yes     527\n",
      "Name: personal_loan, dtype: int64\n",
      "\n",
      "personal_loan without term_deposit: \n",
      "no     36514\n",
      "yes     7408\n",
      "Name: personal_loan, dtype: int64\n",
      "\n",
      "With personal_loan but did not subscribe to term_deposit: {'no': 0.8736, 'yes': 0.9336}\n",
      "\n",
      "With personal_loan and subscribed to term_deposit: {'no': 0.1264, 'yes': 0.0664}\n",
      "\n"
     ]
    }
   ],
   "source": [
    "#personal_loan\n",
    "\n",
    "\n",
    "print('Total personal_loan data:\\n{}\\n'.format(df.personal_loan.value_counts()))\n",
    "print('personal_loan with term_deposit: \\n{}\\n'.format(df.personal_loan.loc[df.term_deposit =='yes'].value_counts()))\n",
    "print('personal_loan without term_deposit: \\n{}\\n'.format(df.personal_loan.loc[df.term_deposit =='no'].value_counts()))\n",
    "\n",
    "pl_total = {}\n",
    "for idx, val in df.personal_loan.value_counts().items():\n",
    "    pl_total[idx] = val\n",
    "pl_yes = {}\n",
    "for idx, val in df.personal_loan.loc[df.term_deposit == 'yes'].value_counts().items():\n",
    "    pl_yes[idx] = val\n",
    "pl_no = {}\n",
    "for idx, val in df.personal_loan.loc[df.term_deposit == 'no'].value_counts().items():\n",
    "    pl_no[idx] = val\n",
    "\n",
    "pl_no_perc = {}\n",
    "pl_yes_perc = {}\n",
    "for key in pl_total:\n",
    "    pl_no_perc[key] = round(pl_no[key]/pl_total[key], 4)\n",
    "    pl_yes_perc[key] = round(pl_yes[key]/pl_total[key], 4)\n",
    "\n",
    "print(\"With personal_loan but did not subscribe to term_deposit: {}\\n\".format(pl_no_perc))\n",
    "\n",
    "print(\"With personal_loan and subscribed to term_deposit: {}\\n\".format(pl_yes_perc))"
   ]
  },
  {
   "cell_type": "markdown",
   "metadata": {},
   "source": [
    "Looks like customers with loans are much less likely to subscribe to a term deposit. The percentages are ~ 1% between housing and personal that have and also subscribe."
   ]
  },
  {
   "cell_type": "code",
   "execution_count": 14,
   "metadata": {},
   "outputs": [
    {
     "name": "stdout",
     "output_type": "stream",
     "text": [
      "Total contact_method data:\n",
      "cellular     32181\n",
      "unknown      14344\n",
      "telephone     3207\n",
      "Name: contact_method, dtype: int64\n",
      "\n",
      "contact_method with term_deposit: \n",
      "cellular     4785\n",
      "unknown       591\n",
      "telephone     434\n",
      "Name: contact_method, dtype: int64\n",
      "\n",
      "contact_method without term_deposit: \n",
      "cellular     27396\n",
      "unknown      13753\n",
      "telephone     2773\n",
      "Name: contact_method, dtype: int64\n",
      "\n",
      "By: contact_method, and did not subscribe to term_deposit: {'cellular': 0.8513, 'unknown': 0.9588, 'telephone': 0.8647}\n",
      "\n",
      "By: contact_method,  and subscribed to term_deposit: {'cellular': 0.1487, 'unknown': 0.0412, 'telephone': 0.1353}\n",
      "\n"
     ]
    }
   ],
   "source": [
    "#contact_method - next time I do EDA I will define a function to make it easier and more efficient. For now this will do.\n",
    "\n",
    "print('Total contact_method data:\\n{}\\n'.format(df.contact_method.value_counts()))\n",
    "print('contact_method with term_deposit: \\n{}\\n'.format(df.contact_method.loc[df.term_deposit =='yes'].value_counts()))\n",
    "print('contact_method without term_deposit: \\n{}\\n'.format(df.contact_method.loc[df.term_deposit =='no'].value_counts()))\n",
    "\n",
    "cm_total = {}\n",
    "for idx, val in df.contact_method.value_counts().items():\n",
    "    cm_total[idx] = val\n",
    "cm_yes = {}\n",
    "for idx, val in df.contact_method.loc[df.term_deposit == 'yes'].value_counts().items():\n",
    "    cm_yes[idx] = val\n",
    "cm_no = {}\n",
    "for idx, val in df.contact_method.loc[df.term_deposit == 'no'].value_counts().items():\n",
    "    cm_no[idx] = val\n",
    "\n",
    "cm_no_perc = {}\n",
    "cm_yes_perc = {}\n",
    "for key in cm_total:\n",
    "    cm_no_perc[key] = round(cm_no[key]/cm_total[key], 4)\n",
    "    cm_yes_perc[key] = round(cm_yes[key]/cm_total[key], 4)\n",
    "\n",
    "print(\"By: contact_method, and did not subscribe to term_deposit: {}\\n\".format(cm_no_perc))\n",
    "\n",
    "print(\"By: contact_method,  and subscribed to term_deposit: {}\\n\".format(cm_yes_perc))\n"
   ]
  },
  {
   "cell_type": "markdown",
   "metadata": {},
   "source": [
    "Looks like telephone or cellular are very close in effectiveness. With unknown making up a small, but important portion of the remaining successes."
   ]
  },
  {
   "cell_type": "code",
   "execution_count": 15,
   "metadata": {},
   "outputs": [
    {
     "name": "stdout",
     "output_type": "stream",
     "text": [
      "Total month data:\n",
      "5     15164\n",
      "7      7601\n",
      "8      6880\n",
      "6      5872\n",
      "11     4359\n",
      "4      3225\n",
      "2      2871\n",
      "1      1551\n",
      "10      818\n",
      "9       631\n",
      "3       526\n",
      "12      234\n",
      "Name: month, dtype: int64\n",
      "\n",
      "month where = term_deposit: \n",
      "5     1018\n",
      "8      767\n",
      "7      688\n",
      "4      633\n",
      "6      601\n",
      "2      479\n",
      "11     442\n",
      "10     360\n",
      "9      286\n",
      "3      269\n",
      "1      158\n",
      "12     109\n",
      "Name: month, dtype: int64\n",
      "\n",
      "month where = without term_deposit: \n",
      "5     14146\n",
      "7      6913\n",
      "8      6113\n",
      "6      5271\n",
      "11     3917\n",
      "4      2592\n",
      "2      2392\n",
      "1      1393\n",
      "10      458\n",
      "9       345\n",
      "3       257\n",
      "12      125\n",
      "Name: month, dtype: int64\n",
      "\n",
      "By: month, and did not subscribe to term_deposit: {5: 0.9329, 7: 0.9095, 8: 0.8885, 6: 0.8976, 11: 0.8986, 4: 0.8037, 2: 0.8332, 1: 0.8981, 10: 0.5599, 9: 0.5468, 3: 0.4886, 12: 0.5342}\n",
      "\n",
      "By: month,  and subscribed to term_deposit: {5: 0.0671, 7: 0.0905, 8: 0.1115, 6: 0.1024, 11: 0.1014, 4: 0.1963, 2: 0.1668, 1: 0.1019, 10: 0.4401, 9: 0.4532, 3: 0.5114, 12: 0.4658}\n",
      "\n"
     ]
    }
   ],
   "source": [
    "#thinking about how to tackle day and month. Let's do month first. I feel like if there is a strong impression in time of year\n",
    "#then we have something to go off of.\n",
    "\n",
    "print('Total month data:\\n{}\\n'.format(df.month.value_counts()))\n",
    "print('month where = term_deposit: \\n{}\\n'.format(df.month.loc[df.term_deposit =='yes'].value_counts()))\n",
    "print('month where = without term_deposit: \\n{}\\n'.format(df.month.loc[df.term_deposit =='no'].value_counts()))\n",
    "\n",
    "month_total = {}\n",
    "for idx, val in df.month.value_counts().items():\n",
    "    month_total[idx] = val\n",
    "month_yes = {}\n",
    "for idx, val in df.month.loc[df.term_deposit == 'yes'].value_counts().items():\n",
    "    month_yes[idx] = val\n",
    "month_no = {}\n",
    "for idx, val in df.month.loc[df.term_deposit == 'no'].value_counts().items():\n",
    "    month_no[idx] = val\n",
    "\n",
    "month_no_perc = {}\n",
    "month_yes_perc = {}\n",
    "for key in month_total:\n",
    "    month_no_perc[key] = round(month_no[key]/month_total[key], 4)\n",
    "    month_yes_perc[key] = round(month_yes[key]/month_total[key], 4)\n",
    "\n",
    "print(\"By: month, and did not subscribe to term_deposit: {}\\n\".format(month_no_perc))\n",
    "\n",
    "print(\"By: month,  and subscribed to term_deposit: {}\\n\".format(month_yes_perc))\n"
   ]
  },
  {
   "cell_type": "markdown",
   "metadata": {},
   "source": [
    "Theres definitely some observations to unpack here. September, October, December, and March have insanely ratios. Although May had the most conversions, they also missed the most. I may have to unpack the prev_contact data to make this data clearer. I have no absolutely direction, so let's go ahead and unpack days. \n",
    "\n",
    "Days are days of the month, but not by the weekday. Although if we can figure out which 7 interval is being skipped the most we can determine which day is Sunday(I'm making an assumption that the bank is not making calls on Sunday). If this is true we can use that data to line this up with which year(s) this data is from and figure out which weekdays are best in addition to portion of the month(if that is even a variable). I thoroughly expect this data to be most effective on something like mondays when people have just had the weekend to relax and are open to making decisions. From my experience making phone calls, mondays are the days that you are most likely to catch someone and fridays the worst."
   ]
  },
  {
   "cell_type": "code",
   "execution_count": 16,
   "metadata": {},
   "outputs": [
    {
     "name": "stdout",
     "output_type": "stream",
     "text": [
      "Total day data:\n",
      "20    3009\n",
      "18    2534\n",
      "21    2224\n",
      "17    2130\n",
      "6     2119\n",
      "5     2091\n",
      "14    2043\n",
      "8     2022\n",
      "28    2011\n",
      "7     2007\n",
      "19    1958\n",
      "29    1920\n",
      "15    1877\n",
      "12    1754\n",
      "13    1751\n",
      "30    1734\n",
      "9     1724\n",
      "11    1631\n",
      "4     1584\n",
      "16    1579\n",
      "2     1407\n",
      "27    1234\n",
      "3     1184\n",
      "26    1145\n",
      "23    1041\n",
      "22     991\n",
      "25     920\n",
      "31     702\n",
      "10     574\n",
      "24     483\n",
      "1      349\n",
      "Name: day, dtype: int64\n",
      "\n",
      "day where = term_deposit: \n",
      "30    298\n",
      "12    272\n",
      "13    263\n",
      "18    263\n",
      "15    261\n",
      "4     244\n",
      "5     243\n",
      "14    229\n",
      "21    224\n",
      "16    216\n",
      "8     215\n",
      "20    207\n",
      "11    201\n",
      "2     196\n",
      "6     195\n",
      "9     195\n",
      "17    192\n",
      "3     190\n",
      "7     170\n",
      "22    170\n",
      "27    166\n",
      "28    160\n",
      "25    143\n",
      "29    139\n",
      "19    138\n",
      "23    137\n",
      "10    135\n",
      "26    128\n",
      "1     100\n",
      "24     70\n",
      "31     50\n",
      "Name: day, dtype: int64\n",
      "\n",
      "day where = without term_deposit: \n",
      "20    2802\n",
      "18    2271\n",
      "21    2000\n",
      "17    1938\n",
      "6     1924\n",
      "28    1851\n",
      "5     1848\n",
      "7     1837\n",
      "19    1820\n",
      "14    1814\n",
      "8     1807\n",
      "29    1781\n",
      "15    1616\n",
      "9     1529\n",
      "13    1488\n",
      "12    1482\n",
      "30    1436\n",
      "11    1430\n",
      "16    1363\n",
      "4     1340\n",
      "2     1211\n",
      "27    1068\n",
      "26    1017\n",
      "3      994\n",
      "23     904\n",
      "22     821\n",
      "25     777\n",
      "31     652\n",
      "10     439\n",
      "24     413\n",
      "1      249\n",
      "Name: day, dtype: int64\n",
      "\n",
      "By: day, and did not subscribe to term_deposit: {20: 0.9312, 18: 0.8962, 21: 0.8993, 17: 0.9099, 6: 0.908, 5: 0.8838, 14: 0.8879, 8: 0.8937, 28: 0.9204, 7: 0.9153, 19: 0.9295, 29: 0.9276, 15: 0.8609, 12: 0.8449, 13: 0.8498, 30: 0.8281, 9: 0.8869, 11: 0.8768, 4: 0.846, 16: 0.8632, 2: 0.8607, 27: 0.8655, 3: 0.8395, 26: 0.8882, 23: 0.8684, 22: 0.8285, 25: 0.8446, 31: 0.9288, 10: 0.7648, 24: 0.8551, 1: 0.7135}\n",
      "\n",
      "By: day,  and subscribed to term_deposit: {20: 0.0688, 18: 0.1038, 21: 0.1007, 17: 0.0901, 6: 0.092, 5: 0.1162, 14: 0.1121, 8: 0.1063, 28: 0.0796, 7: 0.0847, 19: 0.0705, 29: 0.0724, 15: 0.1391, 12: 0.1551, 13: 0.1502, 30: 0.1719, 9: 0.1131, 11: 0.1232, 4: 0.154, 16: 0.1368, 2: 0.1393, 27: 0.1345, 3: 0.1605, 26: 0.1118, 23: 0.1316, 22: 0.1715, 25: 0.1554, 31: 0.0712, 10: 0.2352, 24: 0.1449, 1: 0.2865}\n",
      "\n"
     ]
    }
   ],
   "source": [
    "#Day\n",
    "\n",
    "print('Total day data:\\n{}\\n'.format(df.day.value_counts()))\n",
    "print('day where = term_deposit: \\n{}\\n'.format(df.day.loc[df.term_deposit =='yes'].value_counts()))\n",
    "print('day where = without term_deposit: \\n{}\\n'.format(df.day.loc[df.term_deposit =='no'].value_counts()))\n",
    "\n",
    "day_total = {}\n",
    "for idx, val in df.day.value_counts().items():\n",
    "    day_total[idx] = val\n",
    "day_yes = {}\n",
    "for idx, val in df.day.loc[df.term_deposit == 'yes'].value_counts().items():\n",
    "    day_yes[idx] = val\n",
    "day_no = {}\n",
    "for idx, val in df.day.loc[df.term_deposit == 'no'].value_counts().items():\n",
    "    day_no[idx] = val\n",
    "\n",
    "day_no_perc = {}\n",
    "day_yes_perc = {}\n",
    "for key in day_total:\n",
    "    day_no_perc[key] = round(day_no[key]/day_total[key], 4)\n",
    "    day_yes_perc[key] = round(day_yes[key]/day_total[key], 4)\n",
    "\n",
    "print(\"By: day, and did not subscribe to term_deposit: {}\\n\".format(day_no_perc))\n",
    "\n",
    "print(\"By: day,  and subscribed to term_deposit: {}\\n\".format(day_yes_perc))"
   ]
  },
  {
   "cell_type": "markdown",
   "metadata": {},
   "source": [
    "So nothing terribly noticeable outright nooticable, aside from the 1st and 10th having above average ratios and the 7th having below average. (31st is an extreme as only some months have it, although it still holds a low ratio). Let's pull a random month and try to figure if this is from one year or multiple years."
   ]
  },
  {
   "cell_type": "code",
   "execution_count": 17,
   "metadata": {},
   "outputs": [
    {
     "data": {
      "text/plain": [
       "4      265\n",
       "5      766\n",
       "6      910\n",
       "7      990\n",
       "8      918\n",
       "9      472\n",
       "10       6\n",
       "11     524\n",
       "12     870\n",
       "13    1102\n",
       "14    1112\n",
       "15    1240\n",
       "16     427\n",
       "17      13\n",
       "18     699\n",
       "19     381\n",
       "20     433\n",
       "21     498\n",
       "22      79\n",
       "23     482\n",
       "24       9\n",
       "25     111\n",
       "26     634\n",
       "27     643\n",
       "28     602\n",
       "29     486\n",
       "30     483\n",
       "31       9\n",
       "Name: day, dtype: int64"
      ]
     },
     "execution_count": 17,
     "metadata": {},
     "output_type": "execute_result"
    }
   ],
   "source": [
    "df.day.loc[df['month'] == 5].value_counts().sort_index()"
   ]
  },
  {
   "cell_type": "markdown",
   "metadata": {},
   "source": [
    "Got it, so here we see that the 10th, 17th, 24th are sunday. Perhaps these contacts are by email? I assume that the contact method will be unknown."
   ]
  },
  {
   "cell_type": "code",
   "execution_count": 18,
   "metadata": {},
   "outputs": [
    {
     "data": {
      "text/plain": [
       "43659      unknown\n",
       "43660     cellular\n",
       "43661     cellular\n",
       "43662    telephone\n",
       "43663     cellular\n",
       "43664     cellular\n",
       "43728     cellular\n",
       "43729     cellular\n",
       "43730     cellular\n",
       "43731     cellular\n",
       "43732     cellular\n",
       "43733     cellular\n",
       "43734     cellular\n",
       "43735     cellular\n",
       "43736    telephone\n",
       "43737     cellular\n",
       "43738     cellular\n",
       "43739     cellular\n",
       "43740      unknown\n",
       "43771     cellular\n",
       "43772     cellular\n",
       "43773     cellular\n",
       "43774     cellular\n",
       "43775    telephone\n",
       "43776     cellular\n",
       "43777     cellular\n",
       "43778     cellular\n",
       "43779     cellular\n",
       "Name: contact_method, dtype: object"
      ]
     },
     "execution_count": 18,
     "metadata": {},
     "output_type": "execute_result"
    }
   ],
   "source": [
    "df.loc[df['month'] == 5]['contact_method'][df['day'].isin([10,17,24])]"
   ]
  },
  {
   "cell_type": "markdown",
   "metadata": {},
   "source": [
    "Well I was very wrong. Maybe this goes more than 1 year? or they made a few sunday calls. Referring to the calendar the most recent year that lines up with May 10th being a sunday is 2015. Having the exact year is less important, it'll just make life easier to make inferences on weekday strength. Let's do this for every month. It will be long."
   ]
  },
  {
   "cell_type": "code",
   "execution_count": 19,
   "metadata": {},
   "outputs": [
    {
     "name": "stdout",
     "output_type": "stream",
     "text": [
      "Month1\n",
      "7      1\n",
      "8      2\n",
      "11     8\n",
      "12    14\n",
      "13     9\n",
      "14    15\n",
      "15     7\n",
      "18     7\n",
      "25     7\n",
      "26     3\n",
      "27    13\n",
      "28    36\n",
      "29    23\n",
      "30    13\n",
      "Name: day, dtype: int64\n",
      "Month2\n",
      "1      3\n",
      "2     43\n",
      "3     43\n",
      "4     49\n",
      "5     35\n",
      "6     17\n",
      "8     10\n",
      "9     30\n",
      "10    24\n",
      "11    34\n",
      "12    22\n",
      "13    11\n",
      "15    17\n",
      "16    12\n",
      "17    23\n",
      "18    26\n",
      "19    11\n",
      "22     4\n",
      "23    14\n",
      "24    10\n",
      "25     8\n",
      "26    16\n",
      "27    17\n",
      "Name: day, dtype: int64\n",
      "Month3\n",
      "2     26\n",
      "3     22\n",
      "4      8\n",
      "5     23\n",
      "6      5\n",
      "8      8\n",
      "9     19\n",
      "10    15\n",
      "11    11\n",
      "12    17\n",
      "13     2\n",
      "15     8\n",
      "16     9\n",
      "17    10\n",
      "18    15\n",
      "19     2\n",
      "22     8\n",
      "23     8\n",
      "24     5\n",
      "25     9\n",
      "26     6\n",
      "27    16\n",
      "29     2\n",
      "30     9\n",
      "31     6\n",
      "Name: day, dtype: int64\n",
      "Month4\n",
      "1      13\n",
      "2       7\n",
      "3       6\n",
      "5      14\n",
      "6      15\n",
      "7       6\n",
      "8      29\n",
      "9      14\n",
      "12      6\n",
      "13     25\n",
      "14     28\n",
      "15     31\n",
      "16     33\n",
      "17     39\n",
      "19      4\n",
      "20     56\n",
      "21     31\n",
      "22     29\n",
      "23     24\n",
      "24      7\n",
      "26     10\n",
      "27     15\n",
      "28      6\n",
      "29     16\n",
      "30    169\n",
      "Name: day, dtype: int64\n",
      "Month5\n",
      "4     70\n",
      "5     36\n",
      "6     48\n",
      "7     47\n",
      "8     35\n",
      "9     13\n",
      "10     1\n",
      "11    22\n",
      "12    68\n",
      "13    94\n",
      "14    79\n",
      "15    93\n",
      "16    25\n",
      "17     6\n",
      "18    72\n",
      "19    14\n",
      "20    19\n",
      "21    27\n",
      "22    25\n",
      "23    14\n",
      "24     6\n",
      "25    41\n",
      "26    51\n",
      "27    39\n",
      "28    27\n",
      "29    16\n",
      "30    29\n",
      "31     1\n",
      "Name: day, dtype: int64\n",
      "Month6\n",
      "1     45\n",
      "2     63\n",
      "3     53\n",
      "4     48\n",
      "5     67\n",
      "6     19\n",
      "7      1\n",
      "8     14\n",
      "9     29\n",
      "11    14\n",
      "12    16\n",
      "13     1\n",
      "14    13\n",
      "15    32\n",
      "16    23\n",
      "17    22\n",
      "18    25\n",
      "19    20\n",
      "20    26\n",
      "21     1\n",
      "22     9\n",
      "23    10\n",
      "24     4\n",
      "25     5\n",
      "26     3\n",
      "27     2\n",
      "28    13\n",
      "29    10\n",
      "30    13\n",
      "Name: day, dtype: int64\n",
      "Month7\n",
      "1     12\n",
      "2     26\n",
      "3     16\n",
      "4      4\n",
      "5      3\n",
      "6      8\n",
      "7     41\n",
      "8     47\n",
      "9     27\n",
      "10    28\n",
      "11    12\n",
      "12     9\n",
      "13    15\n",
      "14    24\n",
      "15    36\n",
      "16    40\n",
      "17    23\n",
      "18    33\n",
      "19     9\n",
      "20     5\n",
      "21    28\n",
      "22    26\n",
      "23    31\n",
      "24    22\n",
      "25    26\n",
      "26     7\n",
      "27     6\n",
      "28    34\n",
      "29    27\n",
      "30    39\n",
      "31    24\n",
      "Name: day, dtype: int64\n",
      "Month8\n",
      "2      7\n",
      "3     13\n",
      "4     43\n",
      "5     59\n",
      "6     51\n",
      "7     47\n",
      "8     24\n",
      "9      2\n",
      "10    28\n",
      "11    58\n",
      "12    80\n",
      "13    60\n",
      "14    40\n",
      "16     5\n",
      "17     9\n",
      "18    37\n",
      "19    26\n",
      "20    28\n",
      "21    31\n",
      "22    16\n",
      "24     4\n",
      "25    21\n",
      "26    23\n",
      "27    20\n",
      "28    17\n",
      "29     2\n",
      "31    16\n",
      "Name: day, dtype: int64\n",
      "Month9\n",
      "1     20\n",
      "2     13\n",
      "3     11\n",
      "4     11\n",
      "6     11\n",
      "7     15\n",
      "8     26\n",
      "9     29\n",
      "10     9\n",
      "11    15\n",
      "13     3\n",
      "14    12\n",
      "15    23\n",
      "16    20\n",
      "17     8\n",
      "18     5\n",
      "20     1\n",
      "22    15\n",
      "23    13\n",
      "24     6\n",
      "25     2\n",
      "27     3\n",
      "28     6\n",
      "29     6\n",
      "30     3\n",
      "Name: day, dtype: int64\n",
      "Month10\n",
      "1      7\n",
      "2      2\n",
      "6     15\n",
      "7      5\n",
      "8     13\n",
      "9      2\n",
      "11     7\n",
      "12    10\n",
      "13    16\n",
      "14     8\n",
      "15     9\n",
      "16    16\n",
      "17     6\n",
      "18    10\n",
      "19    13\n",
      "20    19\n",
      "21    30\n",
      "22    32\n",
      "23    22\n",
      "24     3\n",
      "25     9\n",
      "26     9\n",
      "27    33\n",
      "28    12\n",
      "29    29\n",
      "30    20\n",
      "31     3\n",
      "Name: day, dtype: int64\n",
      "Month11\n",
      "2      5\n",
      "3     17\n",
      "4      3\n",
      "5      6\n",
      "6      6\n",
      "8      7\n",
      "9     19\n",
      "10    20\n",
      "11    18\n",
      "12    30\n",
      "13    27\n",
      "14     7\n",
      "15     1\n",
      "16    28\n",
      "17    39\n",
      "18    28\n",
      "19    39\n",
      "20    53\n",
      "21    69\n",
      "24     1\n",
      "25    15\n",
      "27     2\n",
      "30     2\n",
      "Name: day, dtype: int64\n",
      "Month12\n",
      "2      4\n",
      "3      9\n",
      "4      8\n",
      "7      7\n",
      "9     11\n",
      "10    10\n",
      "11     2\n",
      "14     3\n",
      "15     4\n",
      "16     5\n",
      "17     7\n",
      "18     5\n",
      "21     7\n",
      "22     6\n",
      "23     1\n",
      "24     2\n",
      "28     9\n",
      "29     8\n",
      "30     1\n",
      "Name: day, dtype: int64\n"
     ]
    }
   ],
   "source": [
    "df_yes = df.loc[df.term_deposit == 'yes']\n",
    "for i in range(1,13):\n",
    "    print('Month' + str(i))\n",
    "    print(df_yes.day.loc[df['month'] == i].value_counts().sort_index())"
   ]
  },
  {
   "cell_type": "markdown",
   "metadata": {},
   "source": [
    "This will be good to reference later on. But I'd love to know what was going on April 30th. 169 successes that day, and it was a thursday. I want to mark this because that high number could skew the data later on. And we may want to standardize some of these remarkable days"
   ]
  },
  {
   "cell_type": "code",
   "execution_count": 20,
   "metadata": {},
   "outputs": [
    {
     "name": "stdout",
     "output_type": "stream",
     "text": [
      "avg duration where no : 221.6531578707709 \n",
      "avg duration where yes: 538.6798623063684\n",
      "Min/Max no: 0/4918\n",
      "Min/Max yes:8/3881\n",
      "Total STD; 257.7431486591523\n",
      "No STD: 207.65471911512043\n",
      "Yes STD:392.31990648964245\n"
     ]
    }
   ],
   "source": [
    "#for duration we'll reuse the balance schema.\n",
    "\n",
    "print('avg duration where no : {} \\navg duration where yes: {}'.format(df.duration.loc[df.term_deposit == 'no'].mean(), \\\n",
    "                                                                             df.duration.loc[df.term_deposit == 'yes'].mean()))\n",
    "print('Min/Max no: {}/{}\\nMin/Max yes:{}/{}'.format(df.duration.loc[df.term_deposit == 'no'].min(), \\\n",
    "                                                    df.duration.loc[df.term_deposit == 'no'].max(), \\\n",
    "                                                    df.duration.loc[df.term_deposit == 'yes'].min(), \\\n",
    "                                                    df.duration.loc[df.term_deposit == 'yes'].max()))\n",
    "print('Total STD; {}\\nNo STD: {}\\nYes STD:{}'.format(df.duration.std(), \\\n",
    "                                                     df.duration.loc[df.term_deposit == 'no'].std(), \\\n",
    "                                                    df.duration.loc[df.term_deposit == 'yes'].std()))"
   ]
  },
  {
   "cell_type": "markdown",
   "metadata": {},
   "source": [
    "Perhaps some quartile cuts may be good, but I'd rather get to the visual step first and see if it's worth the time. Here we see that the shortest time is 8 seconds. I assume that call went something like 'Hello I'd like to talk to you about subscribing to a term deposit with the bank?' -> 'Ah yes in fact I was going to come in to do that this week, we can do this over the phone?'. That rep had a good day. Nothing out of the ordinary besides that one short call. Goes up to past an hour, but not into two. So this data seems accurate."
   ]
  },
  {
   "cell_type": "code",
   "execution_count": 21,
   "metadata": {},
   "outputs": [
    {
     "name": "stdout",
     "output_type": "stream",
     "text": [
      "Total campaign_contacts data:\n",
      "1     19278\n",
      "2     13769\n",
      "3      6079\n",
      "4      3847\n",
      "5      1931\n",
      "6      1446\n",
      "7       810\n",
      "8       596\n",
      "9       357\n",
      "10      293\n",
      "11      223\n",
      "12      176\n",
      "13      150\n",
      "14      103\n",
      "15       93\n",
      "16       87\n",
      "17       76\n",
      "18       58\n",
      "19       47\n",
      "20       46\n",
      "21       37\n",
      "25       26\n",
      "22       25\n",
      "23       24\n",
      "24       23\n",
      "28       19\n",
      "29       17\n",
      "31       13\n",
      "26       13\n",
      "32       11\n",
      "27       10\n",
      "30        9\n",
      "33        6\n",
      "34        5\n",
      "36        4\n",
      "35        4\n",
      "43        3\n",
      "38        3\n",
      "50        3\n",
      "41        2\n",
      "37        2\n",
      "44        2\n",
      "55        1\n",
      "51        1\n",
      "58        1\n",
      "46        1\n",
      "39        1\n",
      "63        1\n",
      "Name: campaign_contacts, dtype: int64\n",
      "\n",
      "campaign_contacts where = term_deposit: \n",
      "1     2801\n",
      "2     1539\n",
      "3      675\n",
      "4      360\n",
      "5      148\n",
      "6      108\n",
      "7       53\n",
      "8       36\n",
      "9       23\n",
      "11      16\n",
      "10      15\n",
      "13       8\n",
      "17       7\n",
      "12       5\n",
      "14       4\n",
      "15       4\n",
      "24       2\n",
      "16       2\n",
      "21       1\n",
      "29       1\n",
      "32       1\n",
      "20       1\n",
      "Name: campaign_contacts, dtype: int64\n",
      "\n",
      "campaign_contacts where = without term_deposit: \n",
      "1     16477\n",
      "2     12230\n",
      "3      5404\n",
      "4      3487\n",
      "5      1783\n",
      "6      1338\n",
      "7       757\n",
      "8       560\n",
      "9       334\n",
      "10      278\n",
      "11      207\n",
      "12      171\n",
      "13      142\n",
      "14       99\n",
      "15       89\n",
      "16       85\n",
      "17       69\n",
      "18       58\n",
      "19       47\n",
      "20       45\n",
      "21       36\n",
      "25       26\n",
      "22       25\n",
      "23       24\n",
      "24       21\n",
      "28       19\n",
      "29       16\n",
      "31       13\n",
      "26       13\n",
      "32       10\n",
      "27       10\n",
      "30        9\n",
      "33        6\n",
      "34        5\n",
      "36        4\n",
      "35        4\n",
      "43        3\n",
      "38        3\n",
      "50        3\n",
      "41        2\n",
      "37        2\n",
      "44        2\n",
      "55        1\n",
      "51        1\n",
      "58        1\n",
      "46        1\n",
      "39        1\n",
      "63        1\n",
      "Name: campaign_contacts, dtype: int64\n",
      "\n",
      "By: campaign_contacts, and did not subscribe to term_deposit: {1: 0.8547, 2: 0.8882, 3: 0.889, 4: 0.9064, 5: 0.9234, 6: 0.9253, 7: 0.9346, 8: 0.9396, 9: 0.9356, 10: 0.9488, 11: 0.9283, 12: 0.9716, 13: 0.9467, 14: 0.9612, 15: 0.957, 16: 0.977, 17: 0.9079, 18: 1.0, 19: 1.0, 20: 0.9783, 21: 0.973, 25: 1.0, 22: 1.0, 23: 1.0, 24: 0.913, 28: 1.0, 29: 0.9412, 31: 1.0, 26: 1.0, 32: 0.9091, 27: 1.0, 30: 1.0, 33: 1.0, 34: 1.0, 36: 1.0, 35: 1.0, 43: 1.0, 38: 1.0, 50: 1.0, 41: 1.0, 37: 1.0, 44: 1.0, 55: 1.0, 51: 1.0, 58: 1.0, 46: 1.0, 39: 1.0, 63: 1.0}\n",
      "\n",
      "By: campaign_contacts,  and subscribed to term_deposit: {1: 0.1453, 2: 0.1118, 3: 0.111, 4: 0.0936, 5: 0.0766, 6: 0.0747, 7: 0.0654, 8: 0.0604, 9: 0.0644, 10: 0.0512, 11: 0.0717, 12: 0.0284, 13: 0.0533, 14: 0.0388, 15: 0.043, 16: 0.023, 17: 0.0921, 18: 0.0, 19: 0.0, 20: 0.0217, 21: 0.027, 25: 0.0, 22: 0.0, 23: 0.0, 24: 0.087, 28: 0.0, 29: 0.0588, 31: 0.0, 26: 0.0, 32: 0.0909, 27: 0.0, 30: 0.0, 33: 0.0, 34: 0.0, 36: 0.0, 35: 0.0, 43: 0.0, 38: 0.0, 50: 0.0, 41: 0.0, 37: 0.0, 44: 0.0, 55: 0.0, 51: 0.0, 58: 0.0, 46: 0.0, 39: 0.0, 63: 0.0}\n",
      "\n"
     ]
    }
   ],
   "source": [
    "#campaign_contacts\n",
    "\n",
    "\n",
    "print('Total campaign_contacts data:\\n{}\\n'.format(df.campaign_contacts.value_counts()))\n",
    "print('campaign_contacts where = term_deposit: \\n{}\\n'.format(df.campaign_contacts.loc[df.term_deposit =='yes'].value_counts()))\n",
    "print('campaign_contacts where = without term_deposit: \\n{}\\n'.format(df.campaign_contacts.loc[df.term_deposit =='no'].value_counts()))\n",
    "\n",
    "cc_total = {}\n",
    "for idx, val in df.campaign_contacts.value_counts().items():\n",
    "    cc_total[idx] = val\n",
    "cc_yes = {}\n",
    "for idx, val in df.campaign_contacts.loc[df.term_deposit == 'yes'].value_counts().items():\n",
    "    cc_yes[idx] = val\n",
    "cc_no = {}\n",
    "for idx, val in df.campaign_contacts.loc[df.term_deposit == 'no'].value_counts().items():\n",
    "    cc_no[idx] = val\n",
    "\n",
    "cc_no_perc = {}\n",
    "cc_yes_perc = {}\n",
    "for key in cc_total:\n",
    "    #Had to edit this a bit using the .get feature with default of 0 because the unique numbers were running into keyerrors.\n",
    "    cc_no_perc[key] = round(cc_no.get(key, 0)/cc_total.get(key, 0), 4)\n",
    "    cc_yes_perc[key] = round(cc_yes.get(key, 0)/cc_total.get(key, 0), 4)\n",
    "\n",
    "print(\"By: campaign_contacts, and did not subscribe to term_deposit: {}\\n\".format(cc_no_perc))\n",
    "\n",
    "print(\"By: campaign_contacts,  and subscribed to term_deposit: {}\\n\".format(cc_yes_perc))"
   ]
  },
  {
   "cell_type": "markdown",
   "metadata": {},
   "source": [
    "Something straightforward! As the contacts increase the chance of conversion begins to get smaller and smaller. Because the amount of contacts after 10 are so few I can't take the small ups and downs with significance."
   ]
  },
  {
   "cell_type": "code",
   "execution_count": 22,
   "metadata": {},
   "outputs": [
    {
     "name": "stdout",
     "output_type": "stream",
     "text": [
      "Never contacted no     36938\n",
      "yes     3721\n",
      "Name: term_deposit, dtype: int64\n",
      "Avg_prev_days for no : 234.10309278350516 \n",
      "Avg_prev_days for yes: 192.84442316898037\n",
      "Min/Max no: 1/871\n",
      "Min/Max yes:1/854\n",
      "Total STD; 115.50570742869196\n",
      "No STD: 111.08853550173053\n",
      "Yes STD:124.03374131054532\n"
     ]
    }
   ],
   "source": [
    "#for previous days we need to do two steps. First let's seperate all of the -1's as these indicate never being contacted\n",
    "\n",
    "df_never = df.loc[df['prev_days'] == -1]\n",
    "print('Never contacted ' + str(df_never['term_deposit'].value_counts()))\n",
    "df_has_prev_days = df.loc[df['prev_days'] != -1]\n",
    "#Checked the size, so let's go ahead and just grab some averages\n",
    "print('Avg_prev_days for no : {} \\nAvg_prev_days for yes: {}'.format(df_has_prev_days.prev_days.loc[df_has_prev_days.term_deposit == 'no'].mean(), \\\n",
    "                                                                             df_has_prev_days.prev_days.loc[df_has_prev_days.term_deposit == 'yes'].mean()))\n",
    "print('Min/Max no: {}/{}\\nMin/Max yes:{}/{}'.format(df_has_prev_days.prev_days.loc[df_has_prev_days.term_deposit == 'no'].min(), \\\n",
    "                                                    df_has_prev_days.prev_days.loc[df_has_prev_days.term_deposit == 'no'].max(), \\\n",
    "                                                    df_has_prev_days.prev_days.loc[df_has_prev_days.term_deposit == 'yes'].min(), \\\n",
    "                                                    df_has_prev_days.prev_days.loc[df_has_prev_days.term_deposit == 'yes'].max()))\n",
    "print('Total STD; {}\\nNo STD: {}\\nYes STD:{}'.format(df_has_prev_days.prev_days.std(), \\\n",
    "                                                     df_has_prev_days.prev_days.loc[df_has_prev_days.term_deposit == 'no'].std(), \\\n",
    "                                                    df_has_prev_days.prev_days.loc[df_has_prev_days.term_deposit == 'yes'].std()))"
   ]
  },
  {
   "cell_type": "markdown",
   "metadata": {},
   "source": [
    "Seems like something that is better in visual form perhaps. It's good that I'll have the variables ready to go."
   ]
  },
  {
   "cell_type": "code",
   "execution_count": 23,
   "metadata": {},
   "outputs": [
    {
     "name": "stdout",
     "output_type": "stream",
     "text": [
      "Total previous_contacts data:\n",
      "0      40659\n",
      "1       3058\n",
      "2       2299\n",
      "3       1255\n",
      "4        792\n",
      "5        506\n",
      "6        302\n",
      "7        227\n",
      "8        147\n",
      "9        102\n",
      "10        71\n",
      "11        68\n",
      "12        49\n",
      "13        39\n",
      "15        21\n",
      "14        21\n",
      "17        16\n",
      "16        13\n",
      "19        12\n",
      "23         9\n",
      "20         9\n",
      "22         7\n",
      "18         7\n",
      "24         6\n",
      "27         5\n",
      "25         5\n",
      "29         4\n",
      "21         4\n",
      "30         3\n",
      "28         2\n",
      "26         2\n",
      "37         2\n",
      "38         2\n",
      "55         1\n",
      "40         1\n",
      "35         1\n",
      "58         1\n",
      "51         1\n",
      "41         1\n",
      "32         1\n",
      "275        1\n",
      "Name: previous_contacts, dtype: int64\n",
      "\n",
      "previous_contacts where = term_deposit: \n",
      "0     3721\n",
      "1      634\n",
      "2      506\n",
      "3      316\n",
      "4      196\n",
      "5      134\n",
      "6       92\n",
      "7       57\n",
      "8       42\n",
      "10      28\n",
      "9       27\n",
      "11      15\n",
      "12      11\n",
      "13       9\n",
      "14       7\n",
      "17       3\n",
      "19       2\n",
      "20       1\n",
      "15       1\n",
      "58       1\n",
      "30       1\n",
      "21       1\n",
      "29       1\n",
      "23       1\n",
      "22       1\n",
      "26       1\n",
      "55       1\n",
      "Name: previous_contacts, dtype: int64\n",
      "\n",
      "previous_contacts where = without term_deposit: \n",
      "0      36938\n",
      "1       2424\n",
      "2       1793\n",
      "3        939\n",
      "4        596\n",
      "5        372\n",
      "6        210\n",
      "7        170\n",
      "8        105\n",
      "9         75\n",
      "11        53\n",
      "10        43\n",
      "12        38\n",
      "13        30\n",
      "15        20\n",
      "14        14\n",
      "17        13\n",
      "16        13\n",
      "19        10\n",
      "23         8\n",
      "20         8\n",
      "18         7\n",
      "24         6\n",
      "22         6\n",
      "27         5\n",
      "25         5\n",
      "21         3\n",
      "29         3\n",
      "38         2\n",
      "37         2\n",
      "28         2\n",
      "30         2\n",
      "40         1\n",
      "41         1\n",
      "275        1\n",
      "51         1\n",
      "35         1\n",
      "26         1\n",
      "32         1\n",
      "Name: previous_contacts, dtype: int64\n",
      "\n",
      "By: previous_contacts, and did not subscribe to term_deposit: {0: 0.9085, 1: 0.7927, 2: 0.7799, 3: 0.7482, 4: 0.7525, 5: 0.7352, 6: 0.6954, 7: 0.7489, 8: 0.7143, 9: 0.7353, 10: 0.6056, 11: 0.7794, 12: 0.7755, 13: 0.7692, 15: 0.9524, 14: 0.6667, 17: 0.8125, 16: 1.0, 19: 0.8333, 23: 0.8889, 20: 0.8889, 22: 0.8571, 18: 1.0, 24: 1.0, 27: 1.0, 25: 1.0, 29: 0.75, 21: 0.75, 30: 0.6667, 28: 1.0, 26: 0.5, 37: 1.0, 38: 1.0, 55: 0.0, 40: 1.0, 35: 1.0, 58: 0.0, 51: 1.0, 41: 1.0, 32: 1.0, 275: 1.0}\n",
      "\n",
      "By: previous_contacts,  and subscribed to term_deposit: {0: 0.0915, 1: 0.2073, 2: 0.2201, 3: 0.2518, 4: 0.2475, 5: 0.2648, 6: 0.3046, 7: 0.2511, 8: 0.2857, 9: 0.2647, 10: 0.3944, 11: 0.2206, 12: 0.2245, 13: 0.2308, 15: 0.0476, 14: 0.3333, 17: 0.1875, 16: 0.0, 19: 0.1667, 23: 0.1111, 20: 0.1111, 22: 0.1429, 18: 0.0, 24: 0.0, 27: 0.0, 25: 0.0, 29: 0.25, 21: 0.25, 30: 0.3333, 28: 0.0, 26: 0.5, 37: 0.0, 38: 0.0, 55: 1.0, 40: 0.0, 35: 0.0, 58: 1.0, 51: 0.0, 41: 0.0, 32: 0.0, 275: 0.0}\n",
      "\n"
     ]
    }
   ],
   "source": [
    "#previous_contacts\n",
    "\n",
    "print('Total previous_contacts data:\\n{}\\n'.format(df.previous_contacts.value_counts()))\n",
    "print('previous_contacts where = term_deposit: \\n{}\\n'.format(df.previous_contacts.loc[df.term_deposit =='yes'].value_counts()))\n",
    "print('previous_contacts where = without term_deposit: \\n{}\\n'.format(df.previous_contacts.loc[df.term_deposit =='no'].value_counts()))\n",
    "\n",
    "pc_total = {}\n",
    "for idx, val in df.previous_contacts.value_counts().items():\n",
    "    pc_total[idx] = val\n",
    "pc_yes = {}\n",
    "for idx, val in df.previous_contacts.loc[df.term_deposit == 'yes'].value_counts().items():\n",
    "    pc_yes[idx] = val\n",
    "pc_no = {}\n",
    "for idx, val in df.previous_contacts.loc[df.term_deposit == 'no'].value_counts().items():\n",
    "    pc_no[idx] = val\n",
    "\n",
    "pc_no_perc = {}\n",
    "pc_yes_perc = {}\n",
    "for key in pc_total:\n",
    "    #Keeping the most recent edit for future keyerrors, the 1 on the bottom will not make a difference\n",
    "    pc_no_perc[key] = round(pc_no.get(key, 0)/pc_total.get(key, 1), 4)\n",
    "    pc_yes_perc[key] = round(pc_yes.get(key, 0)/pc_total.get(key, 1), 4)\n",
    "\n",
    "print(\"By: previous_contacts, and did not subscribe to term_deposit: {}\\n\".format(pc_no_perc))\n",
    "\n",
    "print(\"By: previous_contacts,  and subscribed to term_deposit: {}\\n\".format(pc_yes_perc))"
   ]
  },
  {
   "cell_type": "markdown",
   "metadata": {},
   "source": [
    "This metric is previous contacts for other marketing campaigns. It looks like the marketing campaign prior does have a small impact as after 0 contacts from the previous marketing campaign the number does happen to rise slightly before falling off again. So perhaps people who are just more aware of their bank are more open to doing business with them."
   ]
  },
  {
   "cell_type": "code",
   "execution_count": 24,
   "metadata": {},
   "outputs": [
    {
     "name": "stdout",
     "output_type": "stream",
     "text": [
      "Total prev_outcome data:\n",
      "unknown    40664\n",
      "failure     5391\n",
      "other       2037\n",
      "success     1640\n",
      "Name: prev_outcome, dtype: int64\n",
      "\n",
      "prev_outcome where = term_deposit: \n",
      "unknown    3723\n",
      "success    1061\n",
      "failure     681\n",
      "other       345\n",
      "Name: prev_outcome, dtype: int64\n",
      "\n",
      "prev_outcome where = without term_deposit: \n",
      "unknown    36941\n",
      "failure     4710\n",
      "other       1692\n",
      "success      579\n",
      "Name: prev_outcome, dtype: int64\n",
      "\n",
      "By: prev_outcome, and did not subscribe to term_deposit: {'unknown': 0.9084, 'failure': 0.8737, 'other': 0.8306, 'success': 0.353}\n",
      "\n",
      "By: prev_outcome,  and subscribed to term_deposit: {'unknown': 0.0916, 'failure': 0.1263, 'other': 0.1694, 'success': 0.647}\n",
      "\n"
     ]
    }
   ],
   "source": [
    "#prev_outcome\n",
    "\n",
    "print('Total prev_outcome data:\\n{}\\n'.format(df.prev_outcome.value_counts()))\n",
    "print('prev_outcome where = term_deposit: \\n{}\\n'.format(df.prev_outcome.loc[df.term_deposit =='yes'].value_counts()))\n",
    "print('prev_outcome where = without term_deposit: \\n{}\\n'.format(df.prev_outcome.loc[df.term_deposit =='no'].value_counts()))\n",
    "\n",
    "po_total = {}\n",
    "for idx, val in df.prev_outcome.value_counts().items():\n",
    "    po_total[idx] = val\n",
    "po_yes = {}\n",
    "for idx, val in df.prev_outcome.loc[df.term_deposit == 'yes'].value_counts().items():\n",
    "    po_yes[idx] = val\n",
    "po_no = {}\n",
    "for idx, val in df.prev_outcome.loc[df.term_deposit == 'no'].value_counts().items():\n",
    "    po_no[idx] = val\n",
    "\n",
    "po_no_perc = {}\n",
    "po_yes_perc = {}\n",
    "for key in po_total:\n",
    "    #Keeping the most recent edit for future keyerrors, the 1 on the bottom will not make a difference\n",
    "    po_no_perc[key] = round(po_no.get(key, 0)/po_total.get(key, 1), 4)\n",
    "    po_yes_perc[key] = round(po_yes.get(key, 0)/po_total.get(key, 1), 4)\n",
    "\n",
    "print(\"By: prev_outcome, and did not subscribe to term_deposit: {}\\n\".format(po_no_perc))\n",
    "\n",
    "print(\"By: prev_outcome,  and subscribed to term_deposit: {}\\n\".format(po_yes_perc))"
   ]
  },
  {
   "cell_type": "markdown",
   "metadata": {},
   "source": [
    "Finally something pretty substantial. When the previous campaign was successful, this campaign looks to be successful as well. This is good news for our future model. \n",
    "\n",
    "Now that we have rolled through some statistical analysis. It's time to start drawing some impactful graphs. "
   ]
  },
  {
   "cell_type": "code",
   "execution_count": 138,
   "metadata": {},
   "outputs": [],
   "source": [
    "#learning from my early mistake, creating a function to make histogram graphing easier\n",
    "\n",
    "def term_hist(feature, bins = 10, color1 = 'g', color2 = 'k', figx = 10, figy = 10):\n",
    "    plt.figure(figsize=(figx,figy))\n",
    "    plt.hist(df[feature].loc[df['term_deposit'] == 'yes'], bins = bins, alpha=0.8, label='Yes to Term Deposit', color = color1)\n",
    "    plt.hist(df[feature].loc[df['term_deposit'] == 'no'], bins = bins, alpha=0.4, label='No Term Deposit', color = color2)\n",
    "    plt.legend(loc='upper right')\n",
    "    plt.ylabel('# of Customers')\n",
    "    plt.title('Term deposits by ' + str(feature))\n",
    "    plt.xlabel(str(feature))"
   ]
  },
  {
   "cell_type": "code",
   "execution_count": 139,
   "metadata": {},
   "outputs": [
    {
     "data": {
      "image/png": "[encoded data removed]",
      "text/plain": [
       "<Figure size 720x720 with 1 Axes>"
      ]
     },
     "metadata": {
      "needs_background": "light"
     },
     "output_type": "display_data"
    }
   ],
   "source": [
    "#visually representing age\n",
    "term_hist('age')\n",
    "plt.show()"
   ]
  },
  {
   "cell_type": "code",
   "execution_count": 140,
   "metadata": {},
   "outputs": [
    {
     "data": {
      "image/png": "[encoded data removed]",
      "text/plain": [
       "<Figure size 1440x720 with 1 Axes>"
      ]
     },
     "metadata": {
      "needs_background": "light"
     },
     "output_type": "display_data"
    }
   ],
   "source": [
    "#visualizing jobs\n",
    "term_hist('job', figx = 20, bins = 40, color1 ='b', color2 = 'k')\n",
    "plt.show()"
   ]
  },
  {
   "cell_type": "code",
   "execution_count": 141,
   "metadata": {},
   "outputs": [
    {
     "data": {
      "image/png": "[encoded data removed]",
      "text/plain": [
       "<Figure size 720x720 with 1 Axes>"
      ]
     },
     "metadata": {
      "needs_background": "light"
     },
     "output_type": "display_data"
    }
   ],
   "source": [
    "#visualizing marital\n",
    "term_hist('marital', bins = 5, color1 = 'b', color2 = 'k')\n",
    "plt.xticks(ticks = [0.2,1,1.8])\n",
    "plt.show()"
   ]
  },
  {
   "cell_type": "code",
   "execution_count": 142,
   "metadata": {},
   "outputs": [
    {
     "data": {
      "image/png": "[encoded data removed]",
      "text/plain": [
       "<Figure size 720x720 with 1 Axes>"
      ]
     },
     "metadata": {
      "needs_background": "light"
     },
     "output_type": "display_data"
    }
   ],
   "source": [
    "#visualizing education\n",
    "term_hist('education', color1 = 'r', color2 = 'k')\n",
    "plt.xticks(ticks = [0.15,1,1.9,2.85])\n",
    "plt.show()\n"
   ]
  },
  {
   "cell_type": "code",
   "execution_count": 143,
   "metadata": {},
   "outputs": [
    {
     "data": {
      "image/png": "[encoded data removed]",
      "text/plain": [
       "<Figure size 720x720 with 1 Axes>"
      ]
     },
     "metadata": {
      "needs_background": "light"
     },
     "output_type": "display_data"
    }
   ],
   "source": [
    "#in_default, doesn't look very useful in this visual form, but that's okay for now. We do see that more people are not in default and also have term_deposits\n",
    "term_hist('in_default',bins =2, color2 = 'k')\n",
    "\n",
    "plt.show()"
   ]
  },
  {
   "cell_type": "code",
   "execution_count": 144,
   "metadata": {},
   "outputs": [
    {
     "data": {
      "image/png": "[encoded data removed]",
      "text/plain": [
       "<Figure size 720x720 with 1 Axes>"
      ]
     },
     "metadata": {
      "needs_background": "light"
     },
     "output_type": "display_data"
    }
   ],
   "source": [
    "#avg yearlybalance in histogram look. Not pleasing, but it does show that majority of customers have very low balances or negative balances\n",
    "term_hist('avg_yearly_balance', bins = 10)\n",
    "plt.show()"
   ]
  },
  {
   "cell_type": "code",
   "execution_count": 145,
   "metadata": {},
   "outputs": [
    {
     "data": {
      "image/png": "[encoded data removed]",
      "text/plain": [
       "<Figure size 720x720 with 1 Axes>"
      ]
     },
     "metadata": {
      "needs_background": "light"
     },
     "output_type": "display_data"
    }
   ],
   "source": [
    "#housing_loan visualized\n",
    "term_hist('housing_loan')\n",
    "plt.show()"
   ]
  },
  {
   "cell_type": "code",
   "execution_count": 146,
   "metadata": {},
   "outputs": [
    {
     "data": {
      "image/png": "[encoded data removed]",
      "text/plain": [
       "<Figure size 720x720 with 1 Axes>"
      ]
     },
     "metadata": {
      "needs_background": "light"
     },
     "output_type": "display_data"
    }
   ],
   "source": [
    "#personal loan\n",
    "term_hist('personal_loan')\n",
    "plt.show()"
   ]
  },
  {
   "cell_type": "code",
   "execution_count": 155,
   "metadata": {},
   "outputs": [
    {
     "data": {
      "image/png": "[encoded data removed]",
      "text/plain": [
       "<Figure size 576x576 with 1 Axes>"
      ]
     },
     "metadata": {
      "needs_background": "light"
     },
     "output_type": "display_data"
    }
   ],
   "source": [
    "#contact_method during campaign\n",
    "term_hist('contact_method', figy = 8, figx = 8)\n",
    "plt.show()"
   ]
  },
  {
   "cell_type": "code",
   "execution_count": 157,
   "metadata": {},
   "outputs": [
    {
     "data": {
      "image/png": "[encoded data removed]",
      "text/plain": [
       "<Figure size 1440x720 with 1 Axes>"
      ]
     },
     "metadata": {
      "needs_background": "light"
     },
     "output_type": "display_data"
    }
   ],
   "source": [
    "#day of month visualization\n",
    "term_hist('day', bins = 31, figx = 20)\n",
    "ticks = range(1,32)\n",
    "plt.xticks(ticks = ticks)\n",
    "plt.show()"
   ]
  },
  {
   "cell_type": "code",
   "execution_count": 160,
   "metadata": {},
   "outputs": [
    {
     "data": {
      "image/png": "[encoded data removed]",
      "text/plain": [
       "<Figure size 720x720 with 1 Axes>"
      ]
     },
     "metadata": {
      "needs_background": "light"
     },
     "output_type": "display_data"
    }
   ],
   "source": [
    "#visualization by month\n",
    "term_hist('month', bins =12)\n",
    "ticks = range(1,13)\n",
    "plt.xticks(ticks = ticks)\n",
    "plt.show()"
   ]
  },
  {
   "cell_type": "code",
   "execution_count": 173,
   "metadata": {},
   "outputs": [
    {
     "data": {
      "image/png": "[encoded data removed]",
      "text/plain": [
       "<Figure size 1440x720 with 1 Axes>"
      ]
     },
     "metadata": {
      "needs_background": "light"
     },
     "output_type": "display_data"
    }
   ],
   "source": [
    "#duration\n",
    "term_hist('duration', figx = 20)\n",
    "plt.xlabel('duration in seconds')\n",
    "plt.show()"
   ]
  },
  {
   "cell_type": "code",
   "execution_count": 202,
   "metadata": {},
   "outputs": [
    {
     "data": {
      "image/png": "[encoded data removed]",
      "text/plain": [
       "<Figure size 864x576 with 1 Axes>"
      ]
     },
     "metadata": {
      "needs_background": "light"
     },
     "output_type": "display_data"
    }
   ],
   "source": [
    "#let's get rid of all of the larger amounts, I should've made room in the function for changing the database, but it's okay\n",
    "\n",
    "df_temp = df.loc[df['campaign_contacts'] < 20]\n",
    "plt.figure(figsize=(12,8))\n",
    "plt.hist(df_temp['campaign_contacts'].loc[df_temp['term_deposit'] == 'yes'], bins = 20, alpha=0.8, label='Yes to Term Deposit', color = 'b')\n",
    "plt.hist(df_temp['campaign_contacts'].loc[df_temp['term_deposit'] == 'no'], bins = 20, alpha=0.4, label='No Term Deposit', color = 'k')\n",
    "plt.legend(loc='upper right')\n",
    "plt.ylabel('# of Customers')\n",
    "plt.title('Term deposits by current campaign contacts')\n",
    "plt.xlabel('Contacts from current campaign')\n",
    "ticks = range(0,21)\n",
    "plt.xticks(ticks = ticks)\n",
    "plt.show()"
   ]
  },
  {
   "cell_type": "code",
   "execution_count": 181,
   "metadata": {},
   "outputs": [
    {
     "data": {
      "image/png": "[encoded data removed]",
      "text/plain": [
       "<Figure size 1440x720 with 1 Axes>"
      ]
     },
     "metadata": {
      "needs_background": "light"
     },
     "output_type": "display_data"
    }
   ],
   "source": [
    "# a bit deceiving as -1 represents never being contacted. I'll rework this and think of something better if I plan to use this visual\n",
    "term_hist('prev_days', bins = 100,figx = 20)\n",
    "plt.xlabel('Days since last contact')\n",
    "ticks=range(0,900,20)\n",
    "plt.xticks(ticks = ticks)\n",
    "plt.show()"
   ]
  },
  {
   "cell_type": "code",
   "execution_count": 200,
   "metadata": {},
   "outputs": [
    {
     "data": {
      "image/png": "[encoded data removed]",
      "text/plain": [
       "<Figure size 864x576 with 1 Axes>"
      ]
     },
     "metadata": {
      "needs_background": "light"
     },
     "output_type": "display_data"
    }
   ],
   "source": [
    "#previous contacts\n",
    "# so I think I have to get rid of the the big number\n",
    "df_temp = df.loc[df['previous_contacts'] < 15]\n",
    "plt.figure(figsize=(12,8))\n",
    "plt.hist(df_temp['previous_contacts'].loc[df_temp['term_deposit'] == 'yes'], bins = 15, alpha=0.8, label='Yes to Term Deposit', color = 'b')\n",
    "plt.hist(df_temp['previous_contacts'].loc[df_temp['term_deposit'] == 'no'], bins = 15, alpha=0.4, label='No Term Deposit', color = 'k')\n",
    "plt.legend(loc='upper right')\n",
    "plt.ylabel('# of Customers')\n",
    "plt.title('Term deposits by previous campaign contacts')\n",
    "plt.xlabel('Previous contacts from last campaign')\n",
    "ticks = range(0,16)\n",
    "plt.xticks(ticks = ticks)\n",
    "plt.show()"
   ]
  },
  {
   "cell_type": "code",
   "execution_count": 204,
   "metadata": {},
   "outputs": [
    {
     "data": {
      "image/png": "[encoded data removed]",
      "text/plain": [
       "<Figure size 720x720 with 1 Axes>"
      ]
     },
     "metadata": {
      "needs_background": "light"
     },
     "output_type": "display_data"
    }
   ],
   "source": [
    "#visualizing previous outcome\n",
    "term_hist('prev_outcome')\n",
    "plt.show()"
   ]
  },
  {
   "cell_type": "markdown",
   "metadata": {},
   "source": [
    "While I'm not entirely happy with the visualizations as they have large factors that are around 0, after doing some more testing I should be able to figure out a better way to visualize the findings especially once the final model is made. We can always revisit the visualization step once I figure out how I want to present the findings and after creating a successful model.\n",
    "\n",
    "Next is some basic correlations and then we can move into the next step"
   ]
  },
  {
   "cell_type": "code",
   "execution_count": 211,
   "metadata": {},
   "outputs": [
    {
     "data": {
      "text/html": [
       "<div>\n",
       "<style scoped>\n",
       "    .dataframe tbody tr th:only-of-type {\n",
       "        vertical-align: middle;\n",
       "    }\n",
       "\n",
       "    .dataframe tbody tr th {\n",
       "        vertical-align: top;\n",
       "    }\n",
       "\n",
       "    .dataframe thead th {\n",
       "        text-align: right;\n",
       "    }\n",
       "</style>\n",
       "<table border=\"1\" class=\"dataframe\">\n",
       "  <thead>\n",
       "    <tr style=\"text-align: right;\">\n",
       "      <th></th>\n",
       "      <th>age</th>\n",
       "      <th>avg_yearly_balance</th>\n",
       "      <th>day</th>\n",
       "      <th>month</th>\n",
       "      <th>duration</th>\n",
       "      <th>campaign_contacts</th>\n",
       "      <th>prev_days</th>\n",
       "      <th>previous_contacts</th>\n",
       "    </tr>\n",
       "  </thead>\n",
       "  <tbody>\n",
       "    <tr>\n",
       "      <th>age</th>\n",
       "      <td>1.000000</td>\n",
       "      <td>0.124335</td>\n",
       "      <td>0.002470</td>\n",
       "      <td>0.049235</td>\n",
       "      <td>-0.028516</td>\n",
       "      <td>-0.024583</td>\n",
       "      <td>0.022833</td>\n",
       "      <td>0.030219</td>\n",
       "    </tr>\n",
       "    <tr>\n",
       "      <th>avg_yearly_balance</th>\n",
       "      <td>0.124335</td>\n",
       "      <td>1.000000</td>\n",
       "      <td>0.010051</td>\n",
       "      <td>0.038250</td>\n",
       "      <td>-0.042057</td>\n",
       "      <td>-0.000878</td>\n",
       "      <td>0.010880</td>\n",
       "      <td>0.020937</td>\n",
       "    </tr>\n",
       "    <tr>\n",
       "      <th>day</th>\n",
       "      <td>0.002470</td>\n",
       "      <td>0.010051</td>\n",
       "      <td>1.000000</td>\n",
       "      <td>0.009152</td>\n",
       "      <td>0.039356</td>\n",
       "      <td>0.084491</td>\n",
       "      <td>-0.026867</td>\n",
       "      <td>-0.040779</td>\n",
       "    </tr>\n",
       "    <tr>\n",
       "      <th>month</th>\n",
       "      <td>0.049235</td>\n",
       "      <td>0.038250</td>\n",
       "      <td>0.009152</td>\n",
       "      <td>1.000000</td>\n",
       "      <td>-0.003586</td>\n",
       "      <td>0.011214</td>\n",
       "      <td>0.021744</td>\n",
       "      <td>0.045596</td>\n",
       "    </tr>\n",
       "    <tr>\n",
       "      <th>duration</th>\n",
       "      <td>-0.028516</td>\n",
       "      <td>-0.042057</td>\n",
       "      <td>0.039356</td>\n",
       "      <td>-0.003586</td>\n",
       "      <td>1.000000</td>\n",
       "      <td>0.167687</td>\n",
       "      <td>-0.162006</td>\n",
       "      <td>-0.145714</td>\n",
       "    </tr>\n",
       "    <tr>\n",
       "      <th>campaign_contacts</th>\n",
       "      <td>-0.024583</td>\n",
       "      <td>-0.000878</td>\n",
       "      <td>0.084491</td>\n",
       "      <td>0.011214</td>\n",
       "      <td>0.167687</td>\n",
       "      <td>1.000000</td>\n",
       "      <td>-0.098127</td>\n",
       "      <td>-0.055911</td>\n",
       "    </tr>\n",
       "    <tr>\n",
       "      <th>prev_days</th>\n",
       "      <td>0.022833</td>\n",
       "      <td>0.010880</td>\n",
       "      <td>-0.026867</td>\n",
       "      <td>0.021744</td>\n",
       "      <td>-0.162006</td>\n",
       "      <td>-0.098127</td>\n",
       "      <td>1.000000</td>\n",
       "      <td>0.460791</td>\n",
       "    </tr>\n",
       "    <tr>\n",
       "      <th>previous_contacts</th>\n",
       "      <td>0.030219</td>\n",
       "      <td>0.020937</td>\n",
       "      <td>-0.040779</td>\n",
       "      <td>0.045596</td>\n",
       "      <td>-0.145714</td>\n",
       "      <td>-0.055911</td>\n",
       "      <td>0.460791</td>\n",
       "      <td>1.000000</td>\n",
       "    </tr>\n",
       "  </tbody>\n",
       "</table>\n",
       "</div>"
      ],
      "text/plain": [
       "                         age  avg_yearly_balance       day     month  \\\n",
       "age                 1.000000            0.124335  0.002470  0.049235   \n",
       "avg_yearly_balance  0.124335            1.000000  0.010051  0.038250   \n",
       "day                 0.002470            0.010051  1.000000  0.009152   \n",
       "month               0.049235            0.038250  0.009152  1.000000   \n",
       "duration           -0.028516           -0.042057  0.039356 -0.003586   \n",
       "campaign_contacts  -0.024583           -0.000878  0.084491  0.011214   \n",
       "prev_days           0.022833            0.010880 -0.026867  0.021744   \n",
       "previous_contacts   0.030219            0.020937 -0.040779  0.045596   \n",
       "\n",
       "                    duration  campaign_contacts  prev_days  previous_contacts  \n",
       "age                -0.028516          -0.024583   0.022833           0.030219  \n",
       "avg_yearly_balance -0.042057          -0.000878   0.010880           0.020937  \n",
       "day                 0.039356           0.084491  -0.026867          -0.040779  \n",
       "month              -0.003586           0.011214   0.021744           0.045596  \n",
       "duration            1.000000           0.167687  -0.162006          -0.145714  \n",
       "campaign_contacts   0.167687           1.000000  -0.098127          -0.055911  \n",
       "prev_days          -0.162006          -0.098127   1.000000           0.460791  \n",
       "previous_contacts  -0.145714          -0.055911   0.460791           1.000000  "
      ]
     },
     "execution_count": 211,
     "metadata": {},
     "output_type": "execute_result"
    }
   ],
   "source": [
    "df_yes = df.loc[df['term_deposit'] == 'yes']\n",
    "df_yes.corr(method = 'pearson')"
   ]
  },
  {
   "cell_type": "markdown",
   "metadata": {},
   "source": [
    "Looks like we have a small age correlation with yearly balance. A small duration correlation with # of campaign contacs. and a very strong correlation of previous_days with previous_contacts, however, this may be because of the large amount of -1s and 0s in there. "
   ]
  },
  {
   "cell_type": "code",
   "execution_count": null,
   "metadata": {},
   "outputs": [],
   "source": []
  }
 ],
 "metadata": {
  "kernelspec": {
   "display_name": "Python 3",
   "language": "python",
   "name": "python3"
  },
  "language_info": {
   "codemirror_mode": {
    "name": "ipython",
    "version": 3
   },
   "file_extension": ".py",
   "mimetype": "text/x-python",
   "name": "python",
   "nbconvert_exporter": "python",
   "pygments_lexer": "ipython3",
   "version": "3.7.6"
  }
 },
 "nbformat": 4,
 "nbformat_minor": 4
}
