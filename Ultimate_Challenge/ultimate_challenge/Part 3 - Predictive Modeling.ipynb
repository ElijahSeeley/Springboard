{
 "cells": [
  {
   "cell_type": "code",
   "execution_count": 3,
   "metadata": {},
   "outputs": [],
   "source": [
    "import json\n",
    "import pandas as pd\n",
    "import numpy as np\n",
    "import datetime as dt\n",
    "import matplotlib.pyplot as plt\n",
    "import seaborn as sns"
   ]
  },
  {
   "cell_type": "code",
   "execution_count": 4,
   "metadata": {},
   "outputs": [
    {
     "data": {
      "text/html": [
       "<div>\n",
       "<style scoped>\n",
       "    .dataframe tbody tr th:only-of-type {\n",
       "        vertical-align: middle;\n",
       "    }\n",
       "\n",
       "    .dataframe tbody tr th {\n",
       "        vertical-align: top;\n",
       "    }\n",
       "\n",
       "    .dataframe thead th {\n",
       "        text-align: right;\n",
       "    }\n",
       "</style>\n",
       "<table border=\"1\" class=\"dataframe\">\n",
       "  <thead>\n",
       "    <tr style=\"text-align: right;\">\n",
       "      <th></th>\n",
       "      <th>city</th>\n",
       "      <th>trips_in_first_30_days</th>\n",
       "      <th>signup_date</th>\n",
       "      <th>avg_rating_of_driver</th>\n",
       "      <th>avg_surge</th>\n",
       "      <th>last_trip_date</th>\n",
       "      <th>phone</th>\n",
       "      <th>surge_pct</th>\n",
       "      <th>ultimate_black_user</th>\n",
       "      <th>weekday_pct</th>\n",
       "      <th>avg_dist</th>\n",
       "      <th>avg_rating_by_driver</th>\n",
       "    </tr>\n",
       "  </thead>\n",
       "  <tbody>\n",
       "    <tr>\n",
       "      <th>0</th>\n",
       "      <td>King's Landing</td>\n",
       "      <td>4</td>\n",
       "      <td>2014-01-25</td>\n",
       "      <td>4.7</td>\n",
       "      <td>1.10</td>\n",
       "      <td>2014-06-17</td>\n",
       "      <td>iPhone</td>\n",
       "      <td>15.4</td>\n",
       "      <td>True</td>\n",
       "      <td>46.2</td>\n",
       "      <td>3.67</td>\n",
       "      <td>5.0</td>\n",
       "    </tr>\n",
       "    <tr>\n",
       "      <th>1</th>\n",
       "      <td>Astapor</td>\n",
       "      <td>0</td>\n",
       "      <td>2014-01-29</td>\n",
       "      <td>5.0</td>\n",
       "      <td>1.00</td>\n",
       "      <td>2014-05-05</td>\n",
       "      <td>Android</td>\n",
       "      <td>0.0</td>\n",
       "      <td>False</td>\n",
       "      <td>50.0</td>\n",
       "      <td>8.26</td>\n",
       "      <td>5.0</td>\n",
       "    </tr>\n",
       "    <tr>\n",
       "      <th>2</th>\n",
       "      <td>Astapor</td>\n",
       "      <td>3</td>\n",
       "      <td>2014-01-06</td>\n",
       "      <td>4.3</td>\n",
       "      <td>1.00</td>\n",
       "      <td>2014-01-07</td>\n",
       "      <td>iPhone</td>\n",
       "      <td>0.0</td>\n",
       "      <td>False</td>\n",
       "      <td>100.0</td>\n",
       "      <td>0.77</td>\n",
       "      <td>5.0</td>\n",
       "    </tr>\n",
       "    <tr>\n",
       "      <th>3</th>\n",
       "      <td>King's Landing</td>\n",
       "      <td>9</td>\n",
       "      <td>2014-01-10</td>\n",
       "      <td>4.6</td>\n",
       "      <td>1.14</td>\n",
       "      <td>2014-06-29</td>\n",
       "      <td>iPhone</td>\n",
       "      <td>20.0</td>\n",
       "      <td>True</td>\n",
       "      <td>80.0</td>\n",
       "      <td>2.36</td>\n",
       "      <td>4.9</td>\n",
       "    </tr>\n",
       "    <tr>\n",
       "      <th>4</th>\n",
       "      <td>Winterfell</td>\n",
       "      <td>14</td>\n",
       "      <td>2014-01-27</td>\n",
       "      <td>4.4</td>\n",
       "      <td>1.19</td>\n",
       "      <td>2014-03-15</td>\n",
       "      <td>Android</td>\n",
       "      <td>11.8</td>\n",
       "      <td>False</td>\n",
       "      <td>82.4</td>\n",
       "      <td>3.13</td>\n",
       "      <td>4.9</td>\n",
       "    </tr>\n",
       "  </tbody>\n",
       "</table>\n",
       "</div>"
      ],
      "text/plain": [
       "             city  trips_in_first_30_days signup_date  avg_rating_of_driver  \\\n",
       "0  King's Landing                       4  2014-01-25                   4.7   \n",
       "1         Astapor                       0  2014-01-29                   5.0   \n",
       "2         Astapor                       3  2014-01-06                   4.3   \n",
       "3  King's Landing                       9  2014-01-10                   4.6   \n",
       "4      Winterfell                      14  2014-01-27                   4.4   \n",
       "\n",
       "   avg_surge last_trip_date    phone  surge_pct  ultimate_black_user  \\\n",
       "0       1.10     2014-06-17   iPhone       15.4                 True   \n",
       "1       1.00     2014-05-05  Android        0.0                False   \n",
       "2       1.00     2014-01-07   iPhone        0.0                False   \n",
       "3       1.14     2014-06-29   iPhone       20.0                 True   \n",
       "4       1.19     2014-03-15  Android       11.8                False   \n",
       "\n",
       "   weekday_pct  avg_dist  avg_rating_by_driver  \n",
       "0         46.2      3.67                   5.0  \n",
       "1         50.0      8.26                   5.0  \n",
       "2        100.0      0.77                   5.0  \n",
       "3         80.0      2.36                   4.9  \n",
       "4         82.4      3.13                   4.9  "
      ]
     },
     "execution_count": 4,
     "metadata": {},
     "output_type": "execute_result"
    }
   ],
   "source": [
    "df = pd.read_json('ultimate_data_challenge.json')\n",
    "df.head()"
   ]
  },
  {
   "cell_type": "markdown",
   "metadata": {},
   "source": [
    "For context, below is the prompt.\n",
    "\n",
    "Ultimate is interested in predicting rider retention. To help explore this question, we have\n",
    "provided a sample dataset of a cohort of users who signed up for an Ultimate account in\n",
    "January 2014. The data was pulled several months later; we consider a user retained if they\n",
    "were “active” (i.e. took a trip) in the preceding 30 days.\n",
    "We would like you to use this data set to help understand what factors are the best predictors\n",
    "for retention, and offer suggestions to operationalize those insights to help Ultimate.\n",
    "The data is in the attached file ultimate_data_challenge.json. See below for a detailed\n",
    "description of the dataset. Please include any code you wrote for the analysis and delete the\n",
    "dataset when you have finished with the challenge.\n",
    "1. Perform any cleaning, exploratory analysis, and/or visualizations to use the provided\n",
    "data for this analysis (a few sentences/plots describing your approach will suffice). What\n",
    "fraction of the observed users were retained?\n",
    "2. Build a predictive model to help Ultimate determine whether or not a user will be active\n",
    "in their 6th month on the system. Discuss why you chose your approach, what\n",
    "alternatives you considered, and any concerns you have. How valid is your model?\n",
    "Include any key indicators of model performance.\n",
    "3. Briefly discuss how Ultimate might leverage the insights gained from the model to\n",
    "improve its long­term rider retention (again, a few sentences will suffice).\n"
   ]
  },
  {
   "cell_type": "code",
   "execution_count": 5,
   "metadata": {},
   "outputs": [
    {
     "data": {
      "text/plain": [
       "city                         0\n",
       "trips_in_first_30_days       0\n",
       "signup_date                  0\n",
       "avg_rating_of_driver      8122\n",
       "avg_surge                    0\n",
       "last_trip_date               0\n",
       "phone                      396\n",
       "surge_pct                    0\n",
       "ultimate_black_user          0\n",
       "weekday_pct                  0\n",
       "avg_dist                     0\n",
       "avg_rating_by_driver       201\n",
       "dtype: int64"
      ]
     },
     "execution_count": 5,
     "metadata": {},
     "output_type": "execute_result"
    }
   ],
   "source": [
    "#Before we go any further let's check for any missing values\n",
    "df.isnull().sum()"
   ]
  },
  {
   "cell_type": "code",
   "execution_count": 6,
   "metadata": {},
   "outputs": [
    {
     "data": {
      "text/plain": [
       "city                         0\n",
       "trips_in_first_30_days       0\n",
       "signup_date                  0\n",
       "avg_rating_of_driver      8122\n",
       "avg_surge                    0\n",
       "last_trip_date               0\n",
       "phone                      396\n",
       "surge_pct                    0\n",
       "ultimate_black_user          0\n",
       "weekday_pct                  0\n",
       "avg_dist                     0\n",
       "avg_rating_by_driver       201\n",
       "dtype: int64"
      ]
     },
     "execution_count": 6,
     "metadata": {},
     "output_type": "execute_result"
    }
   ],
   "source": [
    "df.isna().sum()"
   ]
  },
  {
   "cell_type": "code",
   "execution_count": 7,
   "metadata": {},
   "outputs": [
    {
     "data": {
      "text/plain": [
       "city                      50000\n",
       "trips_in_first_30_days    50000\n",
       "signup_date               50000\n",
       "avg_rating_of_driver      41878\n",
       "avg_surge                 50000\n",
       "last_trip_date            50000\n",
       "phone                     49604\n",
       "surge_pct                 50000\n",
       "ultimate_black_user       50000\n",
       "weekday_pct               50000\n",
       "avg_dist                  50000\n",
       "avg_rating_by_driver      49799\n",
       "dtype: int64"
      ]
     },
     "execution_count": 7,
     "metadata": {},
     "output_type": "execute_result"
    }
   ],
   "source": [
    "df.count()"
   ]
  },
  {
   "cell_type": "markdown",
   "metadata": {},
   "source": [
    "okay so we have to handle these missing values. As per a reccomendation, I will go ahead and fill these values in with the median in the avg_rating case and I'll list 'unknown' in the phone section. As for the average rating, I will go ahead and create columns that signify whether that column was filled in by us or not. Might as well do it for the device as well can't hurt.\n"
   ]
  },
  {
   "cell_type": "code",
   "execution_count": 8,
   "metadata": {},
   "outputs": [
    {
     "data": {
      "text/html": [
       "<div>\n",
       "<style scoped>\n",
       "    .dataframe tbody tr th:only-of-type {\n",
       "        vertical-align: middle;\n",
       "    }\n",
       "\n",
       "    .dataframe tbody tr th {\n",
       "        vertical-align: top;\n",
       "    }\n",
       "\n",
       "    .dataframe thead th {\n",
       "        text-align: right;\n",
       "    }\n",
       "</style>\n",
       "<table border=\"1\" class=\"dataframe\">\n",
       "  <thead>\n",
       "    <tr style=\"text-align: right;\">\n",
       "      <th></th>\n",
       "      <th>city</th>\n",
       "      <th>trips_in_first_30_days</th>\n",
       "      <th>signup_date</th>\n",
       "      <th>avg_rating_of_driver</th>\n",
       "      <th>avg_surge</th>\n",
       "      <th>last_trip_date</th>\n",
       "      <th>phone</th>\n",
       "      <th>surge_pct</th>\n",
       "      <th>ultimate_black_user</th>\n",
       "      <th>weekday_pct</th>\n",
       "      <th>avg_dist</th>\n",
       "      <th>avg_rating_by_driver</th>\n",
       "      <th>avg_rating_of_driver_isnull</th>\n",
       "      <th>phone_isnull</th>\n",
       "      <th>avg_rating_by_driver_isnull</th>\n",
       "    </tr>\n",
       "  </thead>\n",
       "  <tbody>\n",
       "    <tr>\n",
       "      <th>0</th>\n",
       "      <td>King's Landing</td>\n",
       "      <td>4</td>\n",
       "      <td>2014-01-25</td>\n",
       "      <td>4.7</td>\n",
       "      <td>1.10</td>\n",
       "      <td>2014-06-17</td>\n",
       "      <td>iPhone</td>\n",
       "      <td>15.4</td>\n",
       "      <td>True</td>\n",
       "      <td>46.2</td>\n",
       "      <td>3.67</td>\n",
       "      <td>5.0</td>\n",
       "      <td>False</td>\n",
       "      <td>False</td>\n",
       "      <td>False</td>\n",
       "    </tr>\n",
       "    <tr>\n",
       "      <th>1</th>\n",
       "      <td>Astapor</td>\n",
       "      <td>0</td>\n",
       "      <td>2014-01-29</td>\n",
       "      <td>5.0</td>\n",
       "      <td>1.00</td>\n",
       "      <td>2014-05-05</td>\n",
       "      <td>Android</td>\n",
       "      <td>0.0</td>\n",
       "      <td>False</td>\n",
       "      <td>50.0</td>\n",
       "      <td>8.26</td>\n",
       "      <td>5.0</td>\n",
       "      <td>False</td>\n",
       "      <td>False</td>\n",
       "      <td>False</td>\n",
       "    </tr>\n",
       "    <tr>\n",
       "      <th>2</th>\n",
       "      <td>Astapor</td>\n",
       "      <td>3</td>\n",
       "      <td>2014-01-06</td>\n",
       "      <td>4.3</td>\n",
       "      <td>1.00</td>\n",
       "      <td>2014-01-07</td>\n",
       "      <td>iPhone</td>\n",
       "      <td>0.0</td>\n",
       "      <td>False</td>\n",
       "      <td>100.0</td>\n",
       "      <td>0.77</td>\n",
       "      <td>5.0</td>\n",
       "      <td>False</td>\n",
       "      <td>False</td>\n",
       "      <td>False</td>\n",
       "    </tr>\n",
       "    <tr>\n",
       "      <th>3</th>\n",
       "      <td>King's Landing</td>\n",
       "      <td>9</td>\n",
       "      <td>2014-01-10</td>\n",
       "      <td>4.6</td>\n",
       "      <td>1.14</td>\n",
       "      <td>2014-06-29</td>\n",
       "      <td>iPhone</td>\n",
       "      <td>20.0</td>\n",
       "      <td>True</td>\n",
       "      <td>80.0</td>\n",
       "      <td>2.36</td>\n",
       "      <td>4.9</td>\n",
       "      <td>False</td>\n",
       "      <td>False</td>\n",
       "      <td>False</td>\n",
       "    </tr>\n",
       "    <tr>\n",
       "      <th>4</th>\n",
       "      <td>Winterfell</td>\n",
       "      <td>14</td>\n",
       "      <td>2014-01-27</td>\n",
       "      <td>4.4</td>\n",
       "      <td>1.19</td>\n",
       "      <td>2014-03-15</td>\n",
       "      <td>Android</td>\n",
       "      <td>11.8</td>\n",
       "      <td>False</td>\n",
       "      <td>82.4</td>\n",
       "      <td>3.13</td>\n",
       "      <td>4.9</td>\n",
       "      <td>False</td>\n",
       "      <td>False</td>\n",
       "      <td>False</td>\n",
       "    </tr>\n",
       "  </tbody>\n",
       "</table>\n",
       "</div>"
      ],
      "text/plain": [
       "             city  trips_in_first_30_days signup_date  avg_rating_of_driver  \\\n",
       "0  King's Landing                       4  2014-01-25                   4.7   \n",
       "1         Astapor                       0  2014-01-29                   5.0   \n",
       "2         Astapor                       3  2014-01-06                   4.3   \n",
       "3  King's Landing                       9  2014-01-10                   4.6   \n",
       "4      Winterfell                      14  2014-01-27                   4.4   \n",
       "\n",
       "   avg_surge last_trip_date    phone  surge_pct  ultimate_black_user  \\\n",
       "0       1.10     2014-06-17   iPhone       15.4                 True   \n",
       "1       1.00     2014-05-05  Android        0.0                False   \n",
       "2       1.00     2014-01-07   iPhone        0.0                False   \n",
       "3       1.14     2014-06-29   iPhone       20.0                 True   \n",
       "4       1.19     2014-03-15  Android       11.8                False   \n",
       "\n",
       "   weekday_pct  avg_dist  avg_rating_by_driver  avg_rating_of_driver_isnull  \\\n",
       "0         46.2      3.67                   5.0                        False   \n",
       "1         50.0      8.26                   5.0                        False   \n",
       "2        100.0      0.77                   5.0                        False   \n",
       "3         80.0      2.36                   4.9                        False   \n",
       "4         82.4      3.13                   4.9                        False   \n",
       "\n",
       "   phone_isnull  avg_rating_by_driver_isnull  \n",
       "0         False                        False  \n",
       "1         False                        False  \n",
       "2         False                        False  \n",
       "3         False                        False  \n",
       "4         False                        False  "
      ]
     },
     "execution_count": 8,
     "metadata": {},
     "output_type": "execute_result"
    }
   ],
   "source": [
    "null_columns = ['avg_rating_of_driver', 'phone', 'avg_rating_by_driver']\n",
    "\n",
    "for col in null_columns:\n",
    "    new_col = col +'_isnull'\n",
    "    df[new_col] = df[col].isnull()\n",
    "df.head()"
   ]
  },
  {
   "cell_type": "code",
   "execution_count": 9,
   "metadata": {},
   "outputs": [],
   "source": [
    "df['avg_rating_by_driver'] = df['avg_rating_by_driver'].fillna(value = df['avg_rating_by_driver'].median())\n",
    "df['avg_rating_of_driver'] = df['avg_rating_of_driver'].fillna(value = df['avg_rating_of_driver'].median())\n",
    "df['phone'] = df['phone'].fillna(value='unknown')"
   ]
  },
  {
   "cell_type": "code",
   "execution_count": 10,
   "metadata": {},
   "outputs": [
    {
     "data": {
      "text/plain": [
       "city                           0\n",
       "trips_in_first_30_days         0\n",
       "signup_date                    0\n",
       "avg_rating_of_driver           0\n",
       "avg_surge                      0\n",
       "last_trip_date                 0\n",
       "phone                          0\n",
       "surge_pct                      0\n",
       "ultimate_black_user            0\n",
       "weekday_pct                    0\n",
       "avg_dist                       0\n",
       "avg_rating_by_driver           0\n",
       "avg_rating_of_driver_isnull    0\n",
       "phone_isnull                   0\n",
       "avg_rating_by_driver_isnull    0\n",
       "dtype: int64"
      ]
     },
     "execution_count": 10,
     "metadata": {},
     "output_type": "execute_result"
    }
   ],
   "source": [
    "df.isna().sum() #perfect"
   ]
  },
  {
   "cell_type": "code",
   "execution_count": 11,
   "metadata": {},
   "outputs": [
    {
     "name": "stdout",
     "output_type": "stream",
     "text": [
      "city\n",
      "Astapor           16534\n",
      "King's Landing    10130\n",
      "Winterfell        23336\n",
      "Name: city, dtype: int64\n",
      "trips_in_first_30_days\n",
      "0      15390\n",
      "1      14108\n",
      "2       7402\n",
      "3       3788\n",
      "4       2562\n",
      "5       1616\n",
      "6       1134\n",
      "7        819\n",
      "8        589\n",
      "9        471\n",
      "10       349\n",
      "11       301\n",
      "12       221\n",
      "13       168\n",
      "14       147\n",
      "15       155\n",
      "16       108\n",
      "17       113\n",
      "18        80\n",
      "19        69\n",
      "20        51\n",
      "21        40\n",
      "22        34\n",
      "23        45\n",
      "24        33\n",
      "25        20\n",
      "26        19\n",
      "27        28\n",
      "28        21\n",
      "29         9\n",
      "30        15\n",
      "31         6\n",
      "32         8\n",
      "33         9\n",
      "34        11\n",
      "35         2\n",
      "36         3\n",
      "37         9\n",
      "38         4\n",
      "39         3\n",
      "40         5\n",
      "41         1\n",
      "42         3\n",
      "43         4\n",
      "44         5\n",
      "47         3\n",
      "48         2\n",
      "49         2\n",
      "50         1\n",
      "51         1\n",
      "53         2\n",
      "54         2\n",
      "55         2\n",
      "56         2\n",
      "58         1\n",
      "63         1\n",
      "71         1\n",
      "73         1\n",
      "125        1\n",
      "Name: trips_in_first_30_days, dtype: int64\n",
      "signup_date\n",
      "2014-01-01    1737\n",
      "2014-01-02    1004\n",
      "2014-01-03    1213\n",
      "2014-01-04    1485\n",
      "2014-01-05    1343\n",
      "2014-01-06    1763\n",
      "2014-01-07    1486\n",
      "2014-01-08    1275\n",
      "2014-01-09    1433\n",
      "2014-01-10    2021\n",
      "2014-01-11    2402\n",
      "2014-01-12    1334\n",
      "2014-01-13    1049\n",
      "2014-01-14    1120\n",
      "2014-01-15    1110\n",
      "2014-01-16    1431\n",
      "2014-01-17    2149\n",
      "2014-01-18    2948\n",
      "2014-01-19    2028\n",
      "2014-01-20    1295\n",
      "2014-01-21    1234\n",
      "2014-01-22    1369\n",
      "2014-01-23    1606\n",
      "2014-01-24    2284\n",
      "2014-01-25    2885\n",
      "2014-01-26    1708\n",
      "2014-01-27    1236\n",
      "2014-01-28    1284\n",
      "2014-01-29    1197\n",
      "2014-01-30    1471\n",
      "2014-01-31    2100\n",
      "Name: signup_date, dtype: int64\n",
      "avg_rating_of_driver\n",
      "1.0      256\n",
      "1.5        4\n",
      "1.6        1\n",
      "1.7        2\n",
      "1.8        2\n",
      "1.9        1\n",
      "2.0      209\n",
      "2.1        6\n",
      "2.2        1\n",
      "2.3       22\n",
      "2.4        3\n",
      "2.5       94\n",
      "2.6       12\n",
      "2.7       47\n",
      "2.8       28\n",
      "2.9       13\n",
      "3.0     1003\n",
      "3.1       39\n",
      "3.2       53\n",
      "3.3      201\n",
      "3.4      108\n",
      "3.5      488\n",
      "3.6      172\n",
      "3.7      364\n",
      "3.8      428\n",
      "3.9      255\n",
      "4.0     4193\n",
      "4.1      398\n",
      "4.2      601\n",
      "4.3     1487\n",
      "4.4      829\n",
      "4.5     2498\n",
      "4.6     1143\n",
      "4.7     1945\n",
      "4.8     2430\n",
      "4.9     9893\n",
      "5.0    20771\n",
      "Name: avg_rating_of_driver, dtype: int64\n",
      "avg_surge\n",
      "1.00    34454\n",
      "1.01      484\n",
      "1.02      809\n",
      "1.03      619\n",
      "1.04      774\n",
      "        ...  \n",
      "4.50        4\n",
      "4.75        1\n",
      "5.00        5\n",
      "5.75        1\n",
      "8.00        1\n",
      "Name: avg_surge, Length: 115, dtype: int64\n",
      "last_trip_date\n",
      "2014-01-01     128\n",
      "2014-01-02     180\n",
      "2014-01-03     128\n",
      "2014-01-04     199\n",
      "2014-01-05     270\n",
      "              ... \n",
      "2014-06-27    1120\n",
      "2014-06-28    1679\n",
      "2014-06-29    2036\n",
      "2014-06-30    1408\n",
      "2014-07-01     548\n",
      "Name: last_trip_date, Length: 182, dtype: int64\n",
      "phone\n",
      "Android    15022\n",
      "iPhone     34582\n",
      "unknown      396\n",
      "Name: phone, dtype: int64\n",
      "surge_pct\n",
      "0.0      34409\n",
      "0.4          1\n",
      "0.5          3\n",
      "0.6          1\n",
      "0.7          5\n",
      "         ...  \n",
      "75.0        34\n",
      "80.0        11\n",
      "83.3         3\n",
      "85.7         2\n",
      "100.0     1416\n",
      "Name: surge_pct, Length: 367, dtype: int64\n",
      "ultimate_black_user\n",
      "False    31146\n",
      "True     18854\n",
      "Name: ultimate_black_user, dtype: int64\n",
      "weekday_pct\n",
      "0.0       9203\n",
      "4.0          1\n",
      "5.0          1\n",
      "5.9          1\n",
      "6.3          3\n",
      "         ...  \n",
      "98.4         2\n",
      "98.5         1\n",
      "98.9         2\n",
      "99.0         1\n",
      "100.0    16659\n",
      "Name: weekday_pct, Length: 666, dtype: int64\n",
      "avg_dist\n",
      "0.00      150\n",
      "0.01       38\n",
      "0.02       14\n",
      "0.03        6\n",
      "0.04       12\n",
      "         ... \n",
      "77.13       1\n",
      "79.34       1\n",
      "79.69       1\n",
      "129.89      1\n",
      "160.96      1\n",
      "Name: avg_dist, Length: 2908, dtype: int64\n",
      "avg_rating_by_driver\n",
      "1.0      181\n",
      "1.5        4\n",
      "2.0      126\n",
      "2.3        1\n",
      "2.5       31\n",
      "2.7        2\n",
      "2.8        3\n",
      "3.0      602\n",
      "3.2        2\n",
      "3.3       47\n",
      "3.4        5\n",
      "3.5      199\n",
      "3.6       19\n",
      "3.7      195\n",
      "3.8      111\n",
      "3.9       41\n",
      "4.0     1914\n",
      "4.1      125\n",
      "4.2      342\n",
      "4.3     1018\n",
      "4.4      860\n",
      "4.5     2424\n",
      "4.6     2078\n",
      "4.7     3330\n",
      "4.8     4537\n",
      "4.9     3094\n",
      "5.0    28709\n",
      "Name: avg_rating_by_driver, dtype: int64\n",
      "avg_rating_of_driver_isnull\n",
      "False    41878\n",
      "True      8122\n",
      "Name: avg_rating_of_driver_isnull, dtype: int64\n",
      "phone_isnull\n",
      "False    49604\n",
      "True       396\n",
      "Name: phone_isnull, dtype: int64\n",
      "avg_rating_by_driver_isnull\n",
      "False    49799\n",
      "True       201\n",
      "Name: avg_rating_by_driver_isnull, dtype: int64\n"
     ]
    }
   ],
   "source": [
    "#I suppose it would be a good idea to see some of the values regarding the columns, so I'm going to iterate with value_counts\n",
    "\n",
    "for i in df.columns:\n",
    "    print(i)\n",
    "    print(df[i].value_counts().sort_index())"
   ]
  },
  {
   "cell_type": "markdown",
   "metadata": {},
   "source": [
    "Next we'll be looking for the retained users and grabbing all of the ones that have used the service in the past 30 days (30 days preceding the collection of this data). According the value counts above, we see that the final day before collection was 07-01-2014. So we will go 30 days before this date."
   ]
  },
  {
   "cell_type": "code",
   "execution_count": 12,
   "metadata": {},
   "outputs": [
    {
     "data": {
      "text/plain": [
       "False    31690\n",
       "True     18310\n",
       "Name: last_trip_date, dtype: int64"
      ]
     },
     "execution_count": 12,
     "metadata": {},
     "output_type": "execute_result"
    }
   ],
   "source": [
    "#we could use like a timedelta here, but I think it's easiest if we just gather all of the dates after 06-01-2014\n",
    "retained = df['last_trip_date'] > '2014-06-01'\n",
    "retained.value_counts()"
   ]
  },
  {
   "cell_type": "code",
   "execution_count": 13,
   "metadata": {},
   "outputs": [
    {
     "name": "stdout",
     "output_type": "stream",
     "text": [
      "Retained Percentage: 0.366\n"
     ]
    }
   ],
   "source": [
    "print(\"Retained Percentage: \" + str(round(18310/50000, 3)))"
   ]
  },
  {
   "cell_type": "markdown",
   "metadata": {},
   "source": [
    "Next is to start building the predictive model. Before we do that we have to adjust some of the columns so that they will be understood by the machine learning algorithm."
   ]
  },
  {
   "cell_type": "code",
   "execution_count": 14,
   "metadata": {},
   "outputs": [],
   "source": [
    "#going to create a copy of this edited dataframe.\n",
    "df_backup = df.copy()"
   ]
  },
  {
   "cell_type": "code",
   "execution_count": 15,
   "metadata": {},
   "outputs": [],
   "source": [
    "#after giving it some thought, it would be best to split the date features into more basic components, day, month, year(even though year is only 2014)\n",
    "df['signup_date'] = pd.to_datetime(df['signup_date'])\n",
    "df['last_trip_date'] = pd.to_datetime(df['last_trip_date'])"
   ]
  },
  {
   "cell_type": "code",
   "execution_count": 16,
   "metadata": {},
   "outputs": [],
   "source": [
    "df['signup_year'] = df['signup_date'].dt.year #we can always drop the year later\n",
    "df['signup_month'] = df['signup_date'].dt.month\n",
    "df['signup_day'] = df['signup_date'].dt.day"
   ]
  },
  {
   "cell_type": "code",
   "execution_count": 17,
   "metadata": {},
   "outputs": [],
   "source": [
    "df['last_trip_year'] = df['last_trip_date'].dt.year\n",
    "df['last_trip_month'] = df['last_trip_date'].dt.month\n",
    "df['last_trip_day'] = df['last_trip_date'].dt.day"
   ]
  },
  {
   "cell_type": "code",
   "execution_count": 18,
   "metadata": {},
   "outputs": [
    {
     "data": {
      "text/html": [
       "<div>\n",
       "<style scoped>\n",
       "    .dataframe tbody tr th:only-of-type {\n",
       "        vertical-align: middle;\n",
       "    }\n",
       "\n",
       "    .dataframe tbody tr th {\n",
       "        vertical-align: top;\n",
       "    }\n",
       "\n",
       "    .dataframe thead th {\n",
       "        text-align: right;\n",
       "    }\n",
       "</style>\n",
       "<table border=\"1\" class=\"dataframe\">\n",
       "  <thead>\n",
       "    <tr style=\"text-align: right;\">\n",
       "      <th></th>\n",
       "      <th>city</th>\n",
       "      <th>trips_in_first_30_days</th>\n",
       "      <th>avg_rating_of_driver</th>\n",
       "      <th>avg_surge</th>\n",
       "      <th>phone</th>\n",
       "      <th>surge_pct</th>\n",
       "      <th>ultimate_black_user</th>\n",
       "      <th>weekday_pct</th>\n",
       "      <th>avg_dist</th>\n",
       "      <th>avg_rating_by_driver</th>\n",
       "      <th>avg_rating_of_driver_isnull</th>\n",
       "      <th>phone_isnull</th>\n",
       "      <th>avg_rating_by_driver_isnull</th>\n",
       "      <th>signup_year</th>\n",
       "      <th>signup_month</th>\n",
       "      <th>signup_day</th>\n",
       "      <th>last_trip_year</th>\n",
       "      <th>last_trip_month</th>\n",
       "      <th>last_trip_day</th>\n",
       "    </tr>\n",
       "  </thead>\n",
       "  <tbody>\n",
       "    <tr>\n",
       "      <th>0</th>\n",
       "      <td>King's Landing</td>\n",
       "      <td>4</td>\n",
       "      <td>4.7</td>\n",
       "      <td>1.10</td>\n",
       "      <td>iPhone</td>\n",
       "      <td>15.4</td>\n",
       "      <td>True</td>\n",
       "      <td>46.2</td>\n",
       "      <td>3.67</td>\n",
       "      <td>5.0</td>\n",
       "      <td>False</td>\n",
       "      <td>False</td>\n",
       "      <td>False</td>\n",
       "      <td>2014</td>\n",
       "      <td>1</td>\n",
       "      <td>25</td>\n",
       "      <td>2014</td>\n",
       "      <td>6</td>\n",
       "      <td>17</td>\n",
       "    </tr>\n",
       "    <tr>\n",
       "      <th>1</th>\n",
       "      <td>Astapor</td>\n",
       "      <td>0</td>\n",
       "      <td>5.0</td>\n",
       "      <td>1.00</td>\n",
       "      <td>Android</td>\n",
       "      <td>0.0</td>\n",
       "      <td>False</td>\n",
       "      <td>50.0</td>\n",
       "      <td>8.26</td>\n",
       "      <td>5.0</td>\n",
       "      <td>False</td>\n",
       "      <td>False</td>\n",
       "      <td>False</td>\n",
       "      <td>2014</td>\n",
       "      <td>1</td>\n",
       "      <td>29</td>\n",
       "      <td>2014</td>\n",
       "      <td>5</td>\n",
       "      <td>5</td>\n",
       "    </tr>\n",
       "    <tr>\n",
       "      <th>2</th>\n",
       "      <td>Astapor</td>\n",
       "      <td>3</td>\n",
       "      <td>4.3</td>\n",
       "      <td>1.00</td>\n",
       "      <td>iPhone</td>\n",
       "      <td>0.0</td>\n",
       "      <td>False</td>\n",
       "      <td>100.0</td>\n",
       "      <td>0.77</td>\n",
       "      <td>5.0</td>\n",
       "      <td>False</td>\n",
       "      <td>False</td>\n",
       "      <td>False</td>\n",
       "      <td>2014</td>\n",
       "      <td>1</td>\n",
       "      <td>6</td>\n",
       "      <td>2014</td>\n",
       "      <td>1</td>\n",
       "      <td>7</td>\n",
       "    </tr>\n",
       "    <tr>\n",
       "      <th>3</th>\n",
       "      <td>King's Landing</td>\n",
       "      <td>9</td>\n",
       "      <td>4.6</td>\n",
       "      <td>1.14</td>\n",
       "      <td>iPhone</td>\n",
       "      <td>20.0</td>\n",
       "      <td>True</td>\n",
       "      <td>80.0</td>\n",
       "      <td>2.36</td>\n",
       "      <td>4.9</td>\n",
       "      <td>False</td>\n",
       "      <td>False</td>\n",
       "      <td>False</td>\n",
       "      <td>2014</td>\n",
       "      <td>1</td>\n",
       "      <td>10</td>\n",
       "      <td>2014</td>\n",
       "      <td>6</td>\n",
       "      <td>29</td>\n",
       "    </tr>\n",
       "    <tr>\n",
       "      <th>4</th>\n",
       "      <td>Winterfell</td>\n",
       "      <td>14</td>\n",
       "      <td>4.4</td>\n",
       "      <td>1.19</td>\n",
       "      <td>Android</td>\n",
       "      <td>11.8</td>\n",
       "      <td>False</td>\n",
       "      <td>82.4</td>\n",
       "      <td>3.13</td>\n",
       "      <td>4.9</td>\n",
       "      <td>False</td>\n",
       "      <td>False</td>\n",
       "      <td>False</td>\n",
       "      <td>2014</td>\n",
       "      <td>1</td>\n",
       "      <td>27</td>\n",
       "      <td>2014</td>\n",
       "      <td>3</td>\n",
       "      <td>15</td>\n",
       "    </tr>\n",
       "  </tbody>\n",
       "</table>\n",
       "</div>"
      ],
      "text/plain": [
       "             city  trips_in_first_30_days  avg_rating_of_driver  avg_surge  \\\n",
       "0  King's Landing                       4                   4.7       1.10   \n",
       "1         Astapor                       0                   5.0       1.00   \n",
       "2         Astapor                       3                   4.3       1.00   \n",
       "3  King's Landing                       9                   4.6       1.14   \n",
       "4      Winterfell                      14                   4.4       1.19   \n",
       "\n",
       "     phone  surge_pct  ultimate_black_user  weekday_pct  avg_dist  \\\n",
       "0   iPhone       15.4                 True         46.2      3.67   \n",
       "1  Android        0.0                False         50.0      8.26   \n",
       "2   iPhone        0.0                False        100.0      0.77   \n",
       "3   iPhone       20.0                 True         80.0      2.36   \n",
       "4  Android       11.8                False         82.4      3.13   \n",
       "\n",
       "   avg_rating_by_driver  avg_rating_of_driver_isnull  phone_isnull  \\\n",
       "0                   5.0                        False         False   \n",
       "1                   5.0                        False         False   \n",
       "2                   5.0                        False         False   \n",
       "3                   4.9                        False         False   \n",
       "4                   4.9                        False         False   \n",
       "\n",
       "   avg_rating_by_driver_isnull  signup_year  signup_month  signup_day  \\\n",
       "0                        False         2014             1          25   \n",
       "1                        False         2014             1          29   \n",
       "2                        False         2014             1           6   \n",
       "3                        False         2014             1          10   \n",
       "4                        False         2014             1          27   \n",
       "\n",
       "   last_trip_year  last_trip_month  last_trip_day  \n",
       "0            2014                6             17  \n",
       "1            2014                5              5  \n",
       "2            2014                1              7  \n",
       "3            2014                6             29  \n",
       "4            2014                3             15  "
      ]
     },
     "execution_count": 18,
     "metadata": {},
     "output_type": "execute_result"
    }
   ],
   "source": [
    "#now the the date features are split, we can drop the originals\n",
    "df.drop(columns = ['last_trip_date', 'signup_date'], inplace = True)\n",
    "df.head()"
   ]
  },
  {
   "cell_type": "code",
   "execution_count": 19,
   "metadata": {},
   "outputs": [],
   "source": [
    "#now it's time for preprocessing and standardization (yay), let's make another copy of the dataframe for safekeeping\n",
    "df_simplified = df.copy()"
   ]
  },
  {
   "cell_type": "code",
   "execution_count": 20,
   "metadata": {},
   "outputs": [
    {
     "data": {
      "text/html": [
       "<div>\n",
       "<style scoped>\n",
       "    .dataframe tbody tr th:only-of-type {\n",
       "        vertical-align: middle;\n",
       "    }\n",
       "\n",
       "    .dataframe tbody tr th {\n",
       "        vertical-align: top;\n",
       "    }\n",
       "\n",
       "    .dataframe thead th {\n",
       "        text-align: right;\n",
       "    }\n",
       "</style>\n",
       "<table border=\"1\" class=\"dataframe\">\n",
       "  <thead>\n",
       "    <tr style=\"text-align: right;\">\n",
       "      <th></th>\n",
       "      <th>trips_in_first_30_days</th>\n",
       "      <th>avg_rating_of_driver</th>\n",
       "      <th>avg_surge</th>\n",
       "      <th>surge_pct</th>\n",
       "      <th>ultimate_black_user</th>\n",
       "      <th>weekday_pct</th>\n",
       "      <th>avg_dist</th>\n",
       "      <th>avg_rating_by_driver</th>\n",
       "      <th>avg_rating_of_driver_isnull</th>\n",
       "      <th>phone_isnull</th>\n",
       "      <th>...</th>\n",
       "      <th>signup_day</th>\n",
       "      <th>last_trip_year</th>\n",
       "      <th>last_trip_month</th>\n",
       "      <th>last_trip_day</th>\n",
       "      <th>city_Astapor</th>\n",
       "      <th>city_King's Landing</th>\n",
       "      <th>city_Winterfell</th>\n",
       "      <th>phone_Android</th>\n",
       "      <th>phone_iPhone</th>\n",
       "      <th>phone_unknown</th>\n",
       "    </tr>\n",
       "  </thead>\n",
       "  <tbody>\n",
       "    <tr>\n",
       "      <th>0</th>\n",
       "      <td>4</td>\n",
       "      <td>4.7</td>\n",
       "      <td>1.10</td>\n",
       "      <td>15.4</td>\n",
       "      <td>True</td>\n",
       "      <td>46.2</td>\n",
       "      <td>3.67</td>\n",
       "      <td>5.0</td>\n",
       "      <td>False</td>\n",
       "      <td>False</td>\n",
       "      <td>...</td>\n",
       "      <td>25</td>\n",
       "      <td>2014</td>\n",
       "      <td>6</td>\n",
       "      <td>17</td>\n",
       "      <td>0</td>\n",
       "      <td>1</td>\n",
       "      <td>0</td>\n",
       "      <td>0</td>\n",
       "      <td>1</td>\n",
       "      <td>0</td>\n",
       "    </tr>\n",
       "    <tr>\n",
       "      <th>1</th>\n",
       "      <td>0</td>\n",
       "      <td>5.0</td>\n",
       "      <td>1.00</td>\n",
       "      <td>0.0</td>\n",
       "      <td>False</td>\n",
       "      <td>50.0</td>\n",
       "      <td>8.26</td>\n",
       "      <td>5.0</td>\n",
       "      <td>False</td>\n",
       "      <td>False</td>\n",
       "      <td>...</td>\n",
       "      <td>29</td>\n",
       "      <td>2014</td>\n",
       "      <td>5</td>\n",
       "      <td>5</td>\n",
       "      <td>1</td>\n",
       "      <td>0</td>\n",
       "      <td>0</td>\n",
       "      <td>1</td>\n",
       "      <td>0</td>\n",
       "      <td>0</td>\n",
       "    </tr>\n",
       "    <tr>\n",
       "      <th>2</th>\n",
       "      <td>3</td>\n",
       "      <td>4.3</td>\n",
       "      <td>1.00</td>\n",
       "      <td>0.0</td>\n",
       "      <td>False</td>\n",
       "      <td>100.0</td>\n",
       "      <td>0.77</td>\n",
       "      <td>5.0</td>\n",
       "      <td>False</td>\n",
       "      <td>False</td>\n",
       "      <td>...</td>\n",
       "      <td>6</td>\n",
       "      <td>2014</td>\n",
       "      <td>1</td>\n",
       "      <td>7</td>\n",
       "      <td>1</td>\n",
       "      <td>0</td>\n",
       "      <td>0</td>\n",
       "      <td>0</td>\n",
       "      <td>1</td>\n",
       "      <td>0</td>\n",
       "    </tr>\n",
       "    <tr>\n",
       "      <th>3</th>\n",
       "      <td>9</td>\n",
       "      <td>4.6</td>\n",
       "      <td>1.14</td>\n",
       "      <td>20.0</td>\n",
       "      <td>True</td>\n",
       "      <td>80.0</td>\n",
       "      <td>2.36</td>\n",
       "      <td>4.9</td>\n",
       "      <td>False</td>\n",
       "      <td>False</td>\n",
       "      <td>...</td>\n",
       "      <td>10</td>\n",
       "      <td>2014</td>\n",
       "      <td>6</td>\n",
       "      <td>29</td>\n",
       "      <td>0</td>\n",
       "      <td>1</td>\n",
       "      <td>0</td>\n",
       "      <td>0</td>\n",
       "      <td>1</td>\n",
       "      <td>0</td>\n",
       "    </tr>\n",
       "    <tr>\n",
       "      <th>4</th>\n",
       "      <td>14</td>\n",
       "      <td>4.4</td>\n",
       "      <td>1.19</td>\n",
       "      <td>11.8</td>\n",
       "      <td>False</td>\n",
       "      <td>82.4</td>\n",
       "      <td>3.13</td>\n",
       "      <td>4.9</td>\n",
       "      <td>False</td>\n",
       "      <td>False</td>\n",
       "      <td>...</td>\n",
       "      <td>27</td>\n",
       "      <td>2014</td>\n",
       "      <td>3</td>\n",
       "      <td>15</td>\n",
       "      <td>0</td>\n",
       "      <td>0</td>\n",
       "      <td>1</td>\n",
       "      <td>1</td>\n",
       "      <td>0</td>\n",
       "      <td>0</td>\n",
       "    </tr>\n",
       "  </tbody>\n",
       "</table>\n",
       "<p>5 rows × 23 columns</p>\n",
       "</div>"
      ],
      "text/plain": [
       "   trips_in_first_30_days  avg_rating_of_driver  avg_surge  surge_pct  \\\n",
       "0                       4                   4.7       1.10       15.4   \n",
       "1                       0                   5.0       1.00        0.0   \n",
       "2                       3                   4.3       1.00        0.0   \n",
       "3                       9                   4.6       1.14       20.0   \n",
       "4                      14                   4.4       1.19       11.8   \n",
       "\n",
       "   ultimate_black_user  weekday_pct  avg_dist  avg_rating_by_driver  \\\n",
       "0                 True         46.2      3.67                   5.0   \n",
       "1                False         50.0      8.26                   5.0   \n",
       "2                False        100.0      0.77                   5.0   \n",
       "3                 True         80.0      2.36                   4.9   \n",
       "4                False         82.4      3.13                   4.9   \n",
       "\n",
       "   avg_rating_of_driver_isnull  phone_isnull  ...  signup_day  last_trip_year  \\\n",
       "0                        False         False  ...          25            2014   \n",
       "1                        False         False  ...          29            2014   \n",
       "2                        False         False  ...           6            2014   \n",
       "3                        False         False  ...          10            2014   \n",
       "4                        False         False  ...          27            2014   \n",
       "\n",
       "   last_trip_month  last_trip_day  city_Astapor  city_King's Landing  \\\n",
       "0                6             17             0                    1   \n",
       "1                5              5             1                    0   \n",
       "2                1              7             1                    0   \n",
       "3                6             29             0                    1   \n",
       "4                3             15             0                    0   \n",
       "\n",
       "   city_Winterfell  phone_Android  phone_iPhone  phone_unknown  \n",
       "0                0              0             1              0  \n",
       "1                0              1             0              0  \n",
       "2                0              0             1              0  \n",
       "3                0              0             1              0  \n",
       "4                1              1             0              0  \n",
       "\n",
       "[5 rows x 23 columns]"
      ]
     },
     "execution_count": 20,
     "metadata": {},
     "output_type": "execute_result"
    }
   ],
   "source": [
    "#let's begin with the categorical data, city and phone\n",
    "#May need to do the 'isnulls' and ultimate black. But they may be better as 0's and 1's\n",
    "df = pd.get_dummies(df, columns = ['city', 'phone'])\n",
    "df.head()"
   ]
  },
  {
   "cell_type": "markdown",
   "metadata": {},
   "source": [
    "Before I go messing with the data too much, now may be a good time to create some visualizations of the features. This is a little bit easier to look at for insight."
   ]
  },
  {
   "cell_type": "code",
   "execution_count": 21,
   "metadata": {},
   "outputs": [
    {
     "name": "stderr",
     "output_type": "stream",
     "text": [
      "C:\\Users\\elyse\\anaconda3\\lib\\site-packages\\pandas\\core\\indexing.py:670: SettingWithCopyWarning: \n",
      "A value is trying to be set on a copy of a slice from a DataFrame\n",
      "\n",
      "See the caveats in the documentation: https://pandas.pydata.org/pandas-docs/stable/user_guide/indexing.html#returning-a-view-versus-a-copy\n",
      "  self._setitem_with_indexer(indexer, value)\n"
     ]
    }
   ],
   "source": [
    "#target encoding ultimate black user\n",
    "df['ultimate_black_user'].loc[df['ultimate_black_user'] == True] = 1\n",
    "df['ultimate_black_user'].loc[df['ultimate_black_user'] == False] = 0"
   ]
  },
  {
   "cell_type": "code",
   "execution_count": 22,
   "metadata": {},
   "outputs": [
    {
     "data": {
      "text/html": [
       "<div>\n",
       "<style scoped>\n",
       "    .dataframe tbody tr th:only-of-type {\n",
       "        vertical-align: middle;\n",
       "    }\n",
       "\n",
       "    .dataframe tbody tr th {\n",
       "        vertical-align: top;\n",
       "    }\n",
       "\n",
       "    .dataframe thead th {\n",
       "        text-align: right;\n",
       "    }\n",
       "</style>\n",
       "<table border=\"1\" class=\"dataframe\">\n",
       "  <thead>\n",
       "    <tr style=\"text-align: right;\">\n",
       "      <th></th>\n",
       "      <th>trips_in_first_30_days</th>\n",
       "      <th>avg_rating_of_driver</th>\n",
       "      <th>avg_surge</th>\n",
       "      <th>surge_pct</th>\n",
       "      <th>ultimate_black_user</th>\n",
       "      <th>weekday_pct</th>\n",
       "      <th>avg_dist</th>\n",
       "      <th>avg_rating_by_driver</th>\n",
       "      <th>avg_rating_of_driver_isnull</th>\n",
       "      <th>phone_isnull</th>\n",
       "      <th>...</th>\n",
       "      <th>last_trip_year</th>\n",
       "      <th>last_trip_month</th>\n",
       "      <th>last_trip_day</th>\n",
       "      <th>city_Astapor</th>\n",
       "      <th>city_King's Landing</th>\n",
       "      <th>city_Winterfell</th>\n",
       "      <th>phone_Android</th>\n",
       "      <th>phone_iPhone</th>\n",
       "      <th>phone_unknown</th>\n",
       "      <th>retained</th>\n",
       "    </tr>\n",
       "  </thead>\n",
       "  <tbody>\n",
       "    <tr>\n",
       "      <th>0</th>\n",
       "      <td>4</td>\n",
       "      <td>4.7</td>\n",
       "      <td>1.10</td>\n",
       "      <td>15.4</td>\n",
       "      <td>1</td>\n",
       "      <td>46.2</td>\n",
       "      <td>3.67</td>\n",
       "      <td>5.0</td>\n",
       "      <td>False</td>\n",
       "      <td>False</td>\n",
       "      <td>...</td>\n",
       "      <td>2014</td>\n",
       "      <td>6</td>\n",
       "      <td>17</td>\n",
       "      <td>0</td>\n",
       "      <td>1</td>\n",
       "      <td>0</td>\n",
       "      <td>0</td>\n",
       "      <td>1</td>\n",
       "      <td>0</td>\n",
       "      <td>True</td>\n",
       "    </tr>\n",
       "    <tr>\n",
       "      <th>1</th>\n",
       "      <td>0</td>\n",
       "      <td>5.0</td>\n",
       "      <td>1.00</td>\n",
       "      <td>0.0</td>\n",
       "      <td>0</td>\n",
       "      <td>50.0</td>\n",
       "      <td>8.26</td>\n",
       "      <td>5.0</td>\n",
       "      <td>False</td>\n",
       "      <td>False</td>\n",
       "      <td>...</td>\n",
       "      <td>2014</td>\n",
       "      <td>5</td>\n",
       "      <td>5</td>\n",
       "      <td>1</td>\n",
       "      <td>0</td>\n",
       "      <td>0</td>\n",
       "      <td>1</td>\n",
       "      <td>0</td>\n",
       "      <td>0</td>\n",
       "      <td>False</td>\n",
       "    </tr>\n",
       "    <tr>\n",
       "      <th>2</th>\n",
       "      <td>3</td>\n",
       "      <td>4.3</td>\n",
       "      <td>1.00</td>\n",
       "      <td>0.0</td>\n",
       "      <td>0</td>\n",
       "      <td>100.0</td>\n",
       "      <td>0.77</td>\n",
       "      <td>5.0</td>\n",
       "      <td>False</td>\n",
       "      <td>False</td>\n",
       "      <td>...</td>\n",
       "      <td>2014</td>\n",
       "      <td>1</td>\n",
       "      <td>7</td>\n",
       "      <td>1</td>\n",
       "      <td>0</td>\n",
       "      <td>0</td>\n",
       "      <td>0</td>\n",
       "      <td>1</td>\n",
       "      <td>0</td>\n",
       "      <td>False</td>\n",
       "    </tr>\n",
       "    <tr>\n",
       "      <th>3</th>\n",
       "      <td>9</td>\n",
       "      <td>4.6</td>\n",
       "      <td>1.14</td>\n",
       "      <td>20.0</td>\n",
       "      <td>1</td>\n",
       "      <td>80.0</td>\n",
       "      <td>2.36</td>\n",
       "      <td>4.9</td>\n",
       "      <td>False</td>\n",
       "      <td>False</td>\n",
       "      <td>...</td>\n",
       "      <td>2014</td>\n",
       "      <td>6</td>\n",
       "      <td>29</td>\n",
       "      <td>0</td>\n",
       "      <td>1</td>\n",
       "      <td>0</td>\n",
       "      <td>0</td>\n",
       "      <td>1</td>\n",
       "      <td>0</td>\n",
       "      <td>True</td>\n",
       "    </tr>\n",
       "    <tr>\n",
       "      <th>4</th>\n",
       "      <td>14</td>\n",
       "      <td>4.4</td>\n",
       "      <td>1.19</td>\n",
       "      <td>11.8</td>\n",
       "      <td>0</td>\n",
       "      <td>82.4</td>\n",
       "      <td>3.13</td>\n",
       "      <td>4.9</td>\n",
       "      <td>False</td>\n",
       "      <td>False</td>\n",
       "      <td>...</td>\n",
       "      <td>2014</td>\n",
       "      <td>3</td>\n",
       "      <td>15</td>\n",
       "      <td>0</td>\n",
       "      <td>0</td>\n",
       "      <td>1</td>\n",
       "      <td>1</td>\n",
       "      <td>0</td>\n",
       "      <td>0</td>\n",
       "      <td>False</td>\n",
       "    </tr>\n",
       "  </tbody>\n",
       "</table>\n",
       "<p>5 rows × 24 columns</p>\n",
       "</div>"
      ],
      "text/plain": [
       "   trips_in_first_30_days  avg_rating_of_driver  avg_surge  surge_pct  \\\n",
       "0                       4                   4.7       1.10       15.4   \n",
       "1                       0                   5.0       1.00        0.0   \n",
       "2                       3                   4.3       1.00        0.0   \n",
       "3                       9                   4.6       1.14       20.0   \n",
       "4                      14                   4.4       1.19       11.8   \n",
       "\n",
       "  ultimate_black_user  weekday_pct  avg_dist  avg_rating_by_driver  \\\n",
       "0                   1         46.2      3.67                   5.0   \n",
       "1                   0         50.0      8.26                   5.0   \n",
       "2                   0        100.0      0.77                   5.0   \n",
       "3                   1         80.0      2.36                   4.9   \n",
       "4                   0         82.4      3.13                   4.9   \n",
       "\n",
       "   avg_rating_of_driver_isnull  phone_isnull  ...  last_trip_year  \\\n",
       "0                        False         False  ...            2014   \n",
       "1                        False         False  ...            2014   \n",
       "2                        False         False  ...            2014   \n",
       "3                        False         False  ...            2014   \n",
       "4                        False         False  ...            2014   \n",
       "\n",
       "   last_trip_month  last_trip_day  city_Astapor  city_King's Landing  \\\n",
       "0                6             17             0                    1   \n",
       "1                5              5             1                    0   \n",
       "2                1              7             1                    0   \n",
       "3                6             29             0                    1   \n",
       "4                3             15             0                    0   \n",
       "\n",
       "   city_Winterfell  phone_Android  phone_iPhone  phone_unknown  retained  \n",
       "0                0              0             1              0      True  \n",
       "1                0              1             0              0     False  \n",
       "2                0              0             1              0     False  \n",
       "3                0              0             1              0      True  \n",
       "4                1              1             0              0     False  \n",
       "\n",
       "[5 rows x 24 columns]"
      ]
     },
     "execution_count": 22,
     "metadata": {},
     "output_type": "execute_result"
    }
   ],
   "source": [
    "#Before I forget, let's add the 'retained' column\n",
    "df['retained'] = retained\n",
    "#and also create two copies of the dataframe, one of retained, one of not\n",
    "df_r = df.loc[df['retained'] == True]\n",
    "df_l = df.loc[df['retained'] == False]\n",
    "df.head()"
   ]
  },
  {
   "cell_type": "code",
   "execution_count": 23,
   "metadata": {},
   "outputs": [
    {
     "data": {
      "image/png": "[encoded data removed]",
      "text/plain": [
       "<Figure size 432x288 with 1 Axes>"
      ]
     },
     "metadata": {
      "needs_background": "light"
     },
     "output_type": "display_data"
    }
   ],
   "source": [
    "#Trips in 1st 30 day - total\n",
    "df['trips_in_first_30_days'].hist(bins = 50, grid=True, xlabelsize=12, ylabelsize=12)\n",
    "plt.title(\"All\")\n",
    "plt.xlabel(\"Trips taken in first 30 days\", fontsize=12)\n",
    "plt.ylabel(\"User Count\", fontsize=12)\n",
    "plt.show()"
   ]
  },
  {
   "cell_type": "code",
   "execution_count": 24,
   "metadata": {},
   "outputs": [
    {
     "data": {
      "image/png": "[encoded data removed]",
      "text/plain": [
       "<Figure size 432x288 with 1 Axes>"
      ]
     },
     "metadata": {
      "needs_background": "light"
     },
     "output_type": "display_data"
    }
   ],
   "source": [
    "df_r['trips_in_first_30_days'].hist(bins = 50, grid=True, xlabelsize=12, ylabelsize=12)\n",
    "plt.title(\"Retained\")\n",
    "plt.xlabel(\"Trips taken in first 30 days\", fontsize=12)\n",
    "plt.ylabel(\"User Count\", fontsize=12)\n",
    "plt.show()"
   ]
  },
  {
   "cell_type": "code",
   "execution_count": 25,
   "metadata": {},
   "outputs": [
    {
     "data": {
      "image/png": "[encoded data removed]",
      "text/plain": [
       "<Figure size 432x288 with 1 Axes>"
      ]
     },
     "metadata": {
      "needs_background": "light"
     },
     "output_type": "display_data"
    }
   ],
   "source": [
    "df_l['trips_in_first_30_days'].hist(bins = 50, grid=True, xlabelsize=12, ylabelsize=12)\n",
    "plt.title(\"Not Retained\")\n",
    "plt.xlabel(\"Trips taken in first 30 days\", fontsize=12)\n",
    "plt.ylabel(\"User Count\", fontsize=12)\n",
    "plt.show()"
   ]
  },
  {
   "cell_type": "markdown",
   "metadata": {},
   "source": [
    "Seems like a lot of users only have less than 5 trips taken or 0. But there is a slight correlation to retained users having a few more trips taken, as we can see with the small bar at the 20 + mark in the \"retained\" section. Moving forward I am going to skip the \"All\" graph, I don't see this using our space correctly."
   ]
  },
  {
   "cell_type": "code",
   "execution_count": 26,
   "metadata": {},
   "outputs": [
    {
     "data": {
      "image/png": "[encoded data removed]",
      "text/plain": [
       "<Figure size 432x288 with 1 Axes>"
      ]
     },
     "metadata": {
      "needs_background": "light"
     },
     "output_type": "display_data"
    }
   ],
   "source": [
    "#Avg rating of driver\n",
    "df_r['avg_rating_of_driver'].hist(bins=50, grid=True, xlabelsize=12, ylabelsize=12)\n",
    "plt.title('Retained')\n",
    "plt.xlabel(\"Avg rating of Driver\", fontsize=12)\n",
    "plt.ylabel(\"User Count\", fontsize=12)\n",
    "plt.show()"
   ]
  },
  {
   "cell_type": "code",
   "execution_count": 27,
   "metadata": {},
   "outputs": [
    {
     "data": {
      "image/png": "[encoded data removed]",
      "text/plain": [
       "<Figure size 432x288 with 1 Axes>"
      ]
     },
     "metadata": {
      "needs_background": "light"
     },
     "output_type": "display_data"
    }
   ],
   "source": [
    "df_l['avg_rating_of_driver'].hist(bins=50, grid=True, xlabelsize=12, ylabelsize=12)\n",
    "plt.title('Not Retained')\n",
    "plt.xlabel(\"Avg rating of Driver\", fontsize=12)\n",
    "plt.ylabel(\"User Count\", fontsize=12)\n",
    "plt.show()"
   ]
  },
  {
   "cell_type": "markdown",
   "metadata": {},
   "source": [
    "Nothing remarkable to see here, not from what I can gather"
   ]
  },
  {
   "cell_type": "code",
   "execution_count": 28,
   "metadata": {},
   "outputs": [
    {
     "data": {
      "image/png": "[encoded data removed]",
      "text/plain": [
       "<Figure size 432x288 with 1 Axes>"
      ]
     },
     "metadata": {
      "needs_background": "light"
     },
     "output_type": "display_data"
    }
   ],
   "source": [
    "df_r['avg_surge'].hist(bins=50, grid=True, xlabelsize=12, ylabelsize=12)\n",
    "plt.title(\"Retained\")\n",
    "plt.xlabel(\"Average Surge Multiplier\", fontsize=12)\n",
    "plt.ylabel(\"User Count\", fontsize=12)\n",
    "plt.show()"
   ]
  },
  {
   "cell_type": "code",
   "execution_count": 29,
   "metadata": {},
   "outputs": [
    {
     "data": {
      "image/png": "[encoded data removed]",
      "text/plain": [
       "<Figure size 432x288 with 1 Axes>"
      ]
     },
     "metadata": {
      "needs_background": "light"
     },
     "output_type": "display_data"
    }
   ],
   "source": [
    "df_l['avg_surge'].hist(bins=50, grid=True, xlabelsize=12, ylabelsize=12)\n",
    "plt.title(\"Not Retained\")\n",
    "plt.xlabel(\"Average Surge Multiplier\", fontsize=12)\n",
    "plt.ylabel(\"User Count\", fontsize=12)\n",
    "plt.show()"
   ]
  },
  {
   "cell_type": "markdown",
   "metadata": {},
   "source": [
    "It seems like users that are retained have made better use of the surge mechanic of the application"
   ]
  },
  {
   "cell_type": "code",
   "execution_count": 30,
   "metadata": {
    "scrolled": true
   },
   "outputs": [
    {
     "data": {
      "image/png": "[encoded data removed]",
      "text/plain": [
       "<Figure size 432x288 with 1 Axes>"
      ]
     },
     "metadata": {
      "needs_background": "light"
     },
     "output_type": "display_data"
    }
   ],
   "source": [
    "df_r['surge_pct'].hist(bins=50, grid=True, xlabelsize=12, ylabelsize=12)\n",
    "plt.title(\"Retained\")\n",
    "plt.xlabel(\"Surge Percentage over 1\", fontsize=12)\n",
    "plt.ylabel(\"User Count\", fontsize=12)\n",
    "plt.show()"
   ]
  },
  {
   "cell_type": "code",
   "execution_count": 31,
   "metadata": {},
   "outputs": [
    {
     "data": {
      "image/png": "[encoded data removed]",
      "text/plain": [
       "<Figure size 432x288 with 1 Axes>"
      ]
     },
     "metadata": {
      "needs_background": "light"
     },
     "output_type": "display_data"
    }
   ],
   "source": [
    "df_l['surge_pct'].hist(bins=50, grid=True, xlabelsize=12, ylabelsize=12)\n",
    "plt.title(\"Not Retained\")\n",
    "plt.xlabel(\"Surge Percentage over 1\", fontsize=12)\n",
    "plt.ylabel(\"User Count\", fontsize=12)\n",
    "plt.show()"
   ]
  },
  {
   "cell_type": "markdown",
   "metadata": {},
   "source": [
    "Reinforces our previous finding, the retained users seem to have more frequent use of the surge mechanic"
   ]
  },
  {
   "cell_type": "code",
   "execution_count": 32,
   "metadata": {},
   "outputs": [
    {
     "data": {
      "image/png": "[encoded data removed]",
      "text/plain": [
       "<Figure size 432x288 with 1 Axes>"
      ]
     },
     "metadata": {
      "needs_background": "light"
     },
     "output_type": "display_data"
    }
   ],
   "source": [
    "#let's try using a different type of hist for this binary ultimate_black viz\n",
    "#tried using the df as is, but as I figured earlier, i'll have to 0-1 this\n",
    "#went ahead and added it before the split into retained and not retained, then returned to this cell\n",
    "df_r['ultimate_black_user'].hist(bins=4, grid=False, xlabelsize=12, ylabelsize=12)\n",
    "plt.title(\"Retained\")\n",
    "plt.xticks([0,1])\n",
    "plt.xlabel(\"Took an Ultimate Black Ride in first 30 days\", fontsize=12)\n",
    "plt.ylabel(\"User Count\", fontsize=12)\n",
    "plt.show()"
   ]
  },
  {
   "cell_type": "code",
   "execution_count": 33,
   "metadata": {},
   "outputs": [
    {
     "data": {
      "image/png": "[encoded data removed]",
      "text/plain": [
       "<Figure size 432x288 with 1 Axes>"
      ]
     },
     "metadata": {
      "needs_background": "light"
     },
     "output_type": "display_data"
    }
   ],
   "source": [
    "df_l['ultimate_black_user'].hist(bins=4, grid=False, xlabelsize=12, ylabelsize=12)\n",
    "plt.title(\"Not Retained\")\n",
    "plt.xticks([0,1])\n",
    "plt.xlabel(\"Took an Ultimate Black Ride in first 30 days\", fontsize=12)\n",
    "plt.ylabel(\"User Count\", fontsize=12)\n",
    "plt.show()"
   ]
  },
  {
   "cell_type": "markdown",
   "metadata": {},
   "source": [
    "Okay! So this in combination with the 'surge' feature, seems like the users that get retained have been more perceptive to the features of the app."
   ]
  },
  {
   "cell_type": "code",
   "execution_count": 34,
   "metadata": {},
   "outputs": [
    {
     "data": {
      "image/png": "[encoded data removed]",
      "text/plain": [
       "<Figure size 432x288 with 1 Axes>"
      ]
     },
     "metadata": {
      "needs_background": "light"
     },
     "output_type": "display_data"
    }
   ],
   "source": [
    "df_r['weekday_pct'].hist(bins=50, grid=True, xlabelsize=12, ylabelsize=12)\n",
    "plt.title(\"Retained\")\n",
    "plt.xlabel(\"Pct of Trips during Weekdays\", fontsize=12)\n",
    "plt.ylabel(\"User Count\", fontsize=12)\n",
    "plt.show()"
   ]
  },
  {
   "cell_type": "code",
   "execution_count": 35,
   "metadata": {},
   "outputs": [
    {
     "data": {
      "image/png": "[encoded data removed]",
      "text/plain": [
       "<Figure size 432x288 with 1 Axes>"
      ]
     },
     "metadata": {
      "needs_background": "light"
     },
     "output_type": "display_data"
    }
   ],
   "source": [
    "df_l['weekday_pct'].hist(bins=50, grid=True, xlabelsize=12, ylabelsize=12)\n",
    "plt.title(\"Not Retained\")\n",
    "plt.xlabel(\"Pct of Trips during Weekdays\", fontsize=12)\n",
    "plt.ylabel(\"User Count\", fontsize=12)\n",
    "plt.show()"
   ]
  },
  {
   "cell_type": "markdown",
   "metadata": {},
   "source": [
    "It's interesting to see that the spikes from both groups are at the same or similar areas. But this is a bit inconclusive."
   ]
  },
  {
   "cell_type": "code",
   "execution_count": 36,
   "metadata": {},
   "outputs": [
    {
     "data": {
      "text/plain": [
       "Index(['trips_in_first_30_days', 'avg_rating_of_driver', 'avg_surge',\n",
       "       'surge_pct', 'ultimate_black_user', 'weekday_pct', 'avg_dist',\n",
       "       'avg_rating_by_driver', 'avg_rating_of_driver_isnull', 'phone_isnull',\n",
       "       'avg_rating_by_driver_isnull', 'signup_year', 'signup_month',\n",
       "       'signup_day', 'last_trip_year', 'last_trip_month', 'last_trip_day',\n",
       "       'city_Astapor', 'city_King's Landing', 'city_Winterfell',\n",
       "       'phone_Android', 'phone_iPhone', 'phone_unknown', 'retained'],\n",
       "      dtype='object')"
      ]
     },
     "execution_count": 36,
     "metadata": {},
     "output_type": "execute_result"
    }
   ],
   "source": [
    "df.columns #just a reference for me and what is next"
   ]
  },
  {
   "cell_type": "code",
   "execution_count": 37,
   "metadata": {},
   "outputs": [
    {
     "data": {
      "image/png": "[encoded data removed]",
      "text/plain": [
       "<Figure size 432x288 with 1 Axes>"
      ]
     },
     "metadata": {
      "needs_background": "light"
     },
     "output_type": "display_data"
    }
   ],
   "source": [
    "df_r['avg_dist'].hist(bins=50, grid=True, xlabelsize=12, ylabelsize=12)\n",
    "plt.title(\"Retained\")\n",
    "plt.xlabel(\"Avg Distance of Trips\", fontsize=12)\n",
    "plt.ylabel(\"User Count\", fontsize=12)\n",
    "plt.show()"
   ]
  },
  {
   "cell_type": "code",
   "execution_count": 38,
   "metadata": {},
   "outputs": [
    {
     "data": {
      "image/png": "[encoded data removed]",
      "text/plain": [
       "<Figure size 432x288 with 1 Axes>"
      ]
     },
     "metadata": {
      "needs_background": "light"
     },
     "output_type": "display_data"
    }
   ],
   "source": [
    "df_l['avg_dist'].hist(bins=50, grid=True, xlabelsize=12, ylabelsize=12)\n",
    "plt.title(\"Not Retained\")\n",
    "plt.xlabel(\"Avg Distance of Trips\", fontsize=12)\n",
    "plt.ylabel(\"User Count\", fontsize=12)\n",
    "plt.show()"
   ]
  },
  {
   "cell_type": "markdown",
   "metadata": {},
   "source": [
    "Similar trends, nothing to see here."
   ]
  },
  {
   "cell_type": "code",
   "execution_count": 39,
   "metadata": {},
   "outputs": [
    {
     "data": {
      "image/png": "[encoded data removed]",
      "text/plain": [
       "<Figure size 432x288 with 1 Axes>"
      ]
     },
     "metadata": {
      "needs_background": "light"
     },
     "output_type": "display_data"
    }
   ],
   "source": [
    "df_r['avg_rating_by_driver'].hist(bins=50, grid=True, xlabelsize=12, ylabelsize=12)\n",
    "plt.title(\"Retained\")\n",
    "plt.xlabel(\"Avg Rating By Driver\", fontsize=12)\n",
    "plt.ylabel(\"User Count\", fontsize=12)\n",
    "plt.show()"
   ]
  },
  {
   "cell_type": "code",
   "execution_count": 40,
   "metadata": {},
   "outputs": [
    {
     "data": {
      "image/png": "[encoded data removed]",
      "text/plain": [
       "<Figure size 432x288 with 1 Axes>"
      ]
     },
     "metadata": {
      "needs_background": "light"
     },
     "output_type": "display_data"
    }
   ],
   "source": [
    "df_l['avg_rating_by_driver'].hist(bins=50, grid=True, xlabelsize=12, ylabelsize=12)\n",
    "plt.title(\"Not Retained\")\n",
    "plt.xlabel(\"Avg Rating By Driver\", fontsize=12)\n",
    "plt.ylabel(\"User Count\", fontsize=12)\n",
    "plt.show()"
   ]
  },
  {
   "cell_type": "code",
   "execution_count": 41,
   "metadata": {},
   "outputs": [
    {
     "data": {
      "text/plain": [
       "Winterfell        7981\n",
       "King's Landing    6307\n",
       "Astapor           4022\n",
       "Name: city, dtype: int64"
      ]
     },
     "execution_count": 41,
     "metadata": {},
     "output_type": "execute_result"
    }
   ],
   "source": [
    "#going to look at the cities, by numbers only\n",
    "df_simplified['retained'] = retained\n",
    "df_simplified['city'].loc[df['retained'] == True].value_counts()\n"
   ]
  },
  {
   "cell_type": "code",
   "execution_count": 42,
   "metadata": {},
   "outputs": [
    {
     "data": {
      "text/plain": [
       "Winterfell        15355\n",
       "Astapor           12512\n",
       "King's Landing     3823\n",
       "Name: city, dtype: int64"
      ]
     },
     "execution_count": 42,
     "metadata": {},
     "output_type": "execute_result"
    }
   ],
   "source": [
    "df_simplified['city'].loc[df['retained'] == False].value_counts()"
   ]
  },
  {
   "cell_type": "markdown",
   "metadata": {},
   "source": [
    "I would like to see this side by side"
   ]
  },
  {
   "cell_type": "code",
   "execution_count": 55,
   "metadata": {},
   "outputs": [
    {
     "data": {
      "text/html": [
       "<div>\n",
       "<style scoped>\n",
       "    .dataframe tbody tr th:only-of-type {\n",
       "        vertical-align: middle;\n",
       "    }\n",
       "\n",
       "    .dataframe tbody tr th {\n",
       "        vertical-align: top;\n",
       "    }\n",
       "\n",
       "    .dataframe thead th {\n",
       "        text-align: right;\n",
       "    }\n",
       "</style>\n",
       "<table border=\"1\" class=\"dataframe\">\n",
       "  <thead>\n",
       "    <tr style=\"text-align: right;\">\n",
       "      <th></th>\n",
       "      <th>users</th>\n",
       "    </tr>\n",
       "  </thead>\n",
       "  <tbody>\n",
       "    <tr>\n",
       "      <th>Winterfell_r</th>\n",
       "      <td>7981</td>\n",
       "    </tr>\n",
       "    <tr>\n",
       "      <th>Winterfell_l</th>\n",
       "      <td>15355</td>\n",
       "    </tr>\n",
       "    <tr>\n",
       "      <th>Kings_Landing_r</th>\n",
       "      <td>6307</td>\n",
       "    </tr>\n",
       "    <tr>\n",
       "      <th>Kings_Landing_l</th>\n",
       "      <td>3823</td>\n",
       "    </tr>\n",
       "    <tr>\n",
       "      <th>Astapor_r</th>\n",
       "      <td>4022</td>\n",
       "    </tr>\n",
       "    <tr>\n",
       "      <th>Astapor_l</th>\n",
       "      <td>12512</td>\n",
       "    </tr>\n",
       "  </tbody>\n",
       "</table>\n",
       "</div>"
      ],
      "text/plain": [
       "                 users\n",
       "Winterfell_r      7981\n",
       "Winterfell_l     15355\n",
       "Kings_Landing_r   6307\n",
       "Kings_Landing_l   3823\n",
       "Astapor_r         4022\n",
       "Astapor_l        12512"
      ]
     },
     "execution_count": 55,
     "metadata": {},
     "output_type": "execute_result"
    }
   ],
   "source": [
    "#creating a dict to hold these values\n",
    "city_dict = {}\n",
    "city_dict['Winterfell_r'] = 7981\n",
    "city_dict['Winterfell_l'] = 15355\n",
    "city_dict['Kings_Landing_r'] = 6307\n",
    "city_dict['Kings_Landing_l'] = 3823\n",
    "city_dict['Astapor_r'] = 4022\n",
    "city_dict['Astapor_l'] = 12512\n",
    "\n",
    "city_df = pd.DataFrame.from_dict(city_dict, orient = 'index', columns = ['users'])\n",
    "city_df.head(6)"
   ]
  },
  {
   "cell_type": "markdown",
   "metadata": {},
   "source": [
    "in terms of user retainability, it looks as though astapor has the hardest time, not by much, but by a meaning full. The other two cities of Winterfell and Kings Landing have an approximate retainability of 50%, therefore there must be something in Astapor, perhaps competition or less reason to use a transportation service, that is causing the weakness."
   ]
  },
  {
   "cell_type": "code",
   "execution_count": 57,
   "metadata": {},
   "outputs": [
    {
     "data": {
      "text/plain": [
       "iPhone     15238\n",
       "Android     2942\n",
       "unknown      130\n",
       "Name: phone, dtype: int64"
      ]
     },
     "execution_count": 57,
     "metadata": {},
     "output_type": "execute_result"
    }
   ],
   "source": [
    "#now we'll look at phone types\n",
    "df_simplified['phone'].loc[df['retained'] == True].value_counts()"
   ]
  },
  {
   "cell_type": "code",
   "execution_count": 59,
   "metadata": {},
   "outputs": [
    {
     "data": {
      "text/plain": [
       "iPhone     19344\n",
       "Android    12080\n",
       "unknown      266\n",
       "Name: phone, dtype: int64"
      ]
     },
     "execution_count": 59,
     "metadata": {},
     "output_type": "execute_result"
    }
   ],
   "source": [
    "df_simplified['phone'].loc[df['retained'] == False].value_counts()"
   ]
  },
  {
   "cell_type": "markdown",
   "metadata": {},
   "source": [
    "I did not expect there to be such a discrepancy between the two types. But it looks like here that the retained users are dominated by iphone handlers. This is interesting, there may be a difference in the application, perhaps it is not as optimized for android which causes frustration, or android users are more heavily marketed by a different transportation company"
   ]
  },
  {
   "cell_type": "markdown",
   "metadata": {},
   "source": [
    "## Predictative Modelling\n",
    "\n",
    "Are goal here is to see if we can determine if a user will be retained user after six months. I would like to create an open model, meaning that we can see which features are having the biggest impression on the target variable.\n",
    "Let's get started."
   ]
  },
  {
   "cell_type": "code",
   "execution_count": 60,
   "metadata": {},
   "outputs": [
    {
     "data": {
      "text/plain": [
       "False    31690\n",
       "True     18310\n",
       "Name: retained, dtype: int64"
      ]
     },
     "execution_count": 60,
     "metadata": {},
     "output_type": "execute_result"
    }
   ],
   "source": [
    "#looking at the comparison again\n",
    "df['retained'].value_counts()"
   ]
  },
  {
   "cell_type": "code",
   "execution_count": 61,
   "metadata": {},
   "outputs": [
    {
     "name": "stderr",
     "output_type": "stream",
     "text": [
      "C:\\Users\\elyse\\anaconda3\\lib\\site-packages\\pandas\\core\\indexing.py:670: SettingWithCopyWarning: \n",
      "A value is trying to be set on a copy of a slice from a DataFrame\n",
      "\n",
      "See the caveats in the documentation: https://pandas.pydata.org/pandas-docs/stable/user_guide/indexing.html#returning-a-view-versus-a-copy\n",
      "  self._setitem_with_indexer(indexer, value)\n"
     ]
    },
    {
     "data": {
      "text/plain": [
       "0    31690\n",
       "1    18310\n",
       "Name: retained, dtype: int64"
      ]
     },
     "execution_count": 61,
     "metadata": {},
     "output_type": "execute_result"
    }
   ],
   "source": [
    "#need to turn this into 0's and 1's\n",
    "df['retained'].loc[df['retained'] == True] = 1\n",
    "df['retained'].loc[df['retained'] == False] = 0\n",
    "df['retained'].value_counts()\n"
   ]
  },
  {
   "cell_type": "code",
   "execution_count": 65,
   "metadata": {},
   "outputs": [],
   "source": [
    "#We do not need signups, or last trips. These numbers will simply be throwing off the algorithm because of how we are getting retention\n",
    "\n",
    "df.drop(columns = ['signup_year', 'signup_month', 'signup_day','last_trip_month', 'last_trip_year','last_trip_day'], inplace = True)"
   ]
  },
  {
   "cell_type": "code",
   "execution_count": 66,
   "metadata": {},
   "outputs": [
    {
     "data": {
      "text/plain": [
       "Index(['trips_in_first_30_days', 'avg_rating_of_driver', 'avg_surge',\n",
       "       'surge_pct', 'ultimate_black_user', 'weekday_pct', 'avg_dist',\n",
       "       'avg_rating_by_driver', 'avg_rating_of_driver_isnull', 'phone_isnull',\n",
       "       'avg_rating_by_driver_isnull', 'city_Astapor', 'city_King's Landing',\n",
       "       'city_Winterfell', 'phone_Android', 'phone_iPhone', 'phone_unknown',\n",
       "       'retained'],\n",
       "      dtype='object')"
      ]
     },
     "execution_count": 66,
     "metadata": {},
     "output_type": "execute_result"
    }
   ],
   "source": [
    "df.columns"
   ]
  },
  {
   "cell_type": "code",
   "execution_count": 68,
   "metadata": {},
   "outputs": [
    {
     "data": {
      "text/plain": [
       "Index(['trips_in_first_30_days', 'avg_rating_of_driver', 'avg_surge',\n",
       "       'surge_pct', 'ultimate_black_user', 'weekday_pct', 'avg_dist',\n",
       "       'avg_rating_by_driver', 'phone_isnull', 'city_Astapor',\n",
       "       'city_King's Landing', 'city_Winterfell', 'phone_Android',\n",
       "       'phone_iPhone', 'phone_unknown', 'retained'],\n",
       "      dtype='object')"
      ]
     },
     "execution_count": 68,
     "metadata": {},
     "output_type": "execute_result"
    }
   ],
   "source": [
    "#we can also drop the isnulls now I do not see them being important features\n",
    "df.drop(columns = ['avg_rating_of_driver_isnull', 'avg_rating_by_driver_isnull'], inplace = True)\n",
    "df.columns"
   ]
  },
  {
   "cell_type": "code",
   "execution_count": 79,
   "metadata": {},
   "outputs": [],
   "source": [
    "#forgot to drop phon_isnull\n",
    "df.drop(columns = ['phone_isnull'], inplace = True)"
   ]
  },
  {
   "cell_type": "code",
   "execution_count": 80,
   "metadata": {},
   "outputs": [],
   "source": [
    "from sklearn.linear_model import LogisticRegression\n",
    "from sklearn.metrics import classification_report\n",
    "from sklearn.model_selection import train_test_split"
   ]
  },
  {
   "cell_type": "code",
   "execution_count": 88,
   "metadata": {},
   "outputs": [
    {
     "data": {
      "text/plain": [
       "trips_in_first_30_days      int64\n",
       "avg_rating_of_driver        int32\n",
       "avg_surge                 float64\n",
       "surge_pct                 float64\n",
       "ultimate_black_user        object\n",
       "weekday_pct               float64\n",
       "avg_dist                  float64\n",
       "avg_rating_by_driver      float64\n",
       "city_Astapor                uint8\n",
       "city_King's Landing         uint8\n",
       "city_Winterfell             uint8\n",
       "phone_Android               uint8\n",
       "phone_iPhone                uint8\n",
       "phone_unknown               uint8\n",
       "retained                   object\n",
       "dtype: object"
      ]
     },
     "execution_count": 88,
     "metadata": {},
     "output_type": "execute_result"
    }
   ],
   "source": [
    "df.dtypes"
   ]
  },
  {
   "cell_type": "code",
   "execution_count": 97,
   "metadata": {},
   "outputs": [],
   "source": [
    "#So I was running into some errors, it was reccomended that I turn the floats into ints where possible\n",
    "#first make a copy\n",
    "df_2 = df.copy()\n",
    "def int_convert(df_col_list):\n",
    "    for i in df_col_list:\n",
    "        df[i] = df[i].astype('int')\n",
    "int_convert(['avg_surge', 'surge_pct', 'weekday_pct', 'avg_dist','avg_rating_by_driver', 'avg_rating_of_driver', 'ultimate_black_user', 'retained'])"
   ]
  },
  {
   "cell_type": "code",
   "execution_count": 98,
   "metadata": {},
   "outputs": [],
   "source": [
    "#splitting the data\n",
    "X = df.drop(columns = ['retained'])\n",
    "y = df['retained']\n",
    "X_train, X_test, y_train, y_test = train_test_split(X,y, train_size = 0.3, random_state = 44)"
   ]
  },
  {
   "cell_type": "code",
   "execution_count": 106,
   "metadata": {},
   "outputs": [
    {
     "name": "stdout",
     "output_type": "stream",
     "text": [
      "[0 0 0 0 0 0 0 0 0 0 0 0 0 0 0 0 1 0 0 0 0 0 0 0 1 0 0 0 0 1 0 0 0 0 0 0 0\n",
      " 1 0 0 0 0 0 0 0 1 0 1 0 0 0 0 0 1 0 0 0 0 0 0 0 0 0 0 0 0 0 0 1 0 1 0 0 0\n",
      " 0 0 0 1 0 0 0 0 0 0 1 0 0 0 0 0 1 0 0 0 0 0 0 0 0 0]\n"
     ]
    }
   ],
   "source": [
    "LogReg = LogisticRegression(penalty='l2', C=0.001, solver='lbfgs', max_iter=1000, tol=0.001).fit(X_train, y_train)\n",
    "logreg_pred = LogReg.predict(X_test)\n",
    "print(logreg_pred[0:100])"
   ]
  },
  {
   "cell_type": "code",
   "execution_count": 107,
   "metadata": {},
   "outputs": [
    {
     "name": "stdout",
     "output_type": "stream",
     "text": [
      "              precision    recall  f1-score   support\n",
      "\n",
      "           0       0.71      0.93      0.80     22119\n",
      "           1       0.75      0.33      0.46     12881\n",
      "\n",
      "    accuracy                           0.71     35000\n",
      "   macro avg       0.73      0.63      0.63     35000\n",
      "weighted avg       0.72      0.71      0.68     35000\n",
      "\n"
     ]
    }
   ],
   "source": [
    "print(classification_report(y_test, logreg_pred))"
   ]
  },
  {
   "cell_type": "markdown",
   "metadata": {},
   "source": [
    "okay so now that we are getting in motion here, we have a lot of room to tweak and test."
   ]
  },
  {
   "cell_type": "code",
   "execution_count": 111,
   "metadata": {},
   "outputs": [
    {
     "data": {
      "text/plain": [
       "GridSearchCV(cv=None, error_score=nan,\n",
       "             estimator=LogisticRegression(C=1.0, class_weight=None, dual=False,\n",
       "                                          fit_intercept=True,\n",
       "                                          intercept_scaling=1, l1_ratio=None,\n",
       "                                          max_iter=100, multi_class='auto',\n",
       "                                          n_jobs=None, penalty='l2',\n",
       "                                          random_state=None, solver='lbfgs',\n",
       "                                          tol=0.0001, verbose=0,\n",
       "                                          warm_start=False),\n",
       "             iid='deprecated', n_jobs=None,\n",
       "             param_grid={'C': (0.01, 0.1, 1, 10, 100),\n",
       "                         'max_iter': (1000, 10000), 'tol': (0.001, 0.01)},\n",
       "             pre_dispatch='2*n_jobs', refit=True, return_train_score=False,\n",
       "             scoring=None, verbose=0)"
      ]
     },
     "execution_count": 111,
     "metadata": {},
     "output_type": "execute_result"
    }
   ],
   "source": [
    "from sklearn.model_selection import GridSearchCV\n",
    "parameters1 = {'tol' : (.001, .01), 'C' : (.01, .1, 1, 10, 100),'max_iter' : (1000, 10000)}\n",
    "LogReg = LogisticRegression()\n",
    "clf = GridSearchCV(LogReg, parameters1)\n",
    "clf.fit(X_train, y_train)"
   ]
  },
  {
   "cell_type": "code",
   "execution_count": 113,
   "metadata": {},
   "outputs": [
    {
     "data": {
      "text/plain": [
       "dict_keys(['mean_fit_time', 'std_fit_time', 'mean_score_time', 'std_score_time', 'param_C', 'param_max_iter', 'param_tol', 'params', 'split0_test_score', 'split1_test_score', 'split2_test_score', 'split3_test_score', 'split4_test_score', 'mean_test_score', 'std_test_score', 'rank_test_score'])"
      ]
     },
     "execution_count": 113,
     "metadata": {},
     "output_type": "execute_result"
    }
   ],
   "source": [
    "clf.cv_results_.keys()"
   ]
  },
  {
   "cell_type": "code",
   "execution_count": 119,
   "metadata": {},
   "outputs": [],
   "source": [
    "clf_predict1 = clf.predict(X_test)"
   ]
  },
  {
   "cell_type": "code",
   "execution_count": 120,
   "metadata": {},
   "outputs": [
    {
     "name": "stdout",
     "output_type": "stream",
     "text": [
      "              precision    recall  f1-score   support\n",
      "\n",
      "           0       0.87      0.75      0.81     25477\n",
      "           1       0.51      0.69      0.59      9523\n",
      "\n",
      "    accuracy                           0.74     35000\n",
      "   macro avg       0.69      0.72      0.70     35000\n",
      "weighted avg       0.77      0.74      0.75     35000\n",
      "\n"
     ]
    }
   ],
   "source": [
    "print(classification_report(clf_predict1, y_test))"
   ]
  },
  {
   "cell_type": "code",
   "execution_count": 121,
   "metadata": {},
   "outputs": [
    {
     "data": {
      "text/plain": [
       "0.7309333333333333"
      ]
     },
     "execution_count": 121,
     "metadata": {},
     "output_type": "execute_result"
    }
   ],
   "source": [
    "clf.best_score_"
   ]
  },
  {
   "cell_type": "code",
   "execution_count": 122,
   "metadata": {},
   "outputs": [
    {
     "data": {
      "text/plain": [
       "LogisticRegression(C=0.1, class_weight=None, dual=False, fit_intercept=True,\n",
       "                   intercept_scaling=1, l1_ratio=None, max_iter=1000,\n",
       "                   multi_class='auto', n_jobs=None, penalty='l2',\n",
       "                   random_state=None, solver='lbfgs', tol=0.001, verbose=0,\n",
       "                   warm_start=False)"
      ]
     },
     "execution_count": 122,
     "metadata": {},
     "output_type": "execute_result"
    }
   ],
   "source": [
    "clf.best_estimator_"
   ]
  },
  {
   "cell_type": "code",
   "execution_count": 123,
   "metadata": {},
   "outputs": [
    {
     "data": {
      "text/plain": [
       "GridSearchCV(cv=None, error_score=nan,\n",
       "             estimator=RandomForestClassifier(bootstrap=True, ccp_alpha=0.0,\n",
       "                                              class_weight=None,\n",
       "                                              criterion='gini', max_depth=None,\n",
       "                                              max_features='auto',\n",
       "                                              max_leaf_nodes=None,\n",
       "                                              max_samples=None,\n",
       "                                              min_impurity_decrease=0.0,\n",
       "                                              min_impurity_split=None,\n",
       "                                              min_samples_leaf=1,\n",
       "                                              min_samples_split=2,\n",
       "                                              min_weight_fraction_leaf=0.0,\n",
       "                                              n_estimators=100, n_jobs=None,\n",
       "                                              oob_score=False,\n",
       "                                              random_state=None, verbose=0,\n",
       "                                              warm_start=False),\n",
       "             iid='deprecated', n_jobs=None,\n",
       "             param_grid={'max_depth': (5, 10, 20, 30, None),\n",
       "                         'n_estimators': (100, 1000)},\n",
       "             pre_dispatch='2*n_jobs', refit=True, return_train_score=False,\n",
       "             scoring=None, verbose=0)"
      ]
     },
     "execution_count": 123,
     "metadata": {},
     "output_type": "execute_result"
    }
   ],
   "source": [
    "#I am a fan of random forests, let's see if how that algorithm handles this data\n",
    "from sklearn.ensemble import RandomForestClassifier\n",
    "rfc = RandomForestClassifier()\n",
    "parameters_rfc = {'n_estimators' : (100, 1000), 'max_depth': (5, 10, 20, 30, None)} #simple, nothing crazy to see here\n",
    "clf = GridSearchCV(rfc, parameters_rfc)\n",
    "clf.fit(X_train, y_train)"
   ]
  },
  {
   "cell_type": "code",
   "execution_count": 124,
   "metadata": {},
   "outputs": [
    {
     "data": {
      "text/plain": [
       "RandomForestClassifier(bootstrap=True, ccp_alpha=0.0, class_weight=None,\n",
       "                       criterion='gini', max_depth=10, max_features='auto',\n",
       "                       max_leaf_nodes=None, max_samples=None,\n",
       "                       min_impurity_decrease=0.0, min_impurity_split=None,\n",
       "                       min_samples_leaf=1, min_samples_split=2,\n",
       "                       min_weight_fraction_leaf=0.0, n_estimators=1000,\n",
       "                       n_jobs=None, oob_score=False, random_state=None,\n",
       "                       verbose=0, warm_start=False)"
      ]
     },
     "execution_count": 124,
     "metadata": {},
     "output_type": "execute_result"
    }
   ],
   "source": [
    "clf.best_estimator_"
   ]
  },
  {
   "cell_type": "code",
   "execution_count": 125,
   "metadata": {},
   "outputs": [
    {
     "data": {
      "text/plain": [
       "0.7817999999999999"
      ]
     },
     "execution_count": 125,
     "metadata": {},
     "output_type": "execute_result"
    }
   ],
   "source": [
    "clf.best_score_"
   ]
  },
  {
   "cell_type": "code",
   "execution_count": 126,
   "metadata": {},
   "outputs": [],
   "source": [
    "clf_predict2 = clf.predict(X_test)"
   ]
  },
  {
   "cell_type": "code",
   "execution_count": 128,
   "metadata": {},
   "outputs": [
    {
     "name": "stdout",
     "output_type": "stream",
     "text": [
      "              precision    recall  f1-score   support\n",
      "\n",
      "           0       0.87      0.81      0.84     23823\n",
      "           1       0.64      0.74      0.69     11177\n",
      "\n",
      "    accuracy                           0.79     35000\n",
      "   macro avg       0.76      0.77      0.76     35000\n",
      "weighted avg       0.80      0.79      0.79     35000\n",
      "\n"
     ]
    }
   ],
   "source": [
    "print(classification_report(clf_predict2, y_test))"
   ]
  },
  {
   "cell_type": "markdown",
   "metadata": {},
   "source": [
    "We were able to improve the model using some basic random forest machine learning. While this is not perfect, the precision of 64 for 1 shows that we are able to determine an idea of what makes a user stick around. We should be able to dig deeper now."
   ]
  },
  {
   "cell_type": "code",
   "execution_count": 129,
   "metadata": {},
   "outputs": [
    {
     "name": "stdout",
     "output_type": "stream",
     "text": [
      "[0.23598939 0.61399872 0.13459489 ... 0.03483623 0.11763107 0.88213753]\n"
     ]
    }
   ],
   "source": [
    "from sklearn.metrics import roc_curve\n",
    "y_pred_prob_clf_rfc = clf.predict_proba(X_test)[:,1]\n",
    "print(y_pred_prob_clf_rfc)"
   ]
  },
  {
   "cell_type": "code",
   "execution_count": 131,
   "metadata": {},
   "outputs": [
    {
     "data": {
      "image/png": "[encoded data removed]",
      "text/plain": [
       "<Figure size 432x288 with 1 Axes>"
      ]
     },
     "metadata": {
      "needs_background": "light"
     },
     "output_type": "display_data"
    }
   ],
   "source": [
    "#setting up an ROC curve\n",
    "fpr, tpr, thresholds = roc_curve(y_test, y_pred_prob_clf_rfc)\n",
    "\n",
    "plt.plot([0, 1], [0, 1], 'k--')\n",
    "plt.plot(fpr, tpr, label='Random Forest')\n",
    "plt.xlabel('False Positive Rate')\n",
    "plt.ylabel('True Positive Rate')\n",
    "plt.title('Random Forest')\n",
    "plt.show();"
   ]
  },
  {
   "cell_type": "code",
   "execution_count": 133,
   "metadata": {},
   "outputs": [
    {
     "name": "stdout",
     "output_type": "stream",
     "text": [
      "0.8490754161807628\n"
     ]
    }
   ],
   "source": [
    "from sklearn.metrics import roc_auc_score\n",
    "auc_score = roc_auc_score(y_test, y_pred_prob_clf_rfc)\n",
    "print(auc_score)"
   ]
  },
  {
   "cell_type": "code",
   "execution_count": 134,
   "metadata": {},
   "outputs": [],
   "source": [
    "from sklearn.metrics import precision_recall_curve\n",
    "from sklearn.metrics import f1_score\n",
    "from sklearn.metrics import auc"
   ]
  },
  {
   "cell_type": "code",
   "execution_count": 135,
   "metadata": {},
   "outputs": [
    {
     "name": "stdout",
     "output_type": "stream",
     "text": [
      "Random Forest: f1=0.687 auc=0.773\n"
     ]
    }
   ],
   "source": [
    "#setting up a precision - recall curve\n",
    "clf_rfc_precision, clf_rfc_recall, _ = precision_recall_curve(y_test, y_pred_prob_clf_rfc)\n",
    "clf_rfc_f1_score, clf_rfc_auc = f1_score(y_test, clf_predict2), auc(clf_rfc_recall, clf_rfc_precision)\n",
    "print('Random Forest: f1=%.3f auc=%.3f' % (clf_rfc_f1_score, clf_rfc_auc))"
   ]
  },
  {
   "cell_type": "code",
   "execution_count": 137,
   "metadata": {},
   "outputs": [
    {
     "data": {
      "image/png": "[encoded data removed]",
      "text/plain": [
       "<Figure size 432x288 with 1 Axes>"
      ]
     },
     "metadata": {
      "needs_background": "light"
     },
     "output_type": "display_data"
    }
   ],
   "source": [
    "plain = len(y_test[y_test==1]) / len(y_test)\n",
    "plt.plot([0, 1], [plain, plain], linestyle='--', label='Plain')\n",
    "plt.plot(clf_rfc_recall, clf_rfc_precision, marker='.', label='Best Random Forest Classifier')\n",
    "plt.xlabel('Recall')\n",
    "plt.ylabel('Precision')\n",
    "plt.legend()\n",
    "plt.show()"
   ]
  },
  {
   "cell_type": "markdown",
   "metadata": {},
   "source": [
    "While this is nice to look at, it doesn't answer what I set out for early on. I wanted to see which feature had the biggest impression on the model. So let's look at that now."
   ]
  },
  {
   "cell_type": "code",
   "execution_count": 140,
   "metadata": {},
   "outputs": [
    {
     "name": "stdout",
     "output_type": "stream",
     "text": [
      "{'max_depth': 10, 'n_estimators': 1000}\n",
      "RandomForestClassifier(bootstrap=True, ccp_alpha=0.0, class_weight=None,\n",
      "                       criterion='gini', max_depth=10, max_features='auto',\n",
      "                       max_leaf_nodes=None, max_samples=None,\n",
      "                       min_impurity_decrease=0.0, min_impurity_split=None,\n",
      "                       min_samples_leaf=1, min_samples_split=2,\n",
      "                       min_weight_fraction_leaf=0.0, n_estimators=1000,\n",
      "                       n_jobs=None, oob_score=False, random_state=None,\n",
      "                       verbose=0, warm_start=False)\n"
     ]
    }
   ],
   "source": [
    "#first we need to actually run the random forest, because the clf doesn't have coefs\n",
    "print(clf.best_params_)\n",
    "print(clf.best_estimator_)"
   ]
  },
  {
   "cell_type": "code",
   "execution_count": 142,
   "metadata": {},
   "outputs": [
    {
     "data": {
      "text/plain": [
       "array([0.09102991, 0.02902327, 0.00375868, 0.15217398, 0.0626982 ,\n",
       "       0.14799754, 0.06823274, 0.15442613, 0.03984489, 0.11914957,\n",
       "       0.0246404 , 0.05680247, 0.04800734, 0.00221486])"
      ]
     },
     "execution_count": 142,
     "metadata": {},
     "output_type": "execute_result"
    }
   ],
   "source": [
    "rfc2 =RandomForestClassifier(max_depth = 10, n_estimators = 1000)\n",
    "rfc2.fit(X_train, y_train)\n",
    "rfc2.feature_importances_"
   ]
  },
  {
   "cell_type": "code",
   "execution_count": 144,
   "metadata": {},
   "outputs": [
    {
     "name": "stdout",
     "output_type": "stream",
     "text": [
      "trips_in_first_30_days    0.091030\n",
      "avg_rating_of_driver      0.029023\n",
      "avg_surge                 0.003759\n",
      "surge_pct                 0.152174\n",
      "ultimate_black_user       0.062698\n",
      "weekday_pct               0.147998\n",
      "avg_dist                  0.068233\n",
      "avg_rating_by_driver      0.154426\n",
      "city_Astapor              0.039845\n",
      "city_King's Landing       0.119150\n",
      "city_Winterfell           0.024640\n",
      "phone_Android             0.056802\n",
      "phone_iPhone              0.048007\n",
      "phone_unknown             0.002215\n",
      "dtype: float64\n"
     ]
    }
   ],
   "source": [
    "rfc_fi = rfc2.feature_importances_\n",
    "rfc_fi_series = pd.Series(rfc_fi, index=X_train.columns) \n",
    "print(rfc_fi_series)"
   ]
  },
  {
   "cell_type": "code",
   "execution_count": 149,
   "metadata": {},
   "outputs": [
    {
     "name": "stdout",
     "output_type": "stream",
     "text": [
      "trips_in_first_30_days    0.589473\n",
      "avg_rating_of_driver      0.187943\n",
      "avg_surge                 0.024340\n",
      "surge_pct                 0.985417\n",
      "ultimate_black_user       0.406008\n",
      "weekday_pct               0.958372\n",
      "avg_dist                  0.441848\n",
      "avg_rating_by_driver      1.000001\n",
      "city_Astapor              0.258019\n",
      "city_King's Landing       0.771564\n",
      "city_Winterfell           0.159561\n",
      "phone_Android             0.367830\n",
      "phone_iPhone              0.310876\n",
      "phone_unknown             0.014343\n",
      "dtype: float64\n"
     ]
    }
   ],
   "source": [
    "#just for ease of viewing, I'm going to increase these numbers\n",
    "m = 1 / 0.154426\n",
    "print(rfc_fi_series * m)\n"
   ]
  },
  {
   "cell_type": "markdown",
   "metadata": {},
   "source": [
    "Looking at this here and also knowing what we have seen from the visualization above we can determine some factors.\n",
    "1. It looks like the avg_rating by driver has the highest impact to our Random Forest, if users are rated negatively, they are most likely less willing to use the applications.\n",
    "2. We see here that the surge percentage shows that the user is paying attention to the promotion. So we can assume that the person has a growing investment with the app and they are utilizing it's features, which is a good sign for retention.\n",
    "3. It looks like the third most influential feature to the model was whether the user used the app during the week. This would show whether or not the user grows a relationship with the application and the more they use it for day-to-day activities, the more likely they will stick around.\n",
    "4. From our viz we also saw that the city and device type played a role, would mean that the company could try and increase marketing or appeal to the weaker city of Astapor and to android users.\n",
    "5. We also see that users that had more trips in the first 30 days are just in fact likely to stick around. This could mean that they are satisfied enough with the app to repeat using it.\n",
    "\n"
   ]
  },
  {
   "cell_type": "code",
   "execution_count": null,
   "metadata": {},
   "outputs": [],
   "source": []
  }
 ],
 "metadata": {
  "kernelspec": {
   "display_name": "Python 3",
   "language": "python",
   "name": "python3"
  },
  "language_info": {
   "codemirror_mode": {
    "name": "ipython",
    "version": 3
   },
   "file_extension": ".py",
   "mimetype": "text/x-python",
   "name": "python",
   "nbconvert_exporter": "python",
   "pygments_lexer": "ipython3",
   "version": "3.7.6"
  }
 },
 "nbformat": 4,
 "nbformat_minor": 4
}
